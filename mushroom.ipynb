{
 "cells": [
  {
   "cell_type": "code",
   "execution_count": 1,
   "id": "c309cba1-9697-4456-ac32-a6632f7406ec",
   "metadata": {},
   "outputs": [],
   "source": [
    "import pandas as pd\n",
    "import numpy as np"
   ]
  },
  {
   "cell_type": "code",
   "execution_count": 2,
   "id": "7469345c-91ab-4e5e-bdb0-5237b720eb42",
   "metadata": {},
   "outputs": [],
   "source": [
    "df = pd.read_csv('mushroom_cleaned.csv')"
   ]
  },
  {
   "cell_type": "code",
   "execution_count": 3,
   "id": "2d14251a-cdbb-4a9e-a8e9-bae1c0a9f5b7",
   "metadata": {},
   "outputs": [
    {
     "data": {
      "text/html": [
       "<div>\n",
       "<style scoped>\n",
       "    .dataframe tbody tr th:only-of-type {\n",
       "        vertical-align: middle;\n",
       "    }\n",
       "\n",
       "    .dataframe tbody tr th {\n",
       "        vertical-align: top;\n",
       "    }\n",
       "\n",
       "    .dataframe thead th {\n",
       "        text-align: right;\n",
       "    }\n",
       "</style>\n",
       "<table border=\"1\" class=\"dataframe\">\n",
       "  <thead>\n",
       "    <tr style=\"text-align: right;\">\n",
       "      <th></th>\n",
       "      <th>cap-diameter</th>\n",
       "      <th>cap-shape</th>\n",
       "      <th>gill-attachment</th>\n",
       "      <th>gill-color</th>\n",
       "      <th>stem-height</th>\n",
       "      <th>stem-width</th>\n",
       "      <th>stem-color</th>\n",
       "      <th>season</th>\n",
       "      <th>class</th>\n",
       "    </tr>\n",
       "  </thead>\n",
       "  <tbody>\n",
       "    <tr>\n",
       "      <th>0</th>\n",
       "      <td>1372</td>\n",
       "      <td>2</td>\n",
       "      <td>2</td>\n",
       "      <td>10</td>\n",
       "      <td>3.807467</td>\n",
       "      <td>1545</td>\n",
       "      <td>11</td>\n",
       "      <td>1.804273</td>\n",
       "      <td>1</td>\n",
       "    </tr>\n",
       "    <tr>\n",
       "      <th>1</th>\n",
       "      <td>1461</td>\n",
       "      <td>2</td>\n",
       "      <td>2</td>\n",
       "      <td>10</td>\n",
       "      <td>3.807467</td>\n",
       "      <td>1557</td>\n",
       "      <td>11</td>\n",
       "      <td>1.804273</td>\n",
       "      <td>1</td>\n",
       "    </tr>\n",
       "    <tr>\n",
       "      <th>2</th>\n",
       "      <td>1371</td>\n",
       "      <td>2</td>\n",
       "      <td>2</td>\n",
       "      <td>10</td>\n",
       "      <td>3.612496</td>\n",
       "      <td>1566</td>\n",
       "      <td>11</td>\n",
       "      <td>1.804273</td>\n",
       "      <td>1</td>\n",
       "    </tr>\n",
       "    <tr>\n",
       "      <th>3</th>\n",
       "      <td>1261</td>\n",
       "      <td>6</td>\n",
       "      <td>2</td>\n",
       "      <td>10</td>\n",
       "      <td>3.787572</td>\n",
       "      <td>1566</td>\n",
       "      <td>11</td>\n",
       "      <td>1.804273</td>\n",
       "      <td>1</td>\n",
       "    </tr>\n",
       "    <tr>\n",
       "      <th>4</th>\n",
       "      <td>1305</td>\n",
       "      <td>6</td>\n",
       "      <td>2</td>\n",
       "      <td>10</td>\n",
       "      <td>3.711971</td>\n",
       "      <td>1464</td>\n",
       "      <td>11</td>\n",
       "      <td>0.943195</td>\n",
       "      <td>1</td>\n",
       "    </tr>\n",
       "  </tbody>\n",
       "</table>\n",
       "</div>"
      ],
      "text/plain": [
       "   cap-diameter  cap-shape  gill-attachment  gill-color  stem-height  \\\n",
       "0          1372          2                2          10     3.807467   \n",
       "1          1461          2                2          10     3.807467   \n",
       "2          1371          2                2          10     3.612496   \n",
       "3          1261          6                2          10     3.787572   \n",
       "4          1305          6                2          10     3.711971   \n",
       "\n",
       "   stem-width  stem-color    season  class  \n",
       "0        1545          11  1.804273      1  \n",
       "1        1557          11  1.804273      1  \n",
       "2        1566          11  1.804273      1  \n",
       "3        1566          11  1.804273      1  \n",
       "4        1464          11  0.943195      1  "
      ]
     },
     "execution_count": 3,
     "metadata": {},
     "output_type": "execute_result"
    }
   ],
   "source": [
    "df.head()"
   ]
  },
  {
   "cell_type": "code",
   "execution_count": 4,
   "id": "1395d559-523c-4311-b126-d983e617cb39",
   "metadata": {},
   "outputs": [
    {
     "name": "stdout",
     "output_type": "stream",
     "text": [
      "<class 'pandas.core.frame.DataFrame'>\n",
      "RangeIndex: 54035 entries, 0 to 54034\n",
      "Data columns (total 9 columns):\n",
      " #   Column           Non-Null Count  Dtype  \n",
      "---  ------           --------------  -----  \n",
      " 0   cap-diameter     54035 non-null  int64  \n",
      " 1   cap-shape        54035 non-null  int64  \n",
      " 2   gill-attachment  54035 non-null  int64  \n",
      " 3   gill-color       54035 non-null  int64  \n",
      " 4   stem-height      54035 non-null  float64\n",
      " 5   stem-width       54035 non-null  int64  \n",
      " 6   stem-color       54035 non-null  int64  \n",
      " 7   season           54035 non-null  float64\n",
      " 8   class            54035 non-null  int64  \n",
      "dtypes: float64(2), int64(7)\n",
      "memory usage: 3.7 MB\n"
     ]
    }
   ],
   "source": [
    "df.info()"
   ]
  },
  {
   "cell_type": "code",
   "execution_count": 5,
   "id": "980eaf14-a513-4c53-a6b9-b743112c9689",
   "metadata": {},
   "outputs": [
    {
     "data": {
      "text/plain": [
       "cap-diameter       0\n",
       "cap-shape          0\n",
       "gill-attachment    0\n",
       "gill-color         0\n",
       "stem-height        0\n",
       "stem-width         0\n",
       "stem-color         0\n",
       "season             0\n",
       "class              0\n",
       "dtype: int64"
      ]
     },
     "execution_count": 5,
     "metadata": {},
     "output_type": "execute_result"
    }
   ],
   "source": [
    "df.isnull().sum()"
   ]
  },
  {
   "cell_type": "code",
   "execution_count": 6,
   "id": "dc52a4a4-e5a6-44d4-b3fc-28fc8f27f750",
   "metadata": {},
   "outputs": [
    {
     "data": {
      "text/plain": [
       "Index(['cap-diameter', 'cap-shape', 'gill-attachment', 'gill-color',\n",
       "       'stem-height', 'stem-width', 'stem-color', 'season', 'class'],\n",
       "      dtype='object')"
      ]
     },
     "execution_count": 6,
     "metadata": {},
     "output_type": "execute_result"
    }
   ],
   "source": [
    "df.columns"
   ]
  },
  {
   "cell_type": "code",
   "execution_count": 7,
   "id": "355ff91b-6183-4654-a226-ab82b7f51a58",
   "metadata": {},
   "outputs": [
    {
     "data": {
      "text/plain": [
       "array([1, 0], dtype=int64)"
      ]
     },
     "execution_count": 7,
     "metadata": {},
     "output_type": "execute_result"
    }
   ],
   "source": [
    "df['class'].unique()"
   ]
  },
  {
   "cell_type": "code",
   "execution_count": 10,
   "id": "6b1af9f3-0141-4a68-9b76-5770a2e26e82",
   "metadata": {},
   "outputs": [],
   "source": [
    "df = df.rename(columns={'cap-diameter': 'kapak-çapi',\n",
    "                        'cap-shape': 'kapak-sekli',\n",
    "                        'gill-attachment': 'solungac-baglantisi',\n",
    "                        'gill-color': 'solungac-rengi',\n",
    "                        'stem-height': 'sap-yuksekligi',\n",
    "                        'stem-width': 'sap-genisligi',\n",
    "                        'stem-color': 'sap-rengi',\n",
    "                        'season': 'mevsim',\n",
    "                        'class': 'sinif'})"
   ]
  },
  {
   "cell_type": "code",
   "execution_count": 11,
   "id": "ec20ea05-54b7-4247-aac0-fe284fefc16b",
   "metadata": {},
   "outputs": [
    {
     "data": {
      "text/html": [
       "<div>\n",
       "<style scoped>\n",
       "    .dataframe tbody tr th:only-of-type {\n",
       "        vertical-align: middle;\n",
       "    }\n",
       "\n",
       "    .dataframe tbody tr th {\n",
       "        vertical-align: top;\n",
       "    }\n",
       "\n",
       "    .dataframe thead th {\n",
       "        text-align: right;\n",
       "    }\n",
       "</style>\n",
       "<table border=\"1\" class=\"dataframe\">\n",
       "  <thead>\n",
       "    <tr style=\"text-align: right;\">\n",
       "      <th></th>\n",
       "      <th>kapak-çapi</th>\n",
       "      <th>kapak-sekli</th>\n",
       "      <th>solungac-baglantisi</th>\n",
       "      <th>solungac-rengi</th>\n",
       "      <th>sap-yuksekligi</th>\n",
       "      <th>sap-genisligi</th>\n",
       "      <th>sap-rengi</th>\n",
       "      <th>mevsim</th>\n",
       "      <th>sinif</th>\n",
       "    </tr>\n",
       "  </thead>\n",
       "  <tbody>\n",
       "    <tr>\n",
       "      <th>0</th>\n",
       "      <td>1372</td>\n",
       "      <td>2</td>\n",
       "      <td>2</td>\n",
       "      <td>10</td>\n",
       "      <td>3.807467</td>\n",
       "      <td>1545</td>\n",
       "      <td>11</td>\n",
       "      <td>1.804273</td>\n",
       "      <td>1</td>\n",
       "    </tr>\n",
       "    <tr>\n",
       "      <th>1</th>\n",
       "      <td>1461</td>\n",
       "      <td>2</td>\n",
       "      <td>2</td>\n",
       "      <td>10</td>\n",
       "      <td>3.807467</td>\n",
       "      <td>1557</td>\n",
       "      <td>11</td>\n",
       "      <td>1.804273</td>\n",
       "      <td>1</td>\n",
       "    </tr>\n",
       "    <tr>\n",
       "      <th>2</th>\n",
       "      <td>1371</td>\n",
       "      <td>2</td>\n",
       "      <td>2</td>\n",
       "      <td>10</td>\n",
       "      <td>3.612496</td>\n",
       "      <td>1566</td>\n",
       "      <td>11</td>\n",
       "      <td>1.804273</td>\n",
       "      <td>1</td>\n",
       "    </tr>\n",
       "    <tr>\n",
       "      <th>3</th>\n",
       "      <td>1261</td>\n",
       "      <td>6</td>\n",
       "      <td>2</td>\n",
       "      <td>10</td>\n",
       "      <td>3.787572</td>\n",
       "      <td>1566</td>\n",
       "      <td>11</td>\n",
       "      <td>1.804273</td>\n",
       "      <td>1</td>\n",
       "    </tr>\n",
       "    <tr>\n",
       "      <th>4</th>\n",
       "      <td>1305</td>\n",
       "      <td>6</td>\n",
       "      <td>2</td>\n",
       "      <td>10</td>\n",
       "      <td>3.711971</td>\n",
       "      <td>1464</td>\n",
       "      <td>11</td>\n",
       "      <td>0.943195</td>\n",
       "      <td>1</td>\n",
       "    </tr>\n",
       "  </tbody>\n",
       "</table>\n",
       "</div>"
      ],
      "text/plain": [
       "   kapak-çapi  kapak-sekli  solungac-baglantisi  solungac-rengi  \\\n",
       "0        1372            2                    2              10   \n",
       "1        1461            2                    2              10   \n",
       "2        1371            2                    2              10   \n",
       "3        1261            6                    2              10   \n",
       "4        1305            6                    2              10   \n",
       "\n",
       "   sap-yuksekligi  sap-genisligi  sap-rengi    mevsim  sinif  \n",
       "0        3.807467           1545         11  1.804273      1  \n",
       "1        3.807467           1557         11  1.804273      1  \n",
       "2        3.612496           1566         11  1.804273      1  \n",
       "3        3.787572           1566         11  1.804273      1  \n",
       "4        3.711971           1464         11  0.943195      1  "
      ]
     },
     "execution_count": 11,
     "metadata": {},
     "output_type": "execute_result"
    }
   ],
   "source": [
    "df.head()"
   ]
  },
  {
   "cell_type": "code",
   "execution_count": 12,
   "id": "a6971412-87ee-41f8-8ca1-0699d142aba4",
   "metadata": {},
   "outputs": [
    {
     "data": {
      "text/plain": [
       "kapak-çapi               int64\n",
       "kapak-sekli              int64\n",
       "solungac-baglantisi      int64\n",
       "solungac-rengi           int64\n",
       "sap-yuksekligi         float64\n",
       "sap-genisligi            int64\n",
       "sap-rengi                int64\n",
       "mevsim                 float64\n",
       "sinif                    int64\n",
       "dtype: object"
      ]
     },
     "execution_count": 12,
     "metadata": {},
     "output_type": "execute_result"
    }
   ],
   "source": [
    "df.dtypes"
   ]
  },
  {
   "cell_type": "code",
   "execution_count": 16,
   "id": "6b2c0a37-336c-4ef0-9ce9-d93bce509bb5",
   "metadata": {},
   "outputs": [],
   "source": [
    "df = df.astype('float64')"
   ]
  },
  {
   "cell_type": "code",
   "execution_count": 17,
   "id": "c68d8735-817e-47aa-8bb0-b9a934a83bd5",
   "metadata": {},
   "outputs": [
    {
     "data": {
      "text/plain": [
       "kapak-çapi             float64\n",
       "kapak-sekli            float64\n",
       "solungac-baglantisi    float64\n",
       "solungac-rengi         float64\n",
       "sap-yuksekligi         float64\n",
       "sap-genisligi          float64\n",
       "sap-rengi              float64\n",
       "mevsim                 float64\n",
       "sinif                  float64\n",
       "dtype: object"
      ]
     },
     "execution_count": 17,
     "metadata": {},
     "output_type": "execute_result"
    }
   ],
   "source": [
    "df.dtypes"
   ]
  },
  {
   "cell_type": "code",
   "execution_count": 20,
   "id": "5e217d80-a83b-4268-aee7-02e7f87a1c9a",
   "metadata": {},
   "outputs": [],
   "source": [
    "x = df.drop(['sinif'],axis=1)\n",
    "y = df['sinif']"
   ]
  },
  {
   "cell_type": "code",
   "execution_count": 21,
   "id": "a2a51879-58c3-42f1-8c69-a96b84579822",
   "metadata": {},
   "outputs": [],
   "source": [
    "from sklearn.model_selection import train_test_split\n",
    "x_train,x_test,y_train,y_test = train_test_split(x,y,train_size = 0.70,random_state = 42)"
   ]
  },
  {
   "cell_type": "code",
   "execution_count": 23,
   "id": "245e2c9a-eb50-408f-a765-e837393c3218",
   "metadata": {},
   "outputs": [
    {
     "name": "stdout",
     "output_type": "stream",
     "text": [
      "Epoch 1/64\n",
      "237/237 [==============================] - 2s 5ms/step - loss: 0.9490 - accuracy: 0.5669 - val_loss: 0.6747 - val_accuracy: 0.5974\n",
      "Epoch 2/64\n",
      "237/237 [==============================] - 1s 3ms/step - loss: 0.6909 - accuracy: 0.5868 - val_loss: 0.8186 - val_accuracy: 0.5685\n",
      "Epoch 3/64\n",
      "237/237 [==============================] - 1s 3ms/step - loss: 0.6899 - accuracy: 0.5853 - val_loss: 0.6839 - val_accuracy: 0.5708\n",
      "Epoch 4/64\n",
      "237/237 [==============================] - 1s 3ms/step - loss: 0.6666 - accuracy: 0.5943 - val_loss: 0.6665 - val_accuracy: 0.5572\n",
      "Epoch 5/64\n",
      "237/237 [==============================] - 1s 3ms/step - loss: 0.6615 - accuracy: 0.5920 - val_loss: 0.6483 - val_accuracy: 0.5976\n",
      "Epoch 6/64\n",
      "237/237 [==============================] - 1s 3ms/step - loss: 0.6522 - accuracy: 0.5976 - val_loss: 0.6428 - val_accuracy: 0.5993\n",
      "Epoch 7/64\n",
      "237/237 [==============================] - 1s 3ms/step - loss: 0.6409 - accuracy: 0.6068 - val_loss: 0.6396 - val_accuracy: 0.5915\n",
      "Epoch 8/64\n",
      "237/237 [==============================] - 1s 3ms/step - loss: 0.6284 - accuracy: 0.6186 - val_loss: 0.6333 - val_accuracy: 0.5773\n",
      "Epoch 9/64\n",
      "237/237 [==============================] - 1s 3ms/step - loss: 0.6235 - accuracy: 0.6227 - val_loss: 0.6331 - val_accuracy: 0.5786\n",
      "Epoch 10/64\n",
      "237/237 [==============================] - 1s 3ms/step - loss: 0.6207 - accuracy: 0.6242 - val_loss: 0.6552 - val_accuracy: 0.5676\n",
      "Epoch 11/64\n",
      "237/237 [==============================] - 1s 3ms/step - loss: 0.6190 - accuracy: 0.6243 - val_loss: 0.6205 - val_accuracy: 0.6389\n",
      "Epoch 12/64\n",
      "237/237 [==============================] - 1s 3ms/step - loss: 0.6168 - accuracy: 0.6252 - val_loss: 0.6198 - val_accuracy: 0.6094\n",
      "Epoch 13/64\n",
      "237/237 [==============================] - 1s 3ms/step - loss: 0.6104 - accuracy: 0.6363 - val_loss: 0.6052 - val_accuracy: 0.6258\n",
      "Epoch 14/64\n",
      "237/237 [==============================] - 1s 3ms/step - loss: 0.6201 - accuracy: 0.6185 - val_loss: 0.6043 - val_accuracy: 0.6104\n",
      "Epoch 15/64\n",
      "237/237 [==============================] - 1s 3ms/step - loss: 0.6059 - accuracy: 0.6350 - val_loss: 0.6135 - val_accuracy: 0.6444\n",
      "Epoch 16/64\n",
      "237/237 [==============================] - 1s 3ms/step - loss: 0.6042 - accuracy: 0.6404 - val_loss: 0.6298 - val_accuracy: 0.5837\n",
      "Epoch 17/64\n",
      "237/237 [==============================] - 1s 3ms/step - loss: 0.6110 - accuracy: 0.6309 - val_loss: 0.6104 - val_accuracy: 0.6155\n",
      "Epoch 18/64\n",
      "237/237 [==============================] - 1s 3ms/step - loss: 0.5981 - accuracy: 0.6472 - val_loss: 0.6023 - val_accuracy: 0.6452\n",
      "Epoch 19/64\n",
      "237/237 [==============================] - 1s 3ms/step - loss: 0.5898 - accuracy: 0.6604 - val_loss: 0.5887 - val_accuracy: 0.6605\n",
      "Epoch 20/64\n",
      "237/237 [==============================] - 1s 3ms/step - loss: 0.5954 - accuracy: 0.6536 - val_loss: 0.5907 - val_accuracy: 0.6512\n",
      "Epoch 21/64\n",
      "237/237 [==============================] - 1s 3ms/step - loss: 0.5850 - accuracy: 0.6564 - val_loss: 0.5821 - val_accuracy: 0.6693\n",
      "Epoch 22/64\n",
      "237/237 [==============================] - 1s 3ms/step - loss: 0.5831 - accuracy: 0.6636 - val_loss: 0.5873 - val_accuracy: 0.6549\n",
      "Epoch 23/64\n",
      "237/237 [==============================] - 1s 3ms/step - loss: 0.5739 - accuracy: 0.6672 - val_loss: 0.5868 - val_accuracy: 0.6673\n",
      "Epoch 24/64\n",
      "237/237 [==============================] - 1s 4ms/step - loss: 0.5756 - accuracy: 0.6640 - val_loss: 0.5985 - val_accuracy: 0.6161\n",
      "Epoch 25/64\n",
      "237/237 [==============================] - 1s 4ms/step - loss: 0.5743 - accuracy: 0.6627 - val_loss: 0.5720 - val_accuracy: 0.6601\n",
      "Epoch 26/64\n",
      "237/237 [==============================] - 1s 4ms/step - loss: 0.5663 - accuracy: 0.6720 - val_loss: 0.5723 - val_accuracy: 0.6698\n",
      "Epoch 27/64\n",
      "237/237 [==============================] - 1s 4ms/step - loss: 0.5632 - accuracy: 0.6736 - val_loss: 0.5671 - val_accuracy: 0.6640\n",
      "Epoch 28/64\n",
      "237/237 [==============================] - 1s 3ms/step - loss: 0.5593 - accuracy: 0.6766 - val_loss: 0.5636 - val_accuracy: 0.6656\n",
      "Epoch 29/64\n",
      "237/237 [==============================] - 1s 3ms/step - loss: 0.5511 - accuracy: 0.6824 - val_loss: 0.5569 - val_accuracy: 0.6723\n",
      "Epoch 30/64\n",
      "237/237 [==============================] - 1s 3ms/step - loss: 0.5533 - accuracy: 0.6787 - val_loss: 0.5565 - val_accuracy: 0.6790\n",
      "Epoch 31/64\n",
      "237/237 [==============================] - 1s 3ms/step - loss: 0.5420 - accuracy: 0.6885 - val_loss: 0.5515 - val_accuracy: 0.6683\n",
      "Epoch 32/64\n",
      "237/237 [==============================] - 1s 3ms/step - loss: 0.5369 - accuracy: 0.6883 - val_loss: 0.5533 - val_accuracy: 0.6748\n",
      "Epoch 33/64\n",
      "237/237 [==============================] - 1s 3ms/step - loss: 0.5298 - accuracy: 0.6932 - val_loss: 0.5222 - val_accuracy: 0.6912\n",
      "Epoch 34/64\n",
      "237/237 [==============================] - 1s 3ms/step - loss: 0.5229 - accuracy: 0.7018 - val_loss: 0.5471 - val_accuracy: 0.6810\n",
      "Epoch 35/64\n",
      "237/237 [==============================] - 1s 3ms/step - loss: 0.5166 - accuracy: 0.7006 - val_loss: 0.5299 - val_accuracy: 0.6804\n",
      "Epoch 36/64\n",
      "237/237 [==============================] - 1s 3ms/step - loss: 0.5108 - accuracy: 0.7110 - val_loss: 0.5351 - val_accuracy: 0.7039\n",
      "Epoch 37/64\n",
      "237/237 [==============================] - 1s 3ms/step - loss: 0.5008 - accuracy: 0.7176 - val_loss: 0.4919 - val_accuracy: 0.7236\n",
      "Epoch 38/64\n",
      "237/237 [==============================] - 1s 3ms/step - loss: 0.4963 - accuracy: 0.7222 - val_loss: 0.5016 - val_accuracy: 0.6978\n",
      "Epoch 39/64\n",
      "237/237 [==============================] - 1s 3ms/step - loss: 0.4826 - accuracy: 0.7307 - val_loss: 0.5538 - val_accuracy: 0.6658\n",
      "Epoch 40/64\n",
      "237/237 [==============================] - 1s 3ms/step - loss: 0.4849 - accuracy: 0.7332 - val_loss: 0.4673 - val_accuracy: 0.7580\n",
      "Epoch 41/64\n",
      "237/237 [==============================] - 1s 3ms/step - loss: 0.4661 - accuracy: 0.7497 - val_loss: 0.4717 - val_accuracy: 0.7413\n",
      "Epoch 42/64\n",
      "237/237 [==============================] - 1s 3ms/step - loss: 0.4553 - accuracy: 0.7594 - val_loss: 0.4456 - val_accuracy: 0.7671\n",
      "Epoch 43/64\n",
      "237/237 [==============================] - 1s 3ms/step - loss: 0.4570 - accuracy: 0.7580 - val_loss: 0.4887 - val_accuracy: 0.7358\n",
      "Epoch 44/64\n",
      "237/237 [==============================] - 1s 3ms/step - loss: 0.4386 - accuracy: 0.7726 - val_loss: 0.4233 - val_accuracy: 0.7921\n",
      "Epoch 45/64\n",
      "237/237 [==============================] - 1s 3ms/step - loss: 0.4410 - accuracy: 0.7721 - val_loss: 0.4192 - val_accuracy: 0.7947\n",
      "Epoch 46/64\n",
      "237/237 [==============================] - 1s 3ms/step - loss: 0.4193 - accuracy: 0.7853 - val_loss: 0.4152 - val_accuracy: 0.7900\n",
      "Epoch 47/64\n",
      "237/237 [==============================] - 1s 3ms/step - loss: 0.4226 - accuracy: 0.7837 - val_loss: 0.4031 - val_accuracy: 0.8093\n",
      "Epoch 48/64\n",
      "237/237 [==============================] - 1s 3ms/step - loss: 0.3991 - accuracy: 0.8023 - val_loss: 0.3764 - val_accuracy: 0.8192\n",
      "Epoch 49/64\n",
      "237/237 [==============================] - 1s 3ms/step - loss: 0.3991 - accuracy: 0.8003 - val_loss: 0.4005 - val_accuracy: 0.8052\n",
      "Epoch 50/64\n",
      "237/237 [==============================] - 1s 3ms/step - loss: 0.3807 - accuracy: 0.8147 - val_loss: 0.3737 - val_accuracy: 0.8173\n",
      "Epoch 51/64\n",
      "237/237 [==============================] - 1s 3ms/step - loss: 0.3715 - accuracy: 0.8201 - val_loss: 0.3874 - val_accuracy: 0.8046\n",
      "Epoch 52/64\n",
      "237/237 [==============================] - 1s 3ms/step - loss: 0.3648 - accuracy: 0.8251 - val_loss: 0.3517 - val_accuracy: 0.8371\n",
      "Epoch 53/64\n",
      "237/237 [==============================] - 1s 4ms/step - loss: 0.3558 - accuracy: 0.8307 - val_loss: 0.3440 - val_accuracy: 0.8394\n",
      "Epoch 54/64\n",
      "237/237 [==============================] - 1s 4ms/step - loss: 0.3481 - accuracy: 0.8345 - val_loss: 0.4556 - val_accuracy: 0.7680\n",
      "Epoch 55/64\n",
      "237/237 [==============================] - 1s 4ms/step - loss: 0.3467 - accuracy: 0.8326 - val_loss: 0.3407 - val_accuracy: 0.8349\n",
      "Epoch 56/64\n",
      "237/237 [==============================] - 1s 3ms/step - loss: 0.3238 - accuracy: 0.8514 - val_loss: 0.4050 - val_accuracy: 0.7948\n",
      "Epoch 57/64\n",
      "237/237 [==============================] - 1s 3ms/step - loss: 0.3246 - accuracy: 0.8499 - val_loss: 0.3267 - val_accuracy: 0.8424\n",
      "Epoch 58/64\n",
      "237/237 [==============================] - 1s 4ms/step - loss: 0.3013 - accuracy: 0.8641 - val_loss: 0.3028 - val_accuracy: 0.8631\n",
      "Epoch 59/64\n",
      "237/237 [==============================] - 1s 4ms/step - loss: 0.2928 - accuracy: 0.8689 - val_loss: 0.3127 - val_accuracy: 0.8599\n",
      "Epoch 60/64\n",
      "237/237 [==============================] - 1s 3ms/step - loss: 0.3130 - accuracy: 0.8581 - val_loss: 0.4449 - val_accuracy: 0.7833\n",
      "Epoch 61/64\n",
      "237/237 [==============================] - 1s 3ms/step - loss: 0.2877 - accuracy: 0.8703 - val_loss: 0.2829 - val_accuracy: 0.8802\n",
      "Epoch 62/64\n",
      "237/237 [==============================] - 1s 3ms/step - loss: 0.2926 - accuracy: 0.8715 - val_loss: 0.3103 - val_accuracy: 0.8627\n",
      "Epoch 63/64\n",
      "237/237 [==============================] - 1s 3ms/step - loss: 0.2828 - accuracy: 0.8752 - val_loss: 0.2626 - val_accuracy: 0.8911\n",
      "Epoch 64/64\n",
      "237/237 [==============================] - 1s 3ms/step - loss: 0.2740 - accuracy: 0.8775 - val_loss: 0.2667 - val_accuracy: 0.8841\n"
     ]
    },
    {
     "data": {
      "text/plain": [
       "<keras.callbacks.History at 0x26b0d873ee0>"
      ]
     },
     "execution_count": 23,
     "metadata": {},
     "output_type": "execute_result"
    }
   ],
   "source": [
    "from keras.models import Sequential\n",
    "from keras.layers import Dense\n",
    "\n",
    "model = Sequential()\n",
    "\n",
    "model.add(Dense(16))\n",
    "model.add(Dense(32,activation=\"relu\"))\n",
    "model.add(Dense(64,activation=\"relu\"))\n",
    "model.add(Dense(32,activation=\"relu\"))\n",
    "model.add(Dense(32,activation=\"relu\"))\n",
    "model.add(Dense(64,activation=\"relu\"))\n",
    "model.add(Dense(32,activation=\"relu\"))\n",
    "model.add(Dense(1,activation=\"sigmoid\"))\n",
    "\n",
    "model.compile(loss=\"binary_crossentropy\",optimizer=\"adam\",metrics=[\"accuracy\"])\n",
    "\n",
    "model.fit(x=x_train,y=y_train,epochs=64,batch_size=128,validation_split=0.2)"
   ]
  },
  {
   "cell_type": "code",
   "execution_count": 24,
   "id": "b9ba1a1a-240c-40cb-957b-2f21aa716317",
   "metadata": {},
   "outputs": [
    {
     "name": "stdout",
     "output_type": "stream",
     "text": [
      "Model: \"sequential_1\"\n",
      "_________________________________________________________________\n",
      " Layer (type)                Output Shape              Param #   \n",
      "=================================================================\n",
      " dense_2 (Dense)             (None, 16)                144       \n",
      "                                                                 \n",
      " dense_3 (Dense)             (None, 32)                544       \n",
      "                                                                 \n",
      " dense_4 (Dense)             (None, 64)                2112      \n",
      "                                                                 \n",
      " dense_5 (Dense)             (None, 32)                2080      \n",
      "                                                                 \n",
      " dense_6 (Dense)             (None, 32)                1056      \n",
      "                                                                 \n",
      " dense_7 (Dense)             (None, 64)                2112      \n",
      "                                                                 \n",
      " dense_8 (Dense)             (None, 32)                2080      \n",
      "                                                                 \n",
      " dense_9 (Dense)             (None, 1)                 33        \n",
      "                                                                 \n",
      "=================================================================\n",
      "Total params: 10,161\n",
      "Trainable params: 10,161\n",
      "Non-trainable params: 0\n",
      "_________________________________________________________________\n"
     ]
    }
   ],
   "source": [
    "model.summary()"
   ]
  },
  {
   "cell_type": "code",
   "execution_count": 52,
   "id": "1c41c5ce-f1e0-475b-978c-bfc39707d574",
   "metadata": {},
   "outputs": [
    {
     "data": {
      "text/html": [
       "<div>\n",
       "<style scoped>\n",
       "    .dataframe tbody tr th:only-of-type {\n",
       "        vertical-align: middle;\n",
       "    }\n",
       "\n",
       "    .dataframe tbody tr th {\n",
       "        vertical-align: top;\n",
       "    }\n",
       "\n",
       "    .dataframe thead th {\n",
       "        text-align: right;\n",
       "    }\n",
       "</style>\n",
       "<table border=\"1\" class=\"dataframe\">\n",
       "  <thead>\n",
       "    <tr style=\"text-align: right;\">\n",
       "      <th></th>\n",
       "      <th>kapak-çapi</th>\n",
       "      <th>kapak-sekli</th>\n",
       "      <th>solungac-baglantisi</th>\n",
       "      <th>solungac-rengi</th>\n",
       "      <th>sap-yuksekligi</th>\n",
       "      <th>sap-genisligi</th>\n",
       "      <th>sap-rengi</th>\n",
       "      <th>mevsim</th>\n",
       "    </tr>\n",
       "  </thead>\n",
       "  <tbody>\n",
       "    <tr>\n",
       "      <th>14085</th>\n",
       "      <td>826.0</td>\n",
       "      <td>2.0</td>\n",
       "      <td>0.0</td>\n",
       "      <td>10.0</td>\n",
       "      <td>0.044195</td>\n",
       "      <td>2433.0</td>\n",
       "      <td>6.0</td>\n",
       "      <td>1.804273</td>\n",
       "    </tr>\n",
       "    <tr>\n",
       "      <th>19006</th>\n",
       "      <td>571.0</td>\n",
       "      <td>6.0</td>\n",
       "      <td>2.0</td>\n",
       "      <td>4.0</td>\n",
       "      <td>0.536738</td>\n",
       "      <td>761.0</td>\n",
       "      <td>4.0</td>\n",
       "      <td>0.943195</td>\n",
       "    </tr>\n",
       "    <tr>\n",
       "      <th>50623</th>\n",
       "      <td>1122.0</td>\n",
       "      <td>2.0</td>\n",
       "      <td>0.0</td>\n",
       "      <td>0.0</td>\n",
       "      <td>0.450051</td>\n",
       "      <td>1942.0</td>\n",
       "      <td>11.0</td>\n",
       "      <td>0.943195</td>\n",
       "    </tr>\n",
       "    <tr>\n",
       "      <th>41819</th>\n",
       "      <td>278.0</td>\n",
       "      <td>2.0</td>\n",
       "      <td>0.0</td>\n",
       "      <td>4.0</td>\n",
       "      <td>0.190566</td>\n",
       "      <td>576.0</td>\n",
       "      <td>11.0</td>\n",
       "      <td>0.943195</td>\n",
       "    </tr>\n",
       "    <tr>\n",
       "      <th>8085</th>\n",
       "      <td>735.0</td>\n",
       "      <td>2.0</td>\n",
       "      <td>6.0</td>\n",
       "      <td>10.0</td>\n",
       "      <td>1.455884</td>\n",
       "      <td>1077.0</td>\n",
       "      <td>11.0</td>\n",
       "      <td>0.888450</td>\n",
       "    </tr>\n",
       "    <tr>\n",
       "      <th>22341</th>\n",
       "      <td>428.0</td>\n",
       "      <td>5.0</td>\n",
       "      <td>0.0</td>\n",
       "      <td>10.0</td>\n",
       "      <td>0.489841</td>\n",
       "      <td>668.0</td>\n",
       "      <td>12.0</td>\n",
       "      <td>0.943195</td>\n",
       "    </tr>\n",
       "    <tr>\n",
       "      <th>24446</th>\n",
       "      <td>767.0</td>\n",
       "      <td>2.0</td>\n",
       "      <td>6.0</td>\n",
       "      <td>10.0</td>\n",
       "      <td>0.064090</td>\n",
       "      <td>1649.0</td>\n",
       "      <td>11.0</td>\n",
       "      <td>0.888450</td>\n",
       "    </tr>\n",
       "    <tr>\n",
       "      <th>25018</th>\n",
       "      <td>1057.0</td>\n",
       "      <td>5.0</td>\n",
       "      <td>6.0</td>\n",
       "      <td>5.0</td>\n",
       "      <td>0.003553</td>\n",
       "      <td>2052.0</td>\n",
       "      <td>8.0</td>\n",
       "      <td>1.804273</td>\n",
       "    </tr>\n",
       "    <tr>\n",
       "      <th>28701</th>\n",
       "      <td>325.0</td>\n",
       "      <td>2.0</td>\n",
       "      <td>1.0</td>\n",
       "      <td>7.0</td>\n",
       "      <td>0.529631</td>\n",
       "      <td>555.0</td>\n",
       "      <td>3.0</td>\n",
       "      <td>0.943195</td>\n",
       "    </tr>\n",
       "    <tr>\n",
       "      <th>23309</th>\n",
       "      <td>892.0</td>\n",
       "      <td>6.0</td>\n",
       "      <td>6.0</td>\n",
       "      <td>10.0</td>\n",
       "      <td>1.089817</td>\n",
       "      <td>2492.0</td>\n",
       "      <td>11.0</td>\n",
       "      <td>0.888450</td>\n",
       "    </tr>\n",
       "  </tbody>\n",
       "</table>\n",
       "</div>"
      ],
      "text/plain": [
       "       kapak-çapi  kapak-sekli  solungac-baglantisi  solungac-rengi  \\\n",
       "14085       826.0          2.0                  0.0            10.0   \n",
       "19006       571.0          6.0                  2.0             4.0   \n",
       "50623      1122.0          2.0                  0.0             0.0   \n",
       "41819       278.0          2.0                  0.0             4.0   \n",
       "8085        735.0          2.0                  6.0            10.0   \n",
       "22341       428.0          5.0                  0.0            10.0   \n",
       "24446       767.0          2.0                  6.0            10.0   \n",
       "25018      1057.0          5.0                  6.0             5.0   \n",
       "28701       325.0          2.0                  1.0             7.0   \n",
       "23309       892.0          6.0                  6.0            10.0   \n",
       "\n",
       "       sap-yuksekligi  sap-genisligi  sap-rengi    mevsim  \n",
       "14085        0.044195         2433.0        6.0  1.804273  \n",
       "19006        0.536738          761.0        4.0  0.943195  \n",
       "50623        0.450051         1942.0       11.0  0.943195  \n",
       "41819        0.190566          576.0       11.0  0.943195  \n",
       "8085         1.455884         1077.0       11.0  0.888450  \n",
       "22341        0.489841          668.0       12.0  0.943195  \n",
       "24446        0.064090         1649.0       11.0  0.888450  \n",
       "25018        0.003553         2052.0        8.0  1.804273  \n",
       "28701        0.529631          555.0        3.0  0.943195  \n",
       "23309        1.089817         2492.0       11.0  0.888450  "
      ]
     },
     "execution_count": 52,
     "metadata": {},
     "output_type": "execute_result"
    }
   ],
   "source": [
    "x_test.head(10)"
   ]
  },
  {
   "cell_type": "code",
   "execution_count": 31,
   "id": "22037a08-0125-4207-9077-c29eed276a8f",
   "metadata": {},
   "outputs": [
    {
     "data": {
      "text/plain": [
       "kapak-çapi              94.000000\n",
       "kapak-sekli              6.000000\n",
       "solungac-baglantisi      1.000000\n",
       "solungac-rengi           5.000000\n",
       "sap-yuksekligi           1.866572\n",
       "sap-genisligi          193.000000\n",
       "sap-rengi                6.000000\n",
       "mevsim                   0.888450\n",
       "Name: 12418, dtype: float64"
      ]
     },
     "execution_count": 31,
     "metadata": {},
     "output_type": "execute_result"
    }
   ],
   "source": [
    "x_test.iloc[14085]"
   ]
  },
  {
   "cell_type": "code",
   "execution_count": 59,
   "id": "9c4648b0-a538-4cc9-873b-f4c696197af0",
   "metadata": {},
   "outputs": [
    {
     "name": "stdout",
     "output_type": "stream",
     "text": [
      "1/1 [==============================] - 0s 27ms/step\n",
      "[[0.9999995]]\n"
     ]
    }
   ],
   "source": [
    "deneme = model.predict(np.expand_dims(x_test.iloc[14085], axis=0))\n",
    "print(deneme)"
   ]
  },
  {
   "cell_type": "code",
   "execution_count": 57,
   "id": "8fbfb70e-1e3b-4bf6-b8ba-c95cc1ff2a73",
   "metadata": {},
   "outputs": [
    {
     "data": {
      "text/plain": [
       "1.0"
      ]
     },
     "execution_count": 57,
     "metadata": {},
     "output_type": "execute_result"
    }
   ],
   "source": [
    "y_test.iloc[14085]"
   ]
  },
  {
   "cell_type": "code",
   "execution_count": 62,
   "id": "3093996c-50ef-4c2a-a1c6-e4afe8deead4",
   "metadata": {},
   "outputs": [
    {
     "name": "stdout",
     "output_type": "stream",
     "text": [
      "1/1 [==============================] - 0s 22ms/step\n",
      "[[0.22233652]]\n"
     ]
    }
   ],
   "source": [
    "tahmin = np.array([[1400,3,2,12,4,1600,13,2]])\n",
    "tahmin_sonuc = model.predict(tahmin)\n",
    "print(tahmin_sonuc)"
   ]
  },
  {
   "cell_type": "code",
   "execution_count": 63,
   "id": "9b1158d5-fd86-4ac2-86b3-1f4f50b1c386",
   "metadata": {},
   "outputs": [
    {
     "name": "stdout",
     "output_type": "stream",
     "text": [
      "       kapak-çapi  kapak-sekli  solungac-baglantisi  solungac-rengi  \\\n",
      "14085       826.0          2.0                  0.0            10.0   \n",
      "\n",
      "       sap-yuksekligi  sap-genisligi  sap-rengi    mevsim  \n",
      "14085        0.044195         2433.0        6.0  1.804273  \n",
      "14085    0.0\n",
      "Name: sinif, dtype: float64\n"
     ]
    }
   ],
   "source": [
    "print(x_test.head(1))\n",
    "print(y_test.head(1))"
   ]
  },
  {
   "cell_type": "code",
   "execution_count": 64,
   "id": "897ce531-81e3-4dae-97a8-b5743a59918c",
   "metadata": {},
   "outputs": [
    {
     "name": "stdout",
     "output_type": "stream",
     "text": [
      "1/1 [==============================] - 0s 18ms/step\n",
      "[[0.14113219]]\n"
     ]
    }
   ],
   "source": [
    "tahmin2 = np.array([[826,2,0,10,0.04,2433,6,1.80]])\n",
    "tahmin_sonuc2 = model.predict(tahmin2)\n",
    "print(tahmin_sonuc2)"
   ]
  },
  {
   "cell_type": "code",
   "execution_count": 65,
   "id": "64a1e2d7-4694-424c-a3f3-5aa975b156c7",
   "metadata": {},
   "outputs": [
    {
     "data": {
      "text/plain": [
       "0"
      ]
     },
     "execution_count": 65,
     "metadata": {},
     "output_type": "execute_result"
    }
   ],
   "source": [
    "np.argmax(tahmin_sonuc)"
   ]
  },
  {
   "cell_type": "code",
   "execution_count": 66,
   "id": "1ebb06dc-85c0-4278-b10f-c3035eb45b72",
   "metadata": {},
   "outputs": [
    {
     "data": {
      "text/plain": [
       "0"
      ]
     },
     "execution_count": 66,
     "metadata": {},
     "output_type": "execute_result"
    }
   ],
   "source": [
    "np.argmax(tahmin_sonuc2)"
   ]
  },
  {
   "cell_type": "code",
   "execution_count": null,
   "id": "be076267-cb73-49e7-9a4e-2eb1943b3c12",
   "metadata": {},
   "outputs": [],
   "source": []
  }
 ],
 "metadata": {
  "kernelspec": {
   "display_name": "Python 3 (ipykernel)",
   "language": "python",
   "name": "python3"
  },
  "language_info": {
   "codemirror_mode": {
    "name": "ipython",
    "version": 3
   },
   "file_extension": ".py",
   "mimetype": "text/x-python",
   "name": "python",
   "nbconvert_exporter": "python",
   "pygments_lexer": "ipython3",
   "version": "3.10.16"
  }
 },
 "nbformat": 4,
 "nbformat_minor": 5
}
