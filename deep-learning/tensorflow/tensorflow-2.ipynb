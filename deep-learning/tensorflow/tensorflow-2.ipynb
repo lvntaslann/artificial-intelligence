{
 "cells": [
  {
   "cell_type": "code",
   "execution_count": 2,
   "id": "d8ea4904-9708-4219-a6a4-b214d30ba67d",
   "metadata": {},
   "outputs": [],
   "source": [
    "import tensorflow as tf\n",
    "import datetime"
   ]
  },
  {
   "cell_type": "code",
   "execution_count": 4,
   "id": "f9356efa-595b-4d14-8d2a-1140932cea1a",
   "metadata": {},
   "outputs": [
    {
     "name": "stdout",
     "output_type": "stream",
     "text": [
      "Downloading data from https://storage.googleapis.com/tensorflow/tf-keras-datasets/mnist.npz\n",
      "11490434/11490434 [==============================] - 1s 0us/step\n"
     ]
    }
   ],
   "source": [
    "mnist = tf.keras.datasets.mnist\n",
    "(x_train,y_train),(x_test,y_test) = mnist.load_data()\n",
    "x_train,x_test = x_train/255.0, x_test /255.0"
   ]
  },
  {
   "cell_type": "code",
   "execution_count": 28,
   "id": "775ff0ea-85ab-4337-bd48-be515b1b01b9",
   "metadata": {},
   "outputs": [
    {
     "name": "stdout",
     "output_type": "stream",
     "text": [
      "(60000, 28, 28)\n",
      "(10000, 28, 28)\n",
      "float64\n"
     ]
    }
   ],
   "source": [
    "print(x_train.shape)\n",
    "print(x_test.shape)\n",
    "print(x_train.dtype)"
   ]
  },
  {
   "cell_type": "code",
   "execution_count": 13,
   "id": "09ec7834-5874-4d06-881f-98eb823ccbfd",
   "metadata": {},
   "outputs": [],
   "source": [
    "def create_model():\n",
    "    return tf.keras.models.Sequential([\n",
    "        tf.keras.layers.Flatten(input_shape=(28,28)),\n",
    "        tf.keras.layers.Dense(512,activation='relu'),\n",
    "        tf.keras.layers.Dropout(0.2),\n",
    "        tf.keras.layers.Dense(10,activation='softmax')\n",
    "    ])"
   ]
  },
  {
   "cell_type": "code",
   "execution_count": 39,
   "id": "79037a80-8c2e-41b1-9c8e-cbf126cc499e",
   "metadata": {},
   "outputs": [
    {
     "data": {
      "image/png": "[encoded data removed]",
      "text/plain": [
       "<Figure size 1000x500 with 10 Axes>"
      ]
     },
     "metadata": {},
     "output_type": "display_data"
    }
   ],
   "source": [
    "import matplotlib.pyplot as plt\n",
    "import numpy as np\n",
    "fig, axes = plt.subplots(2, 5, figsize=(10, 5))\n",
    "axes = axes.flatten()\n",
    "\n",
    "for i in range(10):\n",
    "    idx = np.random.randint(0, len(x_test))\n",
    "    axes[i].imshow(x_test[idx], cmap=\"gray\")\n",
    "    axes[i].set_title(f\"Label: {y_test[idx]}\")\n",
    "    axes[i].axis(\"off\")\n",
    "\n",
    "plt.tight_layout()\n",
    "plt.show()"
   ]
  },
  {
   "cell_type": "code",
   "execution_count": 19,
   "id": "973b407c-b7a8-49fd-9859-075f65217761",
   "metadata": {},
   "outputs": [
    {
     "name": "stdout",
     "output_type": "stream",
     "text": [
      "Epoch 1/5\n",
      "1875/1875 [==============================] - 3s 2ms/step - loss: 0.2214 - accuracy: 0.9349 - val_loss: 0.1106 - val_accuracy: 0.9652\n",
      "Epoch 2/5\n",
      "1875/1875 [==============================] - 3s 2ms/step - loss: 0.0976 - accuracy: 0.9707 - val_loss: 0.0829 - val_accuracy: 0.9740\n",
      "Epoch 3/5\n",
      "1875/1875 [==============================] - 3s 2ms/step - loss: 0.0693 - accuracy: 0.9783 - val_loss: 0.0624 - val_accuracy: 0.9811\n",
      "Epoch 4/5\n",
      "1875/1875 [==============================] - 3s 2ms/step - loss: 0.0536 - accuracy: 0.9831 - val_loss: 0.0677 - val_accuracy: 0.9801\n",
      "Epoch 5/5\n",
      "1875/1875 [==============================] - 3s 2ms/step - loss: 0.0440 - accuracy: 0.9860 - val_loss: 0.0701 - val_accuracy: 0.9792\n"
     ]
    },
    {
     "data": {
      "text/plain": [
       "<keras.callbacks.History at 0x21074b9e4a0>"
      ]
     },
     "execution_count": 19,
     "metadata": {},
     "output_type": "execute_result"
    }
   ],
   "source": [
    "model = create_model()\n",
    "model.compile(optimizer='adam',\n",
    "              loss = 'sparse_categorical_crossentropy',\n",
    "              metrics=['accuracy'])\n",
    "model.fit(x=x_train,\n",
    "         y=y_train,\n",
    "         epochs=5,\n",
    "         validation_data=(x_test,y_test),)"
   ]
  },
  {
   "cell_type": "code",
   "execution_count": 26,
   "id": "20466eae-9086-4070-9ad4-0fc865bbd02e",
   "metadata": {},
   "outputs": [
    {
     "name": "stdout",
     "output_type": "stream",
     "text": [
      "313/313 [==============================] - 0s 1ms/step\n"
     ]
    }
   ],
   "source": [
    "tahminler = model.predict(x_test)"
   ]
  },
  {
   "cell_type": "code",
   "execution_count": 32,
   "id": "15f17fb1-892f-421e-97b8-39cc4a10f6c5",
   "metadata": {},
   "outputs": [
    {
     "name": "stdout",
     "output_type": "stream",
     "text": [
      "tf.Tensor(\n",
      "[[ 969    0    1    0    2    2    2    1    2    1]\n",
      " [   0 1128    3    0    0    0    2    0    2    0]\n",
      " [   0    3 1014    0    1    0    0    8    5    1]\n",
      " [   0    1    5  976    0    2    0    8    8   10]\n",
      " [   0    0    7    0  957    0    0    3    1   14]\n",
      " [   2    0    0   12    2  862    2    0    7    5]\n",
      " [   1    2    2    1    4    9  938    0    1    0]\n",
      " [   0    3    6    0    1    0    0 1008    1    9]\n",
      " [   0    0    2    3    5    1    0    6  948    9]\n",
      " [   2    3    0    2    4    1    0    5    0  992]], shape=(10, 10), dtype=int32)\n"
     ]
    }
   ],
   "source": [
    "tahminler_sinif = tf.argmax(tahminler, axis=1)\n",
    "matris = tf.math.confusion_matrix(y_test, tahminler_sinif)\n",
    "print(matris)"
   ]
  },
  {
   "cell_type": "code",
   "execution_count": 40,
   "id": "8b3f6379-fa81-4cd2-be88-8679c2493fdd",
   "metadata": {},
   "outputs": [
    {
     "name": "stdout",
     "output_type": "stream",
     "text": [
      "313/313 [==============================] - 1s 2ms/step - loss: 0.0701 - accuracy: 0.9792\n"
     ]
    }
   ],
   "source": [
    "test_loss, test_acc = model.evaluate(x_test, y_test)"
   ]
  },
  {
   "cell_type": "code",
   "execution_count": 41,
   "id": "e3f159db-ac1b-4afb-928e-088529460073",
   "metadata": {},
   "outputs": [
    {
     "name": "stdout",
     "output_type": "stream",
     "text": [
      "0.07012886554002762\n",
      "0.979200005531311\n"
     ]
    }
   ],
   "source": [
    "print(test_loss)\n",
    "print(test_acc)"
   ]
  },
  {
   "cell_type": "code",
   "execution_count": null,
   "id": "f874dc1d-6f8d-4166-8fba-ef82dc83b56d",
   "metadata": {},
   "outputs": [],
   "source": []
  }
 ],
 "metadata": {
  "kernelspec": {
   "display_name": "Python 3 (ipykernel)",
   "language": "python",
   "name": "python3"
  },
  "language_info": {
   "codemirror_mode": {
    "name": "ipython",
    "version": 3
   },
   "file_extension": ".py",
   "mimetype": "text/x-python",
   "name": "python",
   "nbconvert_exporter": "python",
   "pygments_lexer": "ipython3",
   "version": "3.10.16"
  }
 },
 "nbformat": 4,
 "nbformat_minor": 5
}
