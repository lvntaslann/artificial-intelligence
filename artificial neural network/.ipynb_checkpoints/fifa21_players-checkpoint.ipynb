{
 "cells": [
  {
   "cell_type": "code",
   "execution_count": 1,
   "id": "987147bd-efda-4511-875d-8c157b19b3d2",
   "metadata": {},
   "outputs": [],
   "source": [
    "import numpy as np\n",
    "import pandas as pd\n",
    "import matplotlib.pyplot as plt\n",
    "import seaborn as sns"
   ]
  },
  {
   "cell_type": "code",
   "execution_count": 2,
   "id": "2added1f-1d83-4f50-a1cb-9a8089333022",
   "metadata": {},
   "outputs": [
    {
     "name": "stderr",
     "output_type": "stream",
     "text": [
      "C:\\Users\\kurt_\\AppData\\Local\\Temp\\ipykernel_7540\\2358894806.py:1: DtypeWarning: Columns (76) have mixed types. Specify dtype option on import or set low_memory=False.\n",
      "  df = pd.read_csv('fifa21.csv')\n"
     ]
    },
    {
     "data": {
      "text/html": [
       "<div>\n",
       "<style scoped>\n",
       "    .dataframe tbody tr th:only-of-type {\n",
       "        vertical-align: middle;\n",
       "    }\n",
       "\n",
       "    .dataframe tbody tr th {\n",
       "        vertical-align: top;\n",
       "    }\n",
       "\n",
       "    .dataframe thead th {\n",
       "        text-align: right;\n",
       "    }\n",
       "</style>\n",
       "<table border=\"1\" class=\"dataframe\">\n",
       "  <thead>\n",
       "    <tr style=\"text-align: right;\">\n",
       "      <th></th>\n",
       "      <th>ID</th>\n",
       "      <th>Name</th>\n",
       "      <th>LongName</th>\n",
       "      <th>photoUrl</th>\n",
       "      <th>playerUrl</th>\n",
       "      <th>Nationality</th>\n",
       "      <th>Age</th>\n",
       "      <th>↓OVA</th>\n",
       "      <th>POT</th>\n",
       "      <th>Club</th>\n",
       "      <th>...</th>\n",
       "      <th>A/W</th>\n",
       "      <th>D/W</th>\n",
       "      <th>IR</th>\n",
       "      <th>PAC</th>\n",
       "      <th>SHO</th>\n",
       "      <th>PAS</th>\n",
       "      <th>DRI</th>\n",
       "      <th>DEF</th>\n",
       "      <th>PHY</th>\n",
       "      <th>Hits</th>\n",
       "    </tr>\n",
       "  </thead>\n",
       "  <tbody>\n",
       "    <tr>\n",
       "      <th>0</th>\n",
       "      <td>158023</td>\n",
       "      <td>L. Messi</td>\n",
       "      <td>Lionel Messi</td>\n",
       "      <td>https://cdn.sofifa.com/players/158/023/21_60.png</td>\n",
       "      <td>http://sofifa.com/player/158023/lionel-messi/2...</td>\n",
       "      <td>Argentina</td>\n",
       "      <td>33</td>\n",
       "      <td>93</td>\n",
       "      <td>93</td>\n",
       "      <td>\\n\\n\\n\\nFC Barcelona</td>\n",
       "      <td>...</td>\n",
       "      <td>Medium</td>\n",
       "      <td>Low</td>\n",
       "      <td>5 ★</td>\n",
       "      <td>85</td>\n",
       "      <td>92</td>\n",
       "      <td>91</td>\n",
       "      <td>95</td>\n",
       "      <td>38</td>\n",
       "      <td>65</td>\n",
       "      <td>771</td>\n",
       "    </tr>\n",
       "    <tr>\n",
       "      <th>1</th>\n",
       "      <td>20801</td>\n",
       "      <td>Cristiano Ronaldo</td>\n",
       "      <td>C. Ronaldo dos Santos Aveiro</td>\n",
       "      <td>https://cdn.sofifa.com/players/020/801/21_60.png</td>\n",
       "      <td>http://sofifa.com/player/20801/c-ronaldo-dos-s...</td>\n",
       "      <td>Portugal</td>\n",
       "      <td>35</td>\n",
       "      <td>92</td>\n",
       "      <td>92</td>\n",
       "      <td>\\n\\n\\n\\nJuventus</td>\n",
       "      <td>...</td>\n",
       "      <td>High</td>\n",
       "      <td>Low</td>\n",
       "      <td>5 ★</td>\n",
       "      <td>89</td>\n",
       "      <td>93</td>\n",
       "      <td>81</td>\n",
       "      <td>89</td>\n",
       "      <td>35</td>\n",
       "      <td>77</td>\n",
       "      <td>562</td>\n",
       "    </tr>\n",
       "    <tr>\n",
       "      <th>2</th>\n",
       "      <td>200389</td>\n",
       "      <td>J. Oblak</td>\n",
       "      <td>Jan Oblak</td>\n",
       "      <td>https://cdn.sofifa.com/players/200/389/21_60.png</td>\n",
       "      <td>http://sofifa.com/player/200389/jan-oblak/210006/</td>\n",
       "      <td>Slovenia</td>\n",
       "      <td>27</td>\n",
       "      <td>91</td>\n",
       "      <td>93</td>\n",
       "      <td>\\n\\n\\n\\nAtlético Madrid</td>\n",
       "      <td>...</td>\n",
       "      <td>Medium</td>\n",
       "      <td>Medium</td>\n",
       "      <td>3 ★</td>\n",
       "      <td>87</td>\n",
       "      <td>92</td>\n",
       "      <td>78</td>\n",
       "      <td>90</td>\n",
       "      <td>52</td>\n",
       "      <td>90</td>\n",
       "      <td>150</td>\n",
       "    </tr>\n",
       "    <tr>\n",
       "      <th>3</th>\n",
       "      <td>192985</td>\n",
       "      <td>K. De Bruyne</td>\n",
       "      <td>Kevin De Bruyne</td>\n",
       "      <td>https://cdn.sofifa.com/players/192/985/21_60.png</td>\n",
       "      <td>http://sofifa.com/player/192985/kevin-de-bruyn...</td>\n",
       "      <td>Belgium</td>\n",
       "      <td>29</td>\n",
       "      <td>91</td>\n",
       "      <td>91</td>\n",
       "      <td>\\n\\n\\n\\nManchester City</td>\n",
       "      <td>...</td>\n",
       "      <td>High</td>\n",
       "      <td>High</td>\n",
       "      <td>4 ★</td>\n",
       "      <td>76</td>\n",
       "      <td>86</td>\n",
       "      <td>93</td>\n",
       "      <td>88</td>\n",
       "      <td>64</td>\n",
       "      <td>78</td>\n",
       "      <td>207</td>\n",
       "    </tr>\n",
       "    <tr>\n",
       "      <th>4</th>\n",
       "      <td>190871</td>\n",
       "      <td>Neymar Jr</td>\n",
       "      <td>Neymar da Silva Santos Jr.</td>\n",
       "      <td>https://cdn.sofifa.com/players/190/871/21_60.png</td>\n",
       "      <td>http://sofifa.com/player/190871/neymar-da-silv...</td>\n",
       "      <td>Brazil</td>\n",
       "      <td>28</td>\n",
       "      <td>91</td>\n",
       "      <td>91</td>\n",
       "      <td>\\n\\n\\n\\nParis Saint-Germain</td>\n",
       "      <td>...</td>\n",
       "      <td>High</td>\n",
       "      <td>Medium</td>\n",
       "      <td>5 ★</td>\n",
       "      <td>91</td>\n",
       "      <td>85</td>\n",
       "      <td>86</td>\n",
       "      <td>94</td>\n",
       "      <td>36</td>\n",
       "      <td>59</td>\n",
       "      <td>595</td>\n",
       "    </tr>\n",
       "  </tbody>\n",
       "</table>\n",
       "<p>5 rows × 77 columns</p>\n",
       "</div>"
      ],
      "text/plain": [
       "       ID               Name                      LongName  \\\n",
       "0  158023           L. Messi                  Lionel Messi   \n",
       "1   20801  Cristiano Ronaldo  C. Ronaldo dos Santos Aveiro   \n",
       "2  200389           J. Oblak                     Jan Oblak   \n",
       "3  192985       K. De Bruyne               Kevin De Bruyne   \n",
       "4  190871          Neymar Jr    Neymar da Silva Santos Jr.   \n",
       "\n",
       "                                           photoUrl  \\\n",
       "0  https://cdn.sofifa.com/players/158/023/21_60.png   \n",
       "1  https://cdn.sofifa.com/players/020/801/21_60.png   \n",
       "2  https://cdn.sofifa.com/players/200/389/21_60.png   \n",
       "3  https://cdn.sofifa.com/players/192/985/21_60.png   \n",
       "4  https://cdn.sofifa.com/players/190/871/21_60.png   \n",
       "\n",
       "                                           playerUrl Nationality  Age  ↓OVA  \\\n",
       "0  http://sofifa.com/player/158023/lionel-messi/2...   Argentina   33    93   \n",
       "1  http://sofifa.com/player/20801/c-ronaldo-dos-s...    Portugal   35    92   \n",
       "2  http://sofifa.com/player/200389/jan-oblak/210006/    Slovenia   27    91   \n",
       "3  http://sofifa.com/player/192985/kevin-de-bruyn...     Belgium   29    91   \n",
       "4  http://sofifa.com/player/190871/neymar-da-silv...      Brazil   28    91   \n",
       "\n",
       "   POT                         Club  ...     A/W     D/W   IR PAC SHO  PAS  \\\n",
       "0   93         \\n\\n\\n\\nFC Barcelona  ...  Medium     Low  5 ★  85  92   91   \n",
       "1   92             \\n\\n\\n\\nJuventus  ...    High     Low  5 ★  89  93   81   \n",
       "2   93      \\n\\n\\n\\nAtlético Madrid  ...  Medium  Medium  3 ★  87  92   78   \n",
       "3   91      \\n\\n\\n\\nManchester City  ...    High    High  4 ★  76  86   93   \n",
       "4   91  \\n\\n\\n\\nParis Saint-Germain  ...    High  Medium  5 ★  91  85   86   \n",
       "\n",
       "  DRI DEF PHY Hits  \n",
       "0  95  38  65  771  \n",
       "1  89  35  77  562  \n",
       "2  90  52  90  150  \n",
       "3  88  64  78  207  \n",
       "4  94  36  59  595  \n",
       "\n",
       "[5 rows x 77 columns]"
      ]
     },
     "execution_count": 2,
     "metadata": {},
     "output_type": "execute_result"
    }
   ],
   "source": [
    "df = pd.read_csv('fifa21.csv')\n",
    "df.head()"
   ]
  },
  {
   "cell_type": "code",
   "execution_count": 3,
   "id": "1b48a7d4-b30c-4e1b-a7a5-d00180c63a62",
   "metadata": {},
   "outputs": [
    {
     "name": "stdout",
     "output_type": "stream",
     "text": [
      "<class 'pandas.core.frame.DataFrame'>\n",
      "RangeIndex: 18979 entries, 0 to 18978\n",
      "Data columns (total 77 columns):\n",
      " #   Column            Non-Null Count  Dtype \n",
      "---  ------            --------------  ----- \n",
      " 0   ID                18979 non-null  int64 \n",
      " 1   Name              18979 non-null  object\n",
      " 2   LongName          18979 non-null  object\n",
      " 3   photoUrl          18979 non-null  object\n",
      " 4   playerUrl         18979 non-null  object\n",
      " 5   Nationality       18979 non-null  object\n",
      " 6   Age               18979 non-null  int64 \n",
      " 7   ↓OVA              18979 non-null  int64 \n",
      " 8   POT               18979 non-null  int64 \n",
      " 9   Club              18979 non-null  object\n",
      " 10  Contract          18979 non-null  object\n",
      " 11  Positions         18979 non-null  object\n",
      " 12  Height            18979 non-null  object\n",
      " 13  Weight            18979 non-null  object\n",
      " 14  Preferred Foot    18979 non-null  object\n",
      " 15  BOV               18979 non-null  int64 \n",
      " 16  Best Position     18979 non-null  object\n",
      " 17  Joined            18979 non-null  object\n",
      " 18  Loan Date End     1013 non-null   object\n",
      " 19  Value             18979 non-null  object\n",
      " 20  Wage              18979 non-null  object\n",
      " 21  Release Clause    18979 non-null  object\n",
      " 22  Attacking         18979 non-null  int64 \n",
      " 23  Crossing          18979 non-null  int64 \n",
      " 24  Finishing         18979 non-null  int64 \n",
      " 25  Heading Accuracy  18979 non-null  int64 \n",
      " 26  Short Passing     18979 non-null  int64 \n",
      " 27  Volleys           18979 non-null  int64 \n",
      " 28  Skill             18979 non-null  int64 \n",
      " 29  Dribbling         18979 non-null  int64 \n",
      " 30  Curve             18979 non-null  int64 \n",
      " 31  FK Accuracy       18979 non-null  int64 \n",
      " 32  Long Passing      18979 non-null  int64 \n",
      " 33  Ball Control      18979 non-null  int64 \n",
      " 34  Movement          18979 non-null  int64 \n",
      " 35  Acceleration      18979 non-null  int64 \n",
      " 36  Sprint Speed      18979 non-null  int64 \n",
      " 37  Agility           18979 non-null  int64 \n",
      " 38  Reactions         18979 non-null  int64 \n",
      " 39  Balance           18979 non-null  int64 \n",
      " 40  Power             18979 non-null  int64 \n",
      " 41  Shot Power        18979 non-null  int64 \n",
      " 42  Jumping           18979 non-null  int64 \n",
      " 43  Stamina           18979 non-null  int64 \n",
      " 44  Strength          18979 non-null  int64 \n",
      " 45  Long Shots        18979 non-null  int64 \n",
      " 46  Mentality         18979 non-null  int64 \n",
      " 47  Aggression        18979 non-null  int64 \n",
      " 48  Interceptions     18979 non-null  int64 \n",
      " 49  Positioning       18979 non-null  int64 \n",
      " 50  Vision            18979 non-null  int64 \n",
      " 51  Penalties         18979 non-null  int64 \n",
      " 52  Composure         18979 non-null  int64 \n",
      " 53  Defending         18979 non-null  int64 \n",
      " 54  Marking           18979 non-null  int64 \n",
      " 55  Standing Tackle   18979 non-null  int64 \n",
      " 56  Sliding Tackle    18979 non-null  int64 \n",
      " 57  Goalkeeping       18979 non-null  int64 \n",
      " 58  GK Diving         18979 non-null  int64 \n",
      " 59  GK Handling       18979 non-null  int64 \n",
      " 60  GK Kicking        18979 non-null  int64 \n",
      " 61  GK Positioning    18979 non-null  int64 \n",
      " 62  GK Reflexes       18979 non-null  int64 \n",
      " 63  Total Stats       18979 non-null  int64 \n",
      " 64  Base Stats        18979 non-null  int64 \n",
      " 65  W/F               18979 non-null  object\n",
      " 66  SM                18979 non-null  object\n",
      " 67  A/W               18979 non-null  object\n",
      " 68  D/W               18979 non-null  object\n",
      " 69  IR                18979 non-null  object\n",
      " 70  PAC               18979 non-null  int64 \n",
      " 71  SHO               18979 non-null  int64 \n",
      " 72  PAS               18979 non-null  int64 \n",
      " 73  DRI               18979 non-null  int64 \n",
      " 74  DEF               18979 non-null  int64 \n",
      " 75  PHY               18979 non-null  int64 \n",
      " 76  Hits              16384 non-null  object\n",
      "dtypes: int64(54), object(23)\n",
      "memory usage: 11.1+ MB\n"
     ]
    }
   ],
   "source": [
    "df.info()"
   ]
  },
  {
   "cell_type": "code",
   "execution_count": 4,
   "id": "693ec612-78ee-4170-81b7-ab8f39083bb1",
   "metadata": {},
   "outputs": [
    {
     "data": {
      "text/plain": [
       "0        €138.4M\n",
       "1         €75.9M\n",
       "2        €159.4M\n",
       "3          €161M\n",
       "4        €166.5M\n",
       "          ...   \n",
       "18974       €70K\n",
       "18975      €165K\n",
       "18976      €131K\n",
       "18977       €88K\n",
       "18978       €79K\n",
       "Name: Release Clause, Length: 18979, dtype: object"
      ]
     },
     "execution_count": 4,
     "metadata": {},
     "output_type": "execute_result"
    }
   ],
   "source": [
    "df['Release Clause']"
   ]
  },
  {
   "cell_type": "code",
   "execution_count": 5,
   "id": "8679ed9c-459c-471f-be30-098f7265b6f2",
   "metadata": {},
   "outputs": [
    {
     "data": {
      "text/plain": [
       "0"
      ]
     },
     "execution_count": 5,
     "metadata": {},
     "output_type": "execute_result"
    }
   ],
   "source": [
    "df.duplicated().sum()"
   ]
  },
  {
   "cell_type": "code",
   "execution_count": 6,
   "id": "03206cf5-cba8-4544-8618-41f287334c64",
   "metadata": {},
   "outputs": [
    {
     "data": {
      "text/plain": [
       "(18979, 77)"
      ]
     },
     "execution_count": 6,
     "metadata": {},
     "output_type": "execute_result"
    }
   ],
   "source": [
    "df.shape"
   ]
  },
  {
   "cell_type": "code",
   "execution_count": 7,
   "id": "8054d925-0b72-47f7-8838-969e3d95b70e",
   "metadata": {},
   "outputs": [
    {
     "data": {
      "text/plain": [
       "ID              0\n",
       "Name            0\n",
       "LongName        0\n",
       "photoUrl        0\n",
       "playerUrl       0\n",
       "             ... \n",
       "PAS             0\n",
       "DRI             0\n",
       "DEF             0\n",
       "PHY             0\n",
       "Hits         2595\n",
       "Length: 77, dtype: int64"
      ]
     },
     "execution_count": 7,
     "metadata": {},
     "output_type": "execute_result"
    }
   ],
   "source": [
    "df.isna().sum()"
   ]
  },
  {
   "cell_type": "code",
   "execution_count": 8,
   "id": "128117aa-0bc3-464f-93c8-38401e33d268",
   "metadata": {},
   "outputs": [
    {
     "name": "stdout",
     "output_type": "stream",
     "text": [
      "<class 'pandas.core.frame.DataFrame'>\n",
      "RangeIndex: 18979 entries, 0 to 18978\n",
      "Data columns (total 77 columns):\n",
      " #   Column            Non-Null Count  Dtype \n",
      "---  ------            --------------  ----- \n",
      " 0   ID                18979 non-null  int64 \n",
      " 1   Name              18979 non-null  object\n",
      " 2   LongName          18979 non-null  object\n",
      " 3   photoUrl          18979 non-null  object\n",
      " 4   playerUrl         18979 non-null  object\n",
      " 5   Nationality       18979 non-null  object\n",
      " 6   Age               18979 non-null  int64 \n",
      " 7   ↓OVA              18979 non-null  int64 \n",
      " 8   POT               18979 non-null  int64 \n",
      " 9   Club              18979 non-null  object\n",
      " 10  Contract          18979 non-null  object\n",
      " 11  Positions         18979 non-null  object\n",
      " 12  Height            18979 non-null  object\n",
      " 13  Weight            18979 non-null  object\n",
      " 14  Preferred Foot    18979 non-null  object\n",
      " 15  BOV               18979 non-null  int64 \n",
      " 16  Best Position     18979 non-null  object\n",
      " 17  Joined            18979 non-null  object\n",
      " 18  Loan Date End     1013 non-null   object\n",
      " 19  Value             18979 non-null  object\n",
      " 20  Wage              18979 non-null  object\n",
      " 21  Release Clause    18979 non-null  object\n",
      " 22  Attacking         18979 non-null  int64 \n",
      " 23  Crossing          18979 non-null  int64 \n",
      " 24  Finishing         18979 non-null  int64 \n",
      " 25  Heading Accuracy  18979 non-null  int64 \n",
      " 26  Short Passing     18979 non-null  int64 \n",
      " 27  Volleys           18979 non-null  int64 \n",
      " 28  Skill             18979 non-null  int64 \n",
      " 29  Dribbling         18979 non-null  int64 \n",
      " 30  Curve             18979 non-null  int64 \n",
      " 31  FK Accuracy       18979 non-null  int64 \n",
      " 32  Long Passing      18979 non-null  int64 \n",
      " 33  Ball Control      18979 non-null  int64 \n",
      " 34  Movement          18979 non-null  int64 \n",
      " 35  Acceleration      18979 non-null  int64 \n",
      " 36  Sprint Speed      18979 non-null  int64 \n",
      " 37  Agility           18979 non-null  int64 \n",
      " 38  Reactions         18979 non-null  int64 \n",
      " 39  Balance           18979 non-null  int64 \n",
      " 40  Power             18979 non-null  int64 \n",
      " 41  Shot Power        18979 non-null  int64 \n",
      " 42  Jumping           18979 non-null  int64 \n",
      " 43  Stamina           18979 non-null  int64 \n",
      " 44  Strength          18979 non-null  int64 \n",
      " 45  Long Shots        18979 non-null  int64 \n",
      " 46  Mentality         18979 non-null  int64 \n",
      " 47  Aggression        18979 non-null  int64 \n",
      " 48  Interceptions     18979 non-null  int64 \n",
      " 49  Positioning       18979 non-null  int64 \n",
      " 50  Vision            18979 non-null  int64 \n",
      " 51  Penalties         18979 non-null  int64 \n",
      " 52  Composure         18979 non-null  int64 \n",
      " 53  Defending         18979 non-null  int64 \n",
      " 54  Marking           18979 non-null  int64 \n",
      " 55  Standing Tackle   18979 non-null  int64 \n",
      " 56  Sliding Tackle    18979 non-null  int64 \n",
      " 57  Goalkeeping       18979 non-null  int64 \n",
      " 58  GK Diving         18979 non-null  int64 \n",
      " 59  GK Handling       18979 non-null  int64 \n",
      " 60  GK Kicking        18979 non-null  int64 \n",
      " 61  GK Positioning    18979 non-null  int64 \n",
      " 62  GK Reflexes       18979 non-null  int64 \n",
      " 63  Total Stats       18979 non-null  int64 \n",
      " 64  Base Stats        18979 non-null  int64 \n",
      " 65  W/F               18979 non-null  object\n",
      " 66  SM                18979 non-null  object\n",
      " 67  A/W               18979 non-null  object\n",
      " 68  D/W               18979 non-null  object\n",
      " 69  IR                18979 non-null  object\n",
      " 70  PAC               18979 non-null  int64 \n",
      " 71  SHO               18979 non-null  int64 \n",
      " 72  PAS               18979 non-null  int64 \n",
      " 73  DRI               18979 non-null  int64 \n",
      " 74  DEF               18979 non-null  int64 \n",
      " 75  PHY               18979 non-null  int64 \n",
      " 76  Hits              16384 non-null  object\n",
      "dtypes: int64(54), object(23)\n",
      "memory usage: 11.1+ MB\n"
     ]
    }
   ],
   "source": [
    "df.info()"
   ]
  },
  {
   "cell_type": "code",
   "execution_count": 9,
   "id": "676f4c29-b4d3-4519-a753-64956260145d",
   "metadata": {},
   "outputs": [
    {
     "data": {
      "text/plain": [
       "Index(['ID', 'Name', 'LongName', 'photoUrl', 'playerUrl', 'Nationality', 'Age',\n",
       "       '↓OVA', 'POT', 'Club', 'Contract', 'Positions', 'Height', 'Weight',\n",
       "       'Preferred Foot', 'BOV', 'Best Position', 'Joined', 'Loan Date End',\n",
       "       'Value', 'Wage', 'Release Clause', 'Attacking', 'Crossing', 'Finishing',\n",
       "       'Heading Accuracy', 'Short Passing', 'Volleys', 'Skill', 'Dribbling',\n",
       "       'Curve', 'FK Accuracy', 'Long Passing', 'Ball Control', 'Movement',\n",
       "       'Acceleration', 'Sprint Speed', 'Agility', 'Reactions', 'Balance',\n",
       "       'Power', 'Shot Power', 'Jumping', 'Stamina', 'Strength', 'Long Shots',\n",
       "       'Mentality', 'Aggression', 'Interceptions', 'Positioning', 'Vision',\n",
       "       'Penalties', 'Composure', 'Defending', 'Marking', 'Standing Tackle',\n",
       "       'Sliding Tackle', 'Goalkeeping', 'GK Diving', 'GK Handling',\n",
       "       'GK Kicking', 'GK Positioning', 'GK Reflexes', 'Total Stats',\n",
       "       'Base Stats', 'W/F', 'SM', 'A/W', 'D/W', 'IR', 'PAC', 'SHO', 'PAS',\n",
       "       'DRI', 'DEF', 'PHY', 'Hits'],\n",
       "      dtype='object')"
      ]
     },
     "execution_count": 9,
     "metadata": {},
     "output_type": "execute_result"
    }
   ],
   "source": [
    "df.columns"
   ]
  },
  {
   "cell_type": "code",
   "execution_count": 10,
   "id": "17fb0d15-63cb-4aec-aced-35fab2b4a4d9",
   "metadata": {},
   "outputs": [
    {
     "data": {
      "text/plain": [
       "Index(['ID', 'Name', 'Nationality', 'Age', 'OVA', 'POT', 'Club', 'Contract',\n",
       "       'Positions', 'Height', 'Weight', 'Preferred Foot', 'BOV',\n",
       "       'Best Position', 'Joined', 'Value', 'Wage', 'Release Clause',\n",
       "       'Attacking', 'Crossing', 'Finishing', 'Heading Accuracy',\n",
       "       'Short Passing', 'Volleys', 'Skill', 'Dribbling', 'Curve',\n",
       "       'FK Accuracy', 'Long Passing', 'Ball Control', 'Movement',\n",
       "       'Acceleration', 'Sprint Speed', 'Agility', 'Reactions', 'Balance',\n",
       "       'Power', 'Shot Power', 'Jumping', 'Stamina', 'Strength', 'Long Shots',\n",
       "       'Mentality', 'Aggression', 'Interceptions', 'Positioning', 'Vision',\n",
       "       'Penalties', 'Composure', 'Defending', 'Marking', 'Standing Tackle',\n",
       "       'Sliding Tackle', 'Goalkeeping', 'GK Diving', 'GK Handling',\n",
       "       'GK Kicking', 'GK Positioning', 'GK Reflexes', 'Total Stats',\n",
       "       'Base Stats', 'W/F', 'SM', 'A/W', 'D/W', 'IR', 'PAC', 'SHO', 'PAS',\n",
       "       'DRI', 'DEF', 'PHY', 'Hits'],\n",
       "      dtype='object')"
      ]
     },
     "execution_count": 10,
     "metadata": {},
     "output_type": "execute_result"
    }
   ],
   "source": [
    "drop_columns = ['photoUrl','playerUrl','LongName','Loan Date End']\n",
    "df = df.drop(columns=drop_columns,axis = 1)\n",
    "df = df.rename(columns = {\"↓OVA\" : \"OVA\"})\n",
    "df.columns"
   ]
  },
  {
   "cell_type": "code",
   "execution_count": 11,
   "id": "263737e9-a013-4cb6-b4f0-f2ba4e7b1528",
   "metadata": {},
   "outputs": [
    {
     "data": {
      "text/plain": [
       "0    170cm\n",
       "1    187cm\n",
       "2    188cm\n",
       "3    181cm\n",
       "4    175cm\n",
       "Name: Height, dtype: object"
      ]
     },
     "execution_count": 11,
     "metadata": {},
     "output_type": "execute_result"
    }
   ],
   "source": [
    "df['Height'].head()"
   ]
  },
  {
   "cell_type": "code",
   "execution_count": 12,
   "id": "6564987d-8c22-4170-a117-6df08297cb4c",
   "metadata": {},
   "outputs": [
    {
     "name": "stdout",
     "output_type": "stream",
     "text": [
      "[170.  187.  188.  181.  175.  184.  191.  178.  193.  185.  199.  173.\n",
      " 168.  176.  177.  183.  180.  189.  179.  195.  172.  182.  186.  192.\n",
      " 165.  194.  167.  196.  163.  190.  174.  169.  171.  197.  200.  166.\n",
      " 164.  198.  190.5 195.6 180.3 185.4 182.9 177.8 175.3 167.6 170.2 162.6\n",
      " 201.  158.  162.  161.  160.  203.  157.  156.  202.  159.  206.  155. ]\n"
     ]
    }
   ],
   "source": [
    "def convert_height(value):\n",
    "        value = str(value)\n",
    "        if \"'\" in value:\n",
    "            feet, inches = value.replace('\"', '').split(\"'\")\n",
    "            return round(int(feet) * 30.48 + int(inches) * 2.54, 1)\n",
    "        elif \"cm\" in value:\n",
    "            return int(value.replace('cm', '').strip())\n",
    "        elif value.isdigit():\n",
    "            return int(value)\n",
    "\n",
    "df['Height'] = df['Height'].apply(convert_height)\n",
    "print(df['Height'].unique())\n"
   ]
  },
  {
   "cell_type": "code",
   "execution_count": 13,
   "id": "fc7a5037-af25-4ae0-9fbc-0974d105dd80",
   "metadata": {},
   "outputs": [
    {
     "data": {
      "text/plain": [
       "0    72kg\n",
       "1    83kg\n",
       "2    87kg\n",
       "3    70kg\n",
       "4    68kg\n",
       "Name: Weight, dtype: object"
      ]
     },
     "execution_count": 13,
     "metadata": {},
     "output_type": "execute_result"
    }
   ],
   "source": [
    "df['Weight'].head()"
   ]
  },
  {
   "cell_type": "code",
   "execution_count": 14,
   "id": "a705d4f6-7127-4e06-a8e9-5a28aef7c49d",
   "metadata": {},
   "outputs": [
    {
     "name": "stdout",
     "output_type": "stream",
     "text": [
      "[ 72.   83.   87.   70.   68.   80.   71.   91.   73.   85.   92.   69.\n",
      "  84.   96.   81.   82.   75.   86.   89.   74.   76.   64.   78.   90.\n",
      "  66.   60.   94.   79.   67.   65.   59.   61.   93.   88.   97.   77.\n",
      "  62.   63.   95.  100.   58.   81.2  88.9  79.8  83.9  77.1  92.1  76.2\n",
      "  66.2  86.2  78.9  67.1  74.8  72.1  87.1  82.1  69.9  71.2  73.9  98.\n",
      " 103.   99.  102.   56.  101.   57.   55.  104.  107.  110.   53.   50.\n",
      "  54.   52. ]\n"
     ]
    },
    {
     "data": {
      "text/plain": [
       "0    72.0\n",
       "1    83.0\n",
       "2    87.0\n",
       "3    70.0\n",
       "4    68.0\n",
       "Name: Weight, dtype: float64"
      ]
     },
     "execution_count": 14,
     "metadata": {},
     "output_type": "execute_result"
    }
   ],
   "source": [
    "def convert_weight(value):\n",
    "    if 'lbs' in value:\n",
    "            return round(float(value.replace('lbs', '')) * 0.453592, 1)\n",
    "    else:\n",
    "            return float(value)\n",
    "df['Weight'] = df['Weight'].str.replace(\"kg\",\"\")\n",
    "df['Weight'] = df['Weight'].apply(convert_weight)\n",
    "print(df['Weight'].unique())\n",
    "df['Weight'].head()"
   ]
  },
  {
   "cell_type": "code",
   "execution_count": 15,
   "id": "53d3ecdb-b732-4647-9822-1c55853cf7c2",
   "metadata": {},
   "outputs": [
    {
     "data": {
      "text/plain": [
       "array(['€103.5M', '€63M', '€120M', '€129M', '€132M', '€111M', '€120.5M',\n",
       "       '€102M', '€185.5M', '€110M', '€113M', '€90.5M', '€82M', '€17.5M',\n",
       "       '€83.5M', '€33.5M', '€114.5M', '€78M', '€103M', '€109M', '€92M',\n",
       "       '€10M', '€76.5M', '€89.5M', '€87.5M', '€79.5M', '€124M', '€114M',\n",
       "       '€95M', '€92.5M', '€105.5M', '€88.5M', '€85M', '€81.5M', '€26M',\n",
       "       '€21M', '€56M', '€67.5M', '€53M', '€36.5M', '€51M', '€65.5M',\n",
       "       '€46.5M', '€61.5M', '€72.5M', '€77.5M', '€43.5M', '€32.5M', '€36M',\n",
       "       '€32M', '€54M', '€49.5M', '€57M', '€66.5M', '€74.5M', '€71.5M',\n",
       "       '€121M', '€99M', '€67M', '€86.5M', '€93.5M', '€70M', '€62M',\n",
       "       '€66M', '€58M', '€44M', '€81M', '€37M', '€14.5M', '€46M', '€47.5M',\n",
       "       '€52.5M', '€54.5M', '€34.5M', '€57.5M', '€51.5M', '€44.5M', '€55M',\n",
       "       '€48M', '€60.5M', '€63.5M', '€61M', '€29M', '€58.5M', '€55.5M',\n",
       "       '€42M', '€40.5M', '€43M', '€45.5M', '€34M', '€26.5M', '€42.5M',\n",
       "       '€35.5M', '€45M', '€41.5M', '€40M', '€11M', '€13.5M', '€29.5M',\n",
       "       '€27M', '€15.5M', '€38.5M', '€52M', '€33M', '€19M', '€73.5M',\n",
       "       '€38M', '€35M', '€47M', '€24M', '€30.5M', '€18M', '€28M', '€25.5M',\n",
       "       '€25M', '€31M', '€23.5M', '€30M', '€31.5M', '€22.5M', '€28.5M',\n",
       "       '€4M', '€12.5M', '€37.5M', '€27.5M', '€16M', '€15M', '€20.5M',\n",
       "       '€22M', '€3.4M', '€5M', '€56.5M', '€62.5M', '€0', '€39M', '€24.5M',\n",
       "       '€21.5M', '€13M', '€8M', '€20M', '€8.5M', '€2.9M', '€9M', '€4.6M',\n",
       "       '€50M', '€23M', '€18.5M', '€7M', '€19.5M', '€5.5M', '€7.5M',\n",
       "       '€3.8M', '€14M', '€10.5M', '€16.5M', '€3.6M', '€9.5M', '€39.5M',\n",
       "       '€17M', '€12M', '€11.5M', '€4.9M', '€3M', '€1.9M', '€6.5M',\n",
       "       '€1.7M', '€2.4M', '€3.1M', '€6M', '€3.7M', '€4.7M', '€4.3M',\n",
       "       '€2.1M', '€1.2M', '€1.8M', '€4.8M', '€3.2M', '€1.3M', '€825K',\n",
       "       '€2.3M', '€1.5M', '€3.9M', '€2.6M', '€3.5M', '€2.8M', '€2.7M',\n",
       "       '€4.4M', '€4.1M', '€950K', '€1.6M', '€625K', '€1.1M', '€4.5M',\n",
       "       '€4.2M', '€2.2M', '€3.3M', '€1.4M', '€2M', '€475K', '€925K',\n",
       "       '€750K', '€725K', '€2.5M', '€1M', '€350K', '€525K', '€600K',\n",
       "       '€850K', '€800K', '€550K', '€250K', '€400K', '€425K', '€575K',\n",
       "       '€210K', '€325K', '€900K', '€875K', '€650K', '€700K', '€500K',\n",
       "       '€975K', '€375K', '€775K', '€275K', '€180K', '€450K', '€675K',\n",
       "       '€150K', '€240K', '€300K', '€130K', '€220K', '€200K', '€110K',\n",
       "       '€170K', '€230K', '€90K', '€120K', '€80K', '€190K', '€140K',\n",
       "       '€160K', '€100K', '€60K', '€50K', '€70K', '€45K', '€35K', '€40K',\n",
       "       '€25K', '€20K', '€15K', '€30K', '€9K'], dtype=object)"
      ]
     },
     "execution_count": 15,
     "metadata": {},
     "output_type": "execute_result"
    }
   ],
   "source": [
    "df['Value'].unique()"
   ]
  },
  {
   "cell_type": "code",
   "execution_count": 16,
   "id": "0d3b8e33-70fe-4f94-b814-ad672fa112c3",
   "metadata": {},
   "outputs": [],
   "source": [
    "def convert(value):\n",
    "    value = str(value).replace(',','').strip()\n",
    "    value = value.replace('€','')\n",
    "    if 'K' in value:\n",
    "        return int(float(value.replace('K',''))*1000)\n",
    "    if 'M' in value:\n",
    "        return int(float(value.replace('M',''))*1000000)\n",
    "    return int(value)\n",
    "\n",
    "df['Value'] = df['Value'].apply(convert)"
   ]
  },
  {
   "cell_type": "code",
   "execution_count": 17,
   "id": "cc4a1fc5-595a-4574-afa7-40abd38897ca",
   "metadata": {},
   "outputs": [
    {
     "data": {
      "text/plain": [
       "array([103500000,  63000000, 120000000, 129000000, 132000000, 111000000,\n",
       "       120500000, 102000000, 185500000, 110000000, 113000000,  90500000,\n",
       "        82000000,  17500000,  83500000,  33500000, 114500000,  78000000,\n",
       "       103000000, 109000000,  92000000,  10000000,  76500000,  89500000,\n",
       "        87500000,  79500000, 124000000, 114000000,  95000000,  92500000,\n",
       "       105500000,  88500000,  85000000,  81500000,  26000000,  21000000,\n",
       "        56000000,  67500000,  53000000,  36500000,  51000000,  65500000,\n",
       "        46500000,  61500000,  72500000,  77500000,  43500000,  32500000,\n",
       "        36000000,  32000000,  54000000,  49500000,  57000000,  66500000,\n",
       "        74500000,  71500000, 121000000,  99000000,  67000000,  86500000,\n",
       "        93500000,  70000000,  62000000,  66000000,  58000000,  44000000,\n",
       "        81000000,  37000000,  14500000,  46000000,  47500000,  52500000,\n",
       "        54500000,  34500000,  57500000,  51500000,  44500000,  55000000,\n",
       "        48000000,  60500000,  63500000,  61000000,  29000000,  58500000,\n",
       "        55500000,  42000000,  40500000,  43000000,  45500000,  34000000,\n",
       "        26500000,  42500000,  35500000,  45000000,  41500000,  40000000,\n",
       "        11000000,  13500000,  29500000,  27000000,  15500000,  38500000,\n",
       "        52000000,  33000000,  19000000,  73500000,  38000000,  35000000,\n",
       "        47000000,  24000000,  30500000,  18000000,  28000000,  25500000,\n",
       "        25000000,  31000000,  23500000,  30000000,  31500000,  22500000,\n",
       "        28500000,   4000000,  12500000,  37500000,  27500000,  16000000,\n",
       "        15000000,  20500000,  22000000,   3400000,   5000000,  56500000,\n",
       "        62500000,         0,  39000000,  24500000,  21500000,  13000000,\n",
       "         8000000,  20000000,   8500000,   2900000,   9000000,   4600000,\n",
       "        50000000,  23000000,  18500000,   7000000,  19500000,   5500000,\n",
       "         7500000,   3800000,  14000000,  10500000,  16500000,   3600000,\n",
       "         9500000,  39500000,  17000000,  12000000,  11500000,   4900000,\n",
       "         3000000,   1900000,   6500000,   1700000,   2400000,   3100000,\n",
       "         6000000,   3700000,   4700000,   4300000,   2100000,   1200000,\n",
       "         1800000,   4800000,   3200000,   1300000,    825000,   2300000,\n",
       "         1500000,   3900000,   2600000,   3500000,   2800000,   2700000,\n",
       "         4400000,   4099999,    950000,   1600000,    625000,   1100000,\n",
       "         4500000,   4200000,   2200000,   3300000,   1400000,   2000000,\n",
       "          475000,    925000,    750000,    725000,   2500000,   1000000,\n",
       "          350000,    525000,    600000,    850000,    800000,    550000,\n",
       "          250000,    400000,    425000,    575000,    210000,    325000,\n",
       "          900000,    875000,    650000,    700000,    500000,    975000,\n",
       "          375000,    775000,    275000,    180000,    450000,    675000,\n",
       "          150000,    240000,    300000,    130000,    220000,    200000,\n",
       "          110000,    170000,    230000,     90000,    120000,     80000,\n",
       "          190000,    140000,    160000,    100000,     60000,     50000,\n",
       "           70000,     45000,     35000,     40000,     25000,     20000,\n",
       "           15000,     30000,      9000], dtype=int64)"
      ]
     },
     "execution_count": 17,
     "metadata": {},
     "output_type": "execute_result"
    }
   ],
   "source": [
    "df['Value'].unique()"
   ]
  },
  {
   "cell_type": "code",
   "execution_count": 18,
   "id": "b63fadd4-6a46-4c27-8693-2381b15f2511",
   "metadata": {},
   "outputs": [
    {
     "data": {
      "text/plain": [
       "array(['€560K', '€220K', '€125K', '€370K', '€270K', '€240K', '€250K',\n",
       "       '€160K', '€260K', '€210K', '€310K', '€130K', '€350K', '€300K',\n",
       "       '€190K', '€145K', '€195K', '€100K', '€140K', '€290K', '€82K',\n",
       "       '€110K', '€230K', '€155K', '€200K', '€165K', '€95K', '€170K',\n",
       "       '€105K', '€115K', '€150K', '€135K', '€55K', '€58K', '€81K', '€34K',\n",
       "       '€120K', '€59K', '€90K', '€65K', '€56K', '€71K', '€18K', '€75K',\n",
       "       '€47K', '€20K', '€84K', '€86K', '€74K', '€78K', '€27K', '€68K',\n",
       "       '€85K', '€25K', '€46K', '€83K', '€54K', '€79K', '€175K', '€43K',\n",
       "       '€49K', '€45K', '€38K', '€41K', '€39K', '€23K', '€51K', '€50K',\n",
       "       '€87K', '€30K', '€14K', '€69K', '€31K', '€64K', '€53K', '€35K',\n",
       "       '€21K', '€28K', '€17K', '€33K', '€70K', '€32K', '€89K', '€26K',\n",
       "       '€40K', '€76K', '€72K', '€48K', '€36K', '€29K', '€60K', '€16K',\n",
       "       '€37K', '€24K', '€52K', '€0', '€62K', '€73K', '€63K', '€19K',\n",
       "       '€1K', '€66K', '€80K', '€12K', '€2K', '€42K', '€13K', '€900',\n",
       "       '€57K', '€77K', '€61K', '€22K', '€67K', '€44K', '€15K', '€11K',\n",
       "       '€8K', '€850', '€10K', '€88K', '€500', '€7K', '€6K', '€9K', '€5K',\n",
       "       '€700', '€950', '€750', '€3K', '€650', '€600', '€4K', '€800',\n",
       "       '€550'], dtype=object)"
      ]
     },
     "execution_count": 18,
     "metadata": {},
     "output_type": "execute_result"
    }
   ],
   "source": [
    "df['Wage'].unique()"
   ]
  },
  {
   "cell_type": "code",
   "execution_count": 19,
   "id": "6b14a55b-42d1-46e6-9e1b-4c60dabe8aeb",
   "metadata": {},
   "outputs": [
    {
     "data": {
      "text/plain": [
       "array([560000, 220000, 125000, 370000, 270000, 240000, 250000, 160000,\n",
       "       260000, 210000, 310000, 130000, 350000, 300000, 190000, 145000,\n",
       "       195000, 100000, 140000, 290000,  82000, 110000, 230000, 155000,\n",
       "       200000, 165000,  95000, 170000, 105000, 115000, 150000, 135000,\n",
       "        55000,  58000,  81000,  34000, 120000,  59000,  90000,  65000,\n",
       "        56000,  71000,  18000,  75000,  47000,  20000,  84000,  86000,\n",
       "        74000,  78000,  27000,  68000,  85000,  25000,  46000,  83000,\n",
       "        54000,  79000, 175000,  43000,  49000,  45000,  38000,  41000,\n",
       "        39000,  23000,  51000,  50000,  87000,  30000,  14000,  69000,\n",
       "        31000,  64000,  53000,  35000,  21000,  28000,  17000,  33000,\n",
       "        70000,  32000,  89000,  26000,  40000,  76000,  72000,  48000,\n",
       "        36000,  29000,  60000,  16000,  37000,  24000,  52000,      0,\n",
       "        62000,  73000,  63000,  19000,   1000,  66000,  80000,  12000,\n",
       "         2000,  42000,  13000,    900,  57000,  77000,  61000,  22000,\n",
       "        67000,  44000,  15000,  11000,   8000,    850,  10000,  88000,\n",
       "          500,   7000,   6000,   9000,   5000,    700,    950,    750,\n",
       "         3000,    650,    600,   4000,    800,    550], dtype=int64)"
      ]
     },
     "execution_count": 19,
     "metadata": {},
     "output_type": "execute_result"
    }
   ],
   "source": [
    "df['Wage'] = df['Wage'].apply(convert)\n",
    "df['Wage'].unique()"
   ]
  },
  {
   "cell_type": "code",
   "execution_count": 20,
   "id": "d244e71e-e090-440a-9527-fac18eb6da8a",
   "metadata": {},
   "outputs": [
    {
     "data": {
      "text/plain": [
       "array(['€138.4M', '€75.9M', '€159.4M', ..., '€59K', '€35K', '€64K'],\n",
       "      dtype=object)"
      ]
     },
     "execution_count": 20,
     "metadata": {},
     "output_type": "execute_result"
    }
   ],
   "source": [
    "df['Release Clause'].unique()"
   ]
  },
  {
   "cell_type": "code",
   "execution_count": 21,
   "id": "f15043e7-4a0e-4f2e-97b6-e9a5fc3e657b",
   "metadata": {},
   "outputs": [
    {
     "data": {
      "text/plain": [
       "array([138400000,  75900000, 159400000, ...,     59000,     35000,\n",
       "           64000], dtype=int64)"
      ]
     },
     "execution_count": 21,
     "metadata": {},
     "output_type": "execute_result"
    }
   ],
   "source": [
    "df['Release Clause'] = df['Release Clause'].apply(convert)\n",
    "df['Release Clause'].unique()"
   ]
  },
  {
   "cell_type": "code",
   "execution_count": 22,
   "id": "981160ad-d239-4839-bb26-52501de36e6c",
   "metadata": {},
   "outputs": [
    {
     "data": {
      "text/plain": [
       "0         Jul 1, 2004\n",
       "1        Jul 10, 2018\n",
       "2        Jul 16, 2014\n",
       "3        Aug 30, 2015\n",
       "4         Aug 3, 2017\n",
       "             ...     \n",
       "18974    Jul 13, 2018\n",
       "18975     Aug 1, 2020\n",
       "18976     Mar 8, 2019\n",
       "18977    Sep 22, 2020\n",
       "18978    Jul 29, 2019\n",
       "Name: Joined, Length: 18979, dtype: object"
      ]
     },
     "execution_count": 22,
     "metadata": {},
     "output_type": "execute_result"
    }
   ],
   "source": [
    "df['Joined']"
   ]
  },
  {
   "cell_type": "code",
   "execution_count": 23,
   "id": "aeade0f3-a402-47cc-bcef-eb4231b290b0",
   "metadata": {},
   "outputs": [
    {
     "data": {
      "text/plain": [
       "0   2004-07-01\n",
       "1   2018-07-10\n",
       "2   2014-07-16\n",
       "3   2015-08-30\n",
       "4   2017-08-03\n",
       "Name: Joined, dtype: datetime64[ns]"
      ]
     },
     "execution_count": 23,
     "metadata": {},
     "output_type": "execute_result"
    }
   ],
   "source": [
    "df['Joined'] = pd.to_datetime(df['Joined'],format = '%b %d, %Y',errors = 'coerce')\n",
    "df['Joined'].head()"
   ]
  },
  {
   "cell_type": "code",
   "execution_count": 24,
   "id": "0e8e61fd-7367-4be2-9e09-bcbc664ea381",
   "metadata": {},
   "outputs": [
    {
     "data": {
      "text/html": [
       "<div>\n",
       "<style scoped>\n",
       "    .dataframe tbody tr th:only-of-type {\n",
       "        vertical-align: middle;\n",
       "    }\n",
       "\n",
       "    .dataframe tbody tr th {\n",
       "        vertical-align: top;\n",
       "    }\n",
       "\n",
       "    .dataframe thead th {\n",
       "        text-align: right;\n",
       "    }\n",
       "</style>\n",
       "<table border=\"1\" class=\"dataframe\">\n",
       "  <thead>\n",
       "    <tr style=\"text-align: right;\">\n",
       "      <th></th>\n",
       "      <th>W/F</th>\n",
       "      <th>SM</th>\n",
       "      <th>IR</th>\n",
       "    </tr>\n",
       "  </thead>\n",
       "  <tbody>\n",
       "    <tr>\n",
       "      <th>0</th>\n",
       "      <td>4 ★</td>\n",
       "      <td>4★</td>\n",
       "      <td>5 ★</td>\n",
       "    </tr>\n",
       "    <tr>\n",
       "      <th>1</th>\n",
       "      <td>4 ★</td>\n",
       "      <td>5★</td>\n",
       "      <td>5 ★</td>\n",
       "    </tr>\n",
       "    <tr>\n",
       "      <th>2</th>\n",
       "      <td>3 ★</td>\n",
       "      <td>1★</td>\n",
       "      <td>3 ★</td>\n",
       "    </tr>\n",
       "    <tr>\n",
       "      <th>3</th>\n",
       "      <td>5 ★</td>\n",
       "      <td>4★</td>\n",
       "      <td>4 ★</td>\n",
       "    </tr>\n",
       "    <tr>\n",
       "      <th>4</th>\n",
       "      <td>5 ★</td>\n",
       "      <td>5★</td>\n",
       "      <td>5 ★</td>\n",
       "    </tr>\n",
       "    <tr>\n",
       "      <th>...</th>\n",
       "      <td>...</td>\n",
       "      <td>...</td>\n",
       "      <td>...</td>\n",
       "    </tr>\n",
       "    <tr>\n",
       "      <th>18974</th>\n",
       "      <td>2 ★</td>\n",
       "      <td>2★</td>\n",
       "      <td>1 ★</td>\n",
       "    </tr>\n",
       "    <tr>\n",
       "      <th>18975</th>\n",
       "      <td>2 ★</td>\n",
       "      <td>2★</td>\n",
       "      <td>1 ★</td>\n",
       "    </tr>\n",
       "    <tr>\n",
       "      <th>18976</th>\n",
       "      <td>2 ★</td>\n",
       "      <td>2★</td>\n",
       "      <td>1 ★</td>\n",
       "    </tr>\n",
       "    <tr>\n",
       "      <th>18977</th>\n",
       "      <td>3 ★</td>\n",
       "      <td>2★</td>\n",
       "      <td>1 ★</td>\n",
       "    </tr>\n",
       "    <tr>\n",
       "      <th>18978</th>\n",
       "      <td>3 ★</td>\n",
       "      <td>2★</td>\n",
       "      <td>1 ★</td>\n",
       "    </tr>\n",
       "  </tbody>\n",
       "</table>\n",
       "<p>18979 rows × 3 columns</p>\n",
       "</div>"
      ],
      "text/plain": [
       "       W/F  SM   IR\n",
       "0      4 ★  4★  5 ★\n",
       "1      4 ★  5★  5 ★\n",
       "2      3 ★  1★  3 ★\n",
       "3      5 ★  4★  4 ★\n",
       "4      5 ★  5★  5 ★\n",
       "...    ...  ..  ...\n",
       "18974  2 ★  2★  1 ★\n",
       "18975  2 ★  2★  1 ★\n",
       "18976  2 ★  2★  1 ★\n",
       "18977  3 ★  2★  1 ★\n",
       "18978  3 ★  2★  1 ★\n",
       "\n",
       "[18979 rows x 3 columns]"
      ]
     },
     "execution_count": 24,
     "metadata": {},
     "output_type": "execute_result"
    }
   ],
   "source": [
    "df[['W/F','SM','IR']]"
   ]
  },
  {
   "cell_type": "code",
   "execution_count": 25,
   "id": "b64592b2-0b12-4f32-9a0a-a07ceb77f54d",
   "metadata": {},
   "outputs": [
    {
     "data": {
      "text/html": [
       "<div>\n",
       "<style scoped>\n",
       "    .dataframe tbody tr th:only-of-type {\n",
       "        vertical-align: middle;\n",
       "    }\n",
       "\n",
       "    .dataframe tbody tr th {\n",
       "        vertical-align: top;\n",
       "    }\n",
       "\n",
       "    .dataframe thead th {\n",
       "        text-align: right;\n",
       "    }\n",
       "</style>\n",
       "<table border=\"1\" class=\"dataframe\">\n",
       "  <thead>\n",
       "    <tr style=\"text-align: right;\">\n",
       "      <th></th>\n",
       "      <th>W/F</th>\n",
       "      <th>SM</th>\n",
       "      <th>IR</th>\n",
       "    </tr>\n",
       "  </thead>\n",
       "  <tbody>\n",
       "    <tr>\n",
       "      <th>0</th>\n",
       "      <td>4</td>\n",
       "      <td>4</td>\n",
       "      <td>5</td>\n",
       "    </tr>\n",
       "    <tr>\n",
       "      <th>1</th>\n",
       "      <td>4</td>\n",
       "      <td>5</td>\n",
       "      <td>5</td>\n",
       "    </tr>\n",
       "    <tr>\n",
       "      <th>2</th>\n",
       "      <td>3</td>\n",
       "      <td>1</td>\n",
       "      <td>3</td>\n",
       "    </tr>\n",
       "    <tr>\n",
       "      <th>3</th>\n",
       "      <td>5</td>\n",
       "      <td>4</td>\n",
       "      <td>4</td>\n",
       "    </tr>\n",
       "    <tr>\n",
       "      <th>4</th>\n",
       "      <td>5</td>\n",
       "      <td>5</td>\n",
       "      <td>5</td>\n",
       "    </tr>\n",
       "    <tr>\n",
       "      <th>...</th>\n",
       "      <td>...</td>\n",
       "      <td>...</td>\n",
       "      <td>...</td>\n",
       "    </tr>\n",
       "    <tr>\n",
       "      <th>18974</th>\n",
       "      <td>2</td>\n",
       "      <td>2</td>\n",
       "      <td>1</td>\n",
       "    </tr>\n",
       "    <tr>\n",
       "      <th>18975</th>\n",
       "      <td>2</td>\n",
       "      <td>2</td>\n",
       "      <td>1</td>\n",
       "    </tr>\n",
       "    <tr>\n",
       "      <th>18976</th>\n",
       "      <td>2</td>\n",
       "      <td>2</td>\n",
       "      <td>1</td>\n",
       "    </tr>\n",
       "    <tr>\n",
       "      <th>18977</th>\n",
       "      <td>3</td>\n",
       "      <td>2</td>\n",
       "      <td>1</td>\n",
       "    </tr>\n",
       "    <tr>\n",
       "      <th>18978</th>\n",
       "      <td>3</td>\n",
       "      <td>2</td>\n",
       "      <td>1</td>\n",
       "    </tr>\n",
       "  </tbody>\n",
       "</table>\n",
       "<p>18979 rows × 3 columns</p>\n",
       "</div>"
      ],
      "text/plain": [
       "       W/F  SM  IR\n",
       "0        4   4   5\n",
       "1        4   5   5\n",
       "2        3   1   3\n",
       "3        5   4   4\n",
       "4        5   5   5\n",
       "...    ...  ..  ..\n",
       "18974    2   2   1\n",
       "18975    2   2   1\n",
       "18976    2   2   1\n",
       "18977    3   2   1\n",
       "18978    3   2   1\n",
       "\n",
       "[18979 rows x 3 columns]"
      ]
     },
     "execution_count": 25,
     "metadata": {},
     "output_type": "execute_result"
    }
   ],
   "source": [
    "def remove_star(value):\n",
    "    value = value.rstrip('★')\n",
    "    return int(value)\n",
    "\n",
    "df['W/F']=df['W/F'].apply(remove_star)\n",
    "df['SM']=df['SM'].apply(remove_star)\n",
    "df['IR']=df['IR'].apply(remove_star)\n",
    "\n",
    "df[['W/F','SM','IR']]"
   ]
  },
  {
   "cell_type": "code",
   "execution_count": 26,
   "id": "61c3ca6c-8dda-43c6-a6c3-de2a69588363",
   "metadata": {},
   "outputs": [
    {
     "data": {
      "text/plain": [
       "0        RW, ST, CF\n",
       "1            ST, LW\n",
       "2                GK\n",
       "3           CAM, CM\n",
       "4           LW, CAM\n",
       "            ...    \n",
       "18974            CB\n",
       "18975            CM\n",
       "18976            CM\n",
       "18977            RW\n",
       "18978        CB, LB\n",
       "Name: Positions, Length: 18979, dtype: object"
      ]
     },
     "execution_count": 26,
     "metadata": {},
     "output_type": "execute_result"
    }
   ],
   "source": [
    "df['Positions']"
   ]
  },
  {
   "cell_type": "code",
   "execution_count": 27,
   "id": "280eaf83-790f-402e-bbe7-aea916f7d251",
   "metadata": {},
   "outputs": [
    {
     "data": {
      "text/plain": [
       "0        CF RW, ST,\n",
       "1            LW ST,\n",
       "2                GK\n",
       "3           CAM, CM\n",
       "4           CAM LW,\n",
       "            ...    \n",
       "18974            CB\n",
       "18975            CM\n",
       "18976            CM\n",
       "18977            RW\n",
       "18978        CB, LB\n",
       "Name: Positions, Length: 18979, dtype: object"
      ]
     },
     "execution_count": 27,
     "metadata": {},
     "output_type": "execute_result"
    }
   ],
   "source": [
    "# 'CF RW ST' -> ['CF','RW','ST']\n",
    "df['Positions'] = df['Positions'].apply(lambda x: ' '.join(sorted(x.split())))\n",
    "df['Positions'] = df['Positions'].astype('object')\n",
    "df['Positions']"
   ]
  },
  {
   "cell_type": "code",
   "execution_count": 28,
   "id": "e8f0bfc8-c0aa-4bc6-94c1-ebfefc070b95",
   "metadata": {},
   "outputs": [
    {
     "name": "stdout",
     "output_type": "stream",
     "text": [
      "<class 'pandas.core.frame.DataFrame'>\n",
      "RangeIndex: 18979 entries, 0 to 18978\n",
      "Data columns (total 73 columns):\n",
      " #   Column            Non-Null Count  Dtype         \n",
      "---  ------            --------------  -----         \n",
      " 0   ID                18979 non-null  int64         \n",
      " 1   Name              18979 non-null  object        \n",
      " 2   Nationality       18979 non-null  object        \n",
      " 3   Age               18979 non-null  int64         \n",
      " 4   OVA               18979 non-null  int64         \n",
      " 5   POT               18979 non-null  int64         \n",
      " 6   Club              18979 non-null  object        \n",
      " 7   Contract          18979 non-null  object        \n",
      " 8   Positions         18979 non-null  object        \n",
      " 9   Height            18979 non-null  float64       \n",
      " 10  Weight            18979 non-null  float64       \n",
      " 11  Preferred Foot    18979 non-null  object        \n",
      " 12  BOV               18979 non-null  int64         \n",
      " 13  Best Position     18979 non-null  object        \n",
      " 14  Joined            18979 non-null  datetime64[ns]\n",
      " 15  Value             18979 non-null  int64         \n",
      " 16  Wage              18979 non-null  int64         \n",
      " 17  Release Clause    18979 non-null  int64         \n",
      " 18  Attacking         18979 non-null  int64         \n",
      " 19  Crossing          18979 non-null  int64         \n",
      " 20  Finishing         18979 non-null  int64         \n",
      " 21  Heading Accuracy  18979 non-null  int64         \n",
      " 22  Short Passing     18979 non-null  int64         \n",
      " 23  Volleys           18979 non-null  int64         \n",
      " 24  Skill             18979 non-null  int64         \n",
      " 25  Dribbling         18979 non-null  int64         \n",
      " 26  Curve             18979 non-null  int64         \n",
      " 27  FK Accuracy       18979 non-null  int64         \n",
      " 28  Long Passing      18979 non-null  int64         \n",
      " 29  Ball Control      18979 non-null  int64         \n",
      " 30  Movement          18979 non-null  int64         \n",
      " 31  Acceleration      18979 non-null  int64         \n",
      " 32  Sprint Speed      18979 non-null  int64         \n",
      " 33  Agility           18979 non-null  int64         \n",
      " 34  Reactions         18979 non-null  int64         \n",
      " 35  Balance           18979 non-null  int64         \n",
      " 36  Power             18979 non-null  int64         \n",
      " 37  Shot Power        18979 non-null  int64         \n",
      " 38  Jumping           18979 non-null  int64         \n",
      " 39  Stamina           18979 non-null  int64         \n",
      " 40  Strength          18979 non-null  int64         \n",
      " 41  Long Shots        18979 non-null  int64         \n",
      " 42  Mentality         18979 non-null  int64         \n",
      " 43  Aggression        18979 non-null  int64         \n",
      " 44  Interceptions     18979 non-null  int64         \n",
      " 45  Positioning       18979 non-null  int64         \n",
      " 46  Vision            18979 non-null  int64         \n",
      " 47  Penalties         18979 non-null  int64         \n",
      " 48  Composure         18979 non-null  int64         \n",
      " 49  Defending         18979 non-null  int64         \n",
      " 50  Marking           18979 non-null  int64         \n",
      " 51  Standing Tackle   18979 non-null  int64         \n",
      " 52  Sliding Tackle    18979 non-null  int64         \n",
      " 53  Goalkeeping       18979 non-null  int64         \n",
      " 54  GK Diving         18979 non-null  int64         \n",
      " 55  GK Handling       18979 non-null  int64         \n",
      " 56  GK Kicking        18979 non-null  int64         \n",
      " 57  GK Positioning    18979 non-null  int64         \n",
      " 58  GK Reflexes       18979 non-null  int64         \n",
      " 59  Total Stats       18979 non-null  int64         \n",
      " 60  Base Stats        18979 non-null  int64         \n",
      " 61  W/F               18979 non-null  int64         \n",
      " 62  SM                18979 non-null  int64         \n",
      " 63  A/W               18979 non-null  object        \n",
      " 64  D/W               18979 non-null  object        \n",
      " 65  IR                18979 non-null  int64         \n",
      " 66  PAC               18979 non-null  int64         \n",
      " 67  SHO               18979 non-null  int64         \n",
      " 68  PAS               18979 non-null  int64         \n",
      " 69  DRI               18979 non-null  int64         \n",
      " 70  DEF               18979 non-null  int64         \n",
      " 71  PHY               18979 non-null  int64         \n",
      " 72  Hits              16384 non-null  object        \n",
      "dtypes: datetime64[ns](1), float64(2), int64(60), object(10)\n",
      "memory usage: 10.6+ MB\n"
     ]
    }
   ],
   "source": [
    "df.info()"
   ]
  },
  {
   "cell_type": "code",
   "execution_count": 29,
   "id": "f44a1f2d-20e5-4dd6-8600-b7d80be8c011",
   "metadata": {},
   "outputs": [
    {
     "data": {
      "text/plain": [
       "0        2004 ~ 2021\n",
       "1        2018 ~ 2022\n",
       "2        2014 ~ 2023\n",
       "3        2015 ~ 2023\n",
       "4        2017 ~ 2022\n",
       "            ...     \n",
       "18974    2018 ~ 2022\n",
       "18975    2020 ~ 2021\n",
       "18976    2019 ~ 2020\n",
       "18977    2020 ~ 2022\n",
       "18978    2019 ~ 2023\n",
       "Name: Contract, Length: 18979, dtype: object"
      ]
     },
     "execution_count": 29,
     "metadata": {},
     "output_type": "execute_result"
    }
   ],
   "source": [
    "df['Contract']"
   ]
  },
  {
   "cell_type": "code",
   "execution_count": 30,
   "id": "d6470c2b-888e-40a7-b779-c95b6c126c6f",
   "metadata": {
    "scrolled": true
   },
   "outputs": [
    {
     "data": {
      "text/plain": [
       "0    17.0\n",
       "1     4.0\n",
       "2     9.0\n",
       "3     8.0\n",
       "4     5.0\n",
       "Name: Contract, dtype: float64"
      ]
     },
     "execution_count": 30,
     "metadata": {},
     "output_type": "execute_result"
    }
   ],
   "source": [
    "def convert_contract(value):\n",
    "        value = str(value).strip().replace('\\u200b', '').replace('\\xa0', ' ')\n",
    "        if '~' not in value:\n",
    "            return None\n",
    "        start_year, end_year = value.split('~')\n",
    "        start_year = int(start_year.strip())\n",
    "        end_year = int(end_year.strip())\n",
    "        return end_year - start_year\n",
    "\n",
    "df['Contract'] = df['Contract'].apply(convert_contract)\n",
    "df['Contract'].head()"
   ]
  },
  {
   "cell_type": "code",
   "execution_count": 31,
   "id": "ccd5411d-4905-4a79-a66b-63fb3e21d1ca",
   "metadata": {},
   "outputs": [
    {
     "data": {
      "text/plain": [
       "0           \\n\\n\\n\\nFC Barcelona\n",
       "1               \\n\\n\\n\\nJuventus\n",
       "2        \\n\\n\\n\\nAtlético Madrid\n",
       "3        \\n\\n\\n\\nManchester City\n",
       "4    \\n\\n\\n\\nParis Saint-Germain\n",
       "Name: Club, dtype: object"
      ]
     },
     "execution_count": 31,
     "metadata": {},
     "output_type": "execute_result"
    }
   ],
   "source": [
    "df['Club'].head()"
   ]
  },
  {
   "cell_type": "code",
   "execution_count": 32,
   "id": "f24caaf9-509a-4fba-a156-2d1275e220a3",
   "metadata": {},
   "outputs": [
    {
     "name": "stdout",
     "output_type": "stream",
     "text": [
      "['FC Barcelona' 'Juventus' 'Atlético Madrid' 'Manchester City'\n",
      " 'Paris Saint-Germain' 'FC Bayern München' 'Liverpool' 'Real Madrid'\n",
      " 'Chelsea' 'Tottenham Hotspur' 'Inter' 'Napoli' 'Borussia Dortmund'\n",
      " 'Manchester United' 'Arsenal' 'Lazio' 'Leicester City'\n",
      " 'Borussia Mönchengladbach' 'Real Sociedad' 'Atalanta'\n",
      " 'Olympique Lyonnais' 'Milan' 'Villarreal CF' 'RB Leipzig' 'Cagliari'\n",
      " 'Ajax' 'SL Benfica' 'AS Monaco' 'Wolverhampton Wanderers' 'Everton'\n",
      " 'Fiorentina' 'FC Porto' 'RC Celta' 'Torino' 'Sevilla FC' 'Grêmio'\n",
      " 'Real Betis' 'Roma' 'Newcastle United' 'Eintracht Frankfurt'\n",
      " 'Valencia CF' 'Medipol Başakşehir FK' 'Inter Miami' 'Bayer 04 Leverkusen'\n",
      " 'Levante UD' 'Crystal Palace' 'Athletic Club de Bilbao'\n",
      " 'Shanghai SIPG FC' 'VfL Wolfsburg' 'Guangzhou Evergrande Taobao FC'\n",
      " 'Al Shabab' 'Olympique de Marseille' 'Los Angeles FC'\n",
      " 'Beijing Sinobo Guoan FC' 'Getafe CF' 'SV Werder Bremen'\n",
      " 'TSG 1899 Hoffenheim' 'LOSC Lille' 'Deportivo Alavés' 'Burnley'\n",
      " 'Leeds United' 'Fulham' 'PFC CSKA Moscow' 'Genoa' 'Galatasaray SK'\n",
      " 'Atlanta United' 'Atlético Mineiro' 'Flamengo' 'Palmeiras' 'No Club'\n",
      " 'São Paulo' 'West Ham United' 'SD Eibar' 'River Plate' 'OGC Nice'\n",
      " 'Real Valladolid CF' 'Sporting CP' 'PSV' 'Feyenoord' 'Club Brugge KV'\n",
      " 'Shakhtar Donetsk' 'Vissel Kobe' 'Boca Juniors' '1. FC Union Berlin'\n",
      " 'Dalian YiFang FC' 'AS Saint-Étienne' 'Sassuolo' 'Tigres U.A.N.L.'\n",
      " 'Dinamo Zagreb' 'Dynamo Kyiv' 'Fluminense' 'Udinese' 'Aston Villa'\n",
      " 'Stade Rennais FC' 'Beşiktaş JK' 'Brighton & Hove Albion'\n",
      " 'Hebei China Fortune FC' 'Southampton' 'Lokomotiv Moscow'\n",
      " 'Jiangsu Suning FC' 'Al Hilal' 'West Bromwich Albion' 'Fenerbahçe SK'\n",
      " 'FC Groningen' 'Guangzhou R&F FC' 'Orlando City SC' 'Sampdoria'\n",
      " 'Stade de Reims' 'Sheffield United' 'Santos' 'Internacional' 'Coritiba'\n",
      " 'CA Osasuna' 'LA Galaxy' 'Al Nassr' 'SC Freiburg' 'SC Braga'\n",
      " 'Olympiacos CFP' 'Toronto FC' 'Granada CF' 'FC Schalke 04'\n",
      " 'RC Strasbourg Alsace' 'Hertha BSC' 'AZ Alkmaar' 'Seattle Sounders FC'\n",
      " 'Montpellier HSC' 'Shanghai Greenland Shenhua FC' 'Hamburger SV'\n",
      " 'Girona FC' 'Racing Club' 'Portland Timbers' 'FC Girondins de Bordeaux'\n",
      " 'Watford' 'Estudiantes de La Plata' 'Club América' 'Vitória Guimarães'\n",
      " 'SK Slavia Praha' 'Trabzonspor' 'RCD Espanyol' 'FC Nantes' 'Angers SCO'\n",
      " 'Cruz Azul' 'BSC Young Boys' 'Club León' 'Spartak Moscow' 'Sivasspor'\n",
      " 'Elche CF' 'FC Augsburg' 'Wuhan Zall' 'Parma' 'Royal Antwerp FC'\n",
      " 'Monterrey' 'San Lorenzo de Almagro' 'AC Monza' 'Club Atlético Lanús'\n",
      " 'SD Huesca' 'Derby County' 'Kayserispor' 'RSC Anderlecht' 'CD Leganés'\n",
      " 'Vélez Sarsfield' 'Stade Brestois 29' 'Tianjin TEDA FC' 'Birmingham City'\n",
      " 'Hellas Verona' '1. FC Köln' 'Al Wehda' 'Bournemouth' 'Alanyaspor'\n",
      " 'Bologna' 'Amiens SC' 'Celtic' 'Shijiazhuang Ever Bright F.C.'\n",
      " 'Club Atlas' 'Al Ahli' 'Norwich City' 'Fatih Karagümrük S.K.'\n",
      " 'Club Tijuana' 'Universidad Católica' 'Goiás' 'Benevento' 'Independiente'\n",
      " 'Qingdao Huanghai F.C.' 'Brentford' 'AEK Athens' 'Racing Club de Lens'\n",
      " 'Olimpia Asunción' 'Shenzhen FC' 'Çaykur Rizespor' 'KAA Gent'\n",
      " 'New England Revolution' 'Cádiz CF' '1. FSV Mainz 05' 'Vasco da Gama'\n",
      " 'FC Midtjylland' 'Al Ain FC' 'Santos Laguna' 'SPAL' 'Perth Glory'\n",
      " 'FC Utrecht' 'Montreal Impact' 'UD Almería' 'Fortaleza' 'Spezia'\n",
      " 'FC Basel 1893' 'FC København' 'Godoy Cruz' 'Deportivo Toluca'\n",
      " 'Nacional de Montevideo' 'Aalborg BK' 'Rio Ave FC' 'FC Metz'\n",
      " 'Chongqing Dangdai Lifan FC SWM Team' 'Rosenborg BK'\n",
      " 'FC Red Bull Salzburg' 'Botafogo' 'DSC Arminia Bielefeld'\n",
      " 'Club Athletico Paranaense' 'RCD Mallorca' 'Pachuca' 'Swansea City'\n",
      " 'KRC Genk' 'En Avant de Guingamp' 'Lecce' 'Nîmes Olympique' 'Colo-Colo'\n",
      " 'Stade Malherbe Caen' 'Columbus Crew SC' 'Junior FC' 'VfB Stuttgart'\n",
      " 'Moreirense FC' 'Rangers FC' 'Malmö FF' 'Shandong Luneng TaiShan FC'\n",
      " 'Sparta Praha' 'Hatayspor' 'Chicago Fire' 'Toulouse Football Club'\n",
      " 'FC Seoul' 'Antalyaspor' 'Deportivo Cali' 'Kaizer Chiefs' 'Real Zaragoza'\n",
      " 'Atlético Clube Goianiense' 'Puebla FC' 'Fortuna Düsseldorf'\n",
      " 'Western United FC' 'Astra Giurgiu' 'Henan Jianye FC' 'Bahia' 'Famalicão'\n",
      " 'Atiker Konyaspor' 'Peñarol' 'DC United' 'New York City FC'\n",
      " 'Argentinos Juniors' 'U.N.A.M.' 'Minnesota United FC' 'Nottingham Forest'\n",
      " 'Independiente del Valle' 'Defensa y Justicia' 'Philadelphia Union'\n",
      " \"Newell's Old Boys\" 'Rosario Central' 'Atlético de San Luis' 'FC Dallas'\n",
      " 'Denizlispor' 'Yeni Malatyaspor' 'Club Atlético Colón' 'Houston Dynamo'\n",
      " 'Millwall' 'Clube Sport Marítimo' 'MKE Ankaragücü' 'Guadalajara'\n",
      " 'Boavista FC' 'Sporting Kansas City' 'Atlético Nacional' 'CD Lugo'\n",
      " 'New York Red Bulls' 'PAOK' 'SC Heerenveen' 'Daegu FC'\n",
      " 'Preston North End' 'Damac FC' 'Brescia' 'VfL Bochum 1848'\n",
      " 'Vancouver Whitecaps FC' 'SV Sandhausen' 'Royal Excel Mouscron'\n",
      " 'Dijon FCO' 'Molde FK' 'Panathinaikos FC' 'LASK Linz' 'Ulsan Hyundai FC'\n",
      " 'Real Salt Lake' 'FC Luzern' 'Viktoria Plzeň' 'Orlando Pirates'\n",
      " 'Al Ittihad' '1. FC Nürnberg' 'Standard de Liège' 'Rayo Vallecano'\n",
      " 'Club Libertad' 'Jeonbuk Hyundai Motors' 'Western Sydney Wanderers'\n",
      " 'Unión de Santa Fe' 'FC Sion' 'Sydney FC' 'Hannover 96'\n",
      " 'Real Sporting de Gijón' 'FC Cincinnati' 'ESTAC Troyes'\n",
      " 'San Jose Earthquakes' 'Club Guaraní' 'FC Lorient' 'Gençlerbirliği SK'\n",
      " 'Sporting de Charleroi' 'Wisła Kraków' 'Al Taawoun' 'Reading'\n",
      " 'Gazişehir Gaziantep F.K.' 'Blackburn Rovers' 'Kashiwa Reysol'\n",
      " 'FK Bodø/Glimt' 'Willem II' 'Vitesse' 'Gil Vicente FC' 'SønderjyskE'\n",
      " 'Yokohama F. Marinos' 'FC St. Gallen' 'Club Atlético Aldosivi'\n",
      " 'Göztepe SK' 'Holstein Kiel' 'FC Juárez' 'FCSB (Steaua)' 'Ettifaq FC'\n",
      " 'KAS Eupen' 'FC Tokyo' 'Melbourne City FC' 'Universitatea Craiova'\n",
      " 'CD Tondela' 'Wolfsberger AC' 'Ceará Sporting Club'\n",
      " 'River Plate Asunción' 'Stoke City' 'Paris FC' 'IFK Norrköping' 'Crotone'\n",
      " 'Cardiff City' 'América de Cali' 'Al Faisaly' 'Independiente Medellín'\n",
      " 'Portimonense SC' 'CD Tenerife' 'Heracles Almelo' 'Nashville SC'\n",
      " 'SK Rapid Wien' 'Kawasaki Frontale' 'Club Necaxa' 'Chievo Verona'\n",
      " 'Lech Poznań' 'AIK' 'FK Austria Wien' 'Querétaro' '1. FC Heidenheim 1846'\n",
      " 'Legia Warszawa' 'Club Atlético Banfield' 'Os Belenenses'\n",
      " 'Huddersfield Town' 'KSV Cercle Brugge' 'LDU Quito'\n",
      " 'Gimnasia y Esgrima La Plata' 'Gamba Osaka' 'Middlesbrough' 'Servette FC'\n",
      " 'Empoli' 'Real Oviedo' 'Kasimpaşa SK' 'CFR Cluj' 'Millonarios FC'\n",
      " 'FC Paços de Ferreira' 'Sint-Truidense VV' 'AD Alcorcón'\n",
      " 'Colorado Rapids' 'Dinamo Bucureşti' 'Cerezo Osaka' 'FC Emmen'\n",
      " 'Sheffield Wednesday' 'FC Erzgebirge Aue' 'Raków Częstochowa'\n",
      " 'Atlético Tucumán' 'SV Darmstadt 98' 'Bristol City' 'Oud-Heverlee Leuven'\n",
      " 'Barnsley' 'Queens Park Rangers' 'Sangju Sangmu FC' 'Helsingborgs IF'\n",
      " 'AC Ajaccio' 'Oceânico FC' 'Club Atlético Talleres' 'Al Hazem'\n",
      " 'SC Paderborn 07' 'Club Atlético Huracán' 'KV Kortrijk' 'El Nacional'\n",
      " 'Mazatlán FC' 'Aberdeen' 'CD Mirandés' 'SV Zulte-Waregem' 'Piast Gliwice'\n",
      " 'Djurgårdens IF' 'Central Córdoba' 'Wellington Phoenix'\n",
      " 'Deportivo Binacional' 'Patronato' 'SpVgg Greuther Fürth' 'IFK Göteborg'\n",
      " 'FC Cartagena' 'Santa Clara' 'FC Twente' 'Farense' 'ADO Den Haag'\n",
      " 'AJ Auxerre' 'Al Fateh' 'Valenciennes FC' 'Hokkaido Consadole Sapporo'\n",
      " 'FC St. Pauli' 'Albacete BP' '1. FC Kaiserslautern' 'Al Fayha'\n",
      " 'Incheon United FC' 'KV Mechelen' 'Pohang Steelers' 'CD Nacional'\n",
      " 'Unión La Calera' 'BB Erzurumspor' 'Kashima Antlers' 'Arsenal de Sarandí'\n",
      " 'HJK Helsinki' 'Karlsruher SC' 'Aarhus GF' 'FC Zürich'\n",
      " 'Barcelona Sporting Club' 'SG Dynamo Dresden' 'Sanfrecce Hiroshima'\n",
      " 'Al Raed' 'SD Ponferradina' 'Brøndby IF' 'Lechia Gdańsk' 'FC Viitorul'\n",
      " 'SK Sturm Graz' 'IF Elfsborg' 'Gangwon FC' 'Melgar FBC'\n",
      " 'Club Atlético Grau' 'Jagiellonia Białystok' 'Waasland-Beveren'\n",
      " 'VfL Osnabrück' 'Nagoya Grampus' 'CF Fuenlabrada' 'Shamrock Rovers'\n",
      " 'Shimizu S-Pulse' 'RKC Waalwijk' 'Vålerenga Fotball' 'Clermont Foot 63'\n",
      " 'FC Ingolstadt 04' 'FC Würzburger Kickers' 'Górnik Zabrze'\n",
      " 'Charlton Athletic' 'Beerschot AC' 'Coquimbo Unido' 'Viktoria Köln'\n",
      " 'Hull City' 'Málaga CF' 'FC Nordsjælland' 'UD Las Palmas' 'VVV-Venlo'\n",
      " 'GwangJu FC' 'Chamois Niortais Football Club' 'FC Lugano' 'Cusco FC'\n",
      " 'Sparta Rotterdam' 'Sol de América' 'PEC Zwolle' 'Pogoń Szczecin'\n",
      " 'Doncaster Rovers' 'Kristiansund BK' 'Liverpool Fútbol Club'\n",
      " 'Club Bolívar' 'Urawa Red Diamonds' 'SK Brann' 'Eintracht Braunschweig'\n",
      " 'Nacional Asunción' 'Melbourne Victory' 'Kilmarnock' 'Dundalk'\n",
      " 'SSV Jahn Regensburg' 'Abha Club' 'Club Atlético Tigre'\n",
      " 'Suwon Samsung Bluewings' 'Shonan Bellmare' 'SD Aucas' 'Emelec'\n",
      " 'Fortuna Sittard' 'La Berrichonne de Châteauroux' 'Śląsk Wrocław'\n",
      " 'Coventry City' 'Sunderland' 'Alianza Lima' 'Hammarby IF' 'Cracovia'\n",
      " 'CE Sabadell FC' 'Oita Trinita' 'BK Häcken' 'Luton Town' 'Le Havre AC'\n",
      " 'IK Sirius' 'Zagłębie Lubin' 'Grenoble Foot 38' 'Macarthur FC'\n",
      " 'Rodez Aveyron Football' 'Vegalta Sendai' 'Motherwell'\n",
      " 'SV Wehen Wiesbaden' 'Audax Italiano' 'Gaz Metan Mediaş' 'Portsmouth'\n",
      " 'Hibernian' 'Always Ready' 'UD Logroñés' 'FC Voluntari' 'FC Hermannstadt'\n",
      " 'AS Nancy Lorraine' 'Rotherham United' 'Fleetwood Town'\n",
      " 'Jorge Wilstermann' 'Odense Boldklub' 'MSV Duisburg'\n",
      " 'FC Sochaux-Montbéliard' 'Milton Keynes Dons' 'River Plate Montevideo'\n",
      " 'Delfín SC' 'Universidad Católica del Ecuador' 'Deportivo Pasto'\n",
      " 'KV Oostende' 'Club Plaza Colonia' 'Wigan Athletic' 'FC Botoşani'\n",
      " 'C.D. Castellón' 'SCR Altach' 'Örebro SK' 'TSV Hartberg' 'Stabæk Fotball'\n",
      " 'Wycombe Wanderers' 'St. Johnstone FC' 'Oxford United' 'Lincoln City'\n",
      " 'Randers FC' 'Viking FK' 'FC Chambly Oise' 'Dundee United'\n",
      " 'Oriente Petrolero' 'Odds BK' 'Nacional Potosí' 'Sepsi OSK'\n",
      " 'FC Hansa Rostock' 'Lyngby BK' 'SpVgg Unterhaching' 'Brisbane Roar'\n",
      " 'Seongnam FC' 'SV Ried' 'CD Huachipato' 'WSG Tirol'\n",
      " 'Podbeskidzie Bielsko-Biała' 'Peterborough United' 'Club Blooming'\n",
      " 'Wisła Płock' 'Busan IPark' 'FSV Zwickau' 'Mjøndalen IF' 'Vejle Boldklub'\n",
      " 'Pau FC' 'FC Lausanne-Sport' 'Estudiantes de Mérida' 'Sagan Tosu'\n",
      " 'SV Waldhof Mannheim' 'Sport Huancayo' 'Hallescher FC' 'Kalmar FF'\n",
      " 'St. Mirren' 'SKN St. Pölten' 'Sarpsborg 08 FF' 'Shrewsbury'\n",
      " 'TSV 1860 München' 'SV Meppen' 'Ipswich Town' 'IK Start'\n",
      " 'Adelaide United' 'Stal Mielec' 'Centro Atlético Fénix' 'Newcastle Jets'\n",
      " 'Livingston FC' 'AC Mineros de Guayana' 'AFC Wimbledon' 'Burton Albion'\n",
      " 'Al Adalah' 'Warta Poznań' 'USL Dunkerque' 'Bristol Rovers' 'UTA Arad'\n",
      " 'Östersunds FK' 'Sportivo Luqueño' 'Politehnica Iaşi' 'Salford City'\n",
      " 'Central Coast Mariners' 'Caracas FC' 'AC Horsens' 'Plymouth Argyle'\n",
      " 'Aalesunds FK' 'Crewe Alexandra' 'Chindia Târgovişte' 'Oldham Athletic'\n",
      " 'Yokohama FC' 'Blackpool' 'Northampton Town' 'Bayern München II'\n",
      " 'FK Haugesund' 'KFC Uerdingen 05' 'Forest Green Rovers' 'Cheltenham Town'\n",
      " 'Strømsgodset IF' 'Mjällby AIF' 'Exeter City' 'Cambridge United'\n",
      " 'Grimsby Town' 'FC Vaduz' 'Türkgücü München' 'VfB Lübeck'\n",
      " 'Bolton Wanderers' 'Bradford City' '1. FC Magdeburg'\n",
      " 'FC Admira Wacker Mödling' 'Hamilton Academical FC' 'Aragua FC'\n",
      " 'Accrington Stanley' 'Swindon Town' 'Carlisle United' 'FC Argeș'\n",
      " 'Port Vale' 'Academica Clinceni' 'Rochdale' 'Gillingham'\n",
      " 'Tranmere Rovers' 'Southend United' '1. FC Saarbrücken'\n",
      " 'Colchester United' 'Mansfield Town' 'Falkenbergs FF' 'SC Verl'\n",
      " 'Varbergs BoIS' 'Crawley Town' 'Sandefjord Fotball' 'Newport County'\n",
      " 'Bohemian FC' 'Ross County FC' 'Scunthorpe United' 'Morecambe' 'Walsall'\n",
      " 'Leyton Orient' 'Stevenage' 'Barrow' 'Derry City' 'Llaneros de Guanare'\n",
      " 'Sligo Rovers' 'Zamora FC' \"St. Patrick's Athletic\" 'Cork City'\n",
      " 'Shelbourne FC' 'Harrogate Town' 'Waterford FC' 'Finn Harps']\n"
     ]
    },
    {
     "data": {
      "text/plain": [
       "0           FC Barcelona\n",
       "1               Juventus\n",
       "2        Atlético Madrid\n",
       "3        Manchester City\n",
       "4    Paris Saint-Germain\n",
       "Name: Club, dtype: object"
      ]
     },
     "execution_count": 32,
     "metadata": {},
     "output_type": "execute_result"
    }
   ],
   "source": [
    "df['Club'] = df['Club'].astype(str).str.replace('\\n', '', regex=True)\n",
    "print(df['Club'].unique())\n",
    "df['Club'].head()\n"
   ]
  },
  {
   "cell_type": "code",
   "execution_count": 33,
   "id": "7476d59c-9e9d-48f3-b590-5018013a9733",
   "metadata": {},
   "outputs": [
    {
     "name": "stdout",
     "output_type": "stream",
     "text": [
      "<class 'pandas.core.frame.DataFrame'>\n",
      "RangeIndex: 18979 entries, 0 to 18978\n",
      "Data columns (total 73 columns):\n",
      " #   Column            Non-Null Count  Dtype         \n",
      "---  ------            --------------  -----         \n",
      " 0   ID                18979 non-null  int64         \n",
      " 1   Name              18979 non-null  object        \n",
      " 2   Nationality       18979 non-null  object        \n",
      " 3   Age               18979 non-null  int64         \n",
      " 4   OVA               18979 non-null  int64         \n",
      " 5   POT               18979 non-null  int64         \n",
      " 6   Club              18979 non-null  object        \n",
      " 7   Contract          17729 non-null  float64       \n",
      " 8   Positions         18979 non-null  object        \n",
      " 9   Height            18979 non-null  float64       \n",
      " 10  Weight            18979 non-null  float64       \n",
      " 11  Preferred Foot    18979 non-null  object        \n",
      " 12  BOV               18979 non-null  int64         \n",
      " 13  Best Position     18979 non-null  object        \n",
      " 14  Joined            18979 non-null  datetime64[ns]\n",
      " 15  Value             18979 non-null  int64         \n",
      " 16  Wage              18979 non-null  int64         \n",
      " 17  Release Clause    18979 non-null  int64         \n",
      " 18  Attacking         18979 non-null  int64         \n",
      " 19  Crossing          18979 non-null  int64         \n",
      " 20  Finishing         18979 non-null  int64         \n",
      " 21  Heading Accuracy  18979 non-null  int64         \n",
      " 22  Short Passing     18979 non-null  int64         \n",
      " 23  Volleys           18979 non-null  int64         \n",
      " 24  Skill             18979 non-null  int64         \n",
      " 25  Dribbling         18979 non-null  int64         \n",
      " 26  Curve             18979 non-null  int64         \n",
      " 27  FK Accuracy       18979 non-null  int64         \n",
      " 28  Long Passing      18979 non-null  int64         \n",
      " 29  Ball Control      18979 non-null  int64         \n",
      " 30  Movement          18979 non-null  int64         \n",
      " 31  Acceleration      18979 non-null  int64         \n",
      " 32  Sprint Speed      18979 non-null  int64         \n",
      " 33  Agility           18979 non-null  int64         \n",
      " 34  Reactions         18979 non-null  int64         \n",
      " 35  Balance           18979 non-null  int64         \n",
      " 36  Power             18979 non-null  int64         \n",
      " 37  Shot Power        18979 non-null  int64         \n",
      " 38  Jumping           18979 non-null  int64         \n",
      " 39  Stamina           18979 non-null  int64         \n",
      " 40  Strength          18979 non-null  int64         \n",
      " 41  Long Shots        18979 non-null  int64         \n",
      " 42  Mentality         18979 non-null  int64         \n",
      " 43  Aggression        18979 non-null  int64         \n",
      " 44  Interceptions     18979 non-null  int64         \n",
      " 45  Positioning       18979 non-null  int64         \n",
      " 46  Vision            18979 non-null  int64         \n",
      " 47  Penalties         18979 non-null  int64         \n",
      " 48  Composure         18979 non-null  int64         \n",
      " 49  Defending         18979 non-null  int64         \n",
      " 50  Marking           18979 non-null  int64         \n",
      " 51  Standing Tackle   18979 non-null  int64         \n",
      " 52  Sliding Tackle    18979 non-null  int64         \n",
      " 53  Goalkeeping       18979 non-null  int64         \n",
      " 54  GK Diving         18979 non-null  int64         \n",
      " 55  GK Handling       18979 non-null  int64         \n",
      " 56  GK Kicking        18979 non-null  int64         \n",
      " 57  GK Positioning    18979 non-null  int64         \n",
      " 58  GK Reflexes       18979 non-null  int64         \n",
      " 59  Total Stats       18979 non-null  int64         \n",
      " 60  Base Stats        18979 non-null  int64         \n",
      " 61  W/F               18979 non-null  int64         \n",
      " 62  SM                18979 non-null  int64         \n",
      " 63  A/W               18979 non-null  object        \n",
      " 64  D/W               18979 non-null  object        \n",
      " 65  IR                18979 non-null  int64         \n",
      " 66  PAC               18979 non-null  int64         \n",
      " 67  SHO               18979 non-null  int64         \n",
      " 68  PAS               18979 non-null  int64         \n",
      " 69  DRI               18979 non-null  int64         \n",
      " 70  DEF               18979 non-null  int64         \n",
      " 71  PHY               18979 non-null  int64         \n",
      " 72  Hits              16384 non-null  object        \n",
      "dtypes: datetime64[ns](1), float64(3), int64(60), object(9)\n",
      "memory usage: 10.6+ MB\n"
     ]
    }
   ],
   "source": [
    "df.info()"
   ]
  },
  {
   "cell_type": "code",
   "execution_count": 34,
   "id": "727b197f-dc3c-422e-92b5-814669464cdf",
   "metadata": {},
   "outputs": [
    {
     "data": {
      "text/plain": [
       "0        Argentina\n",
       "1         Portugal\n",
       "2         Slovenia\n",
       "3          Belgium\n",
       "4           Brazil\n",
       "           ...    \n",
       "18974     China PR\n",
       "18975      England\n",
       "18976      England\n",
       "18977     China PR\n",
       "18978     China PR\n",
       "Name: Nationality, Length: 18979, dtype: object"
      ]
     },
     "execution_count": 34,
     "metadata": {},
     "output_type": "execute_result"
    }
   ],
   "source": [
    "df['Nationality']"
   ]
  },
  {
   "cell_type": "code",
   "execution_count": 35,
   "id": "ff2dd4fe-979e-4adc-8168-5d4299994eb0",
   "metadata": {},
   "outputs": [
    {
     "data": {
      "text/plain": [
       "0         Left\n",
       "1        Right\n",
       "2        Right\n",
       "3        Right\n",
       "4        Right\n",
       "         ...  \n",
       "18974    Right\n",
       "18975    Right\n",
       "18976    Right\n",
       "18977    Right\n",
       "18978     Left\n",
       "Name: Preferred Foot, Length: 18979, dtype: object"
      ]
     },
     "execution_count": 35,
     "metadata": {},
     "output_type": "execute_result"
    }
   ],
   "source": [
    "df['Preferred Foot']"
   ]
  },
  {
   "cell_type": "code",
   "execution_count": 36,
   "id": "894678ca-911f-4682-9fbd-a55c97c8a6c1",
   "metadata": {},
   "outputs": [
    {
     "data": {
      "text/html": [
       "<div>\n",
       "<style scoped>\n",
       "    .dataframe tbody tr th:only-of-type {\n",
       "        vertical-align: middle;\n",
       "    }\n",
       "\n",
       "    .dataframe tbody tr th {\n",
       "        vertical-align: top;\n",
       "    }\n",
       "\n",
       "    .dataframe thead th {\n",
       "        text-align: right;\n",
       "    }\n",
       "</style>\n",
       "<table border=\"1\" class=\"dataframe\">\n",
       "  <thead>\n",
       "    <tr style=\"text-align: right;\">\n",
       "      <th></th>\n",
       "      <th>A/W</th>\n",
       "      <th>D/W</th>\n",
       "    </tr>\n",
       "  </thead>\n",
       "  <tbody>\n",
       "    <tr>\n",
       "      <th>0</th>\n",
       "      <td>Medium</td>\n",
       "      <td>Low</td>\n",
       "    </tr>\n",
       "    <tr>\n",
       "      <th>1</th>\n",
       "      <td>High</td>\n",
       "      <td>Low</td>\n",
       "    </tr>\n",
       "    <tr>\n",
       "      <th>2</th>\n",
       "      <td>Medium</td>\n",
       "      <td>Medium</td>\n",
       "    </tr>\n",
       "    <tr>\n",
       "      <th>3</th>\n",
       "      <td>High</td>\n",
       "      <td>High</td>\n",
       "    </tr>\n",
       "    <tr>\n",
       "      <th>4</th>\n",
       "      <td>High</td>\n",
       "      <td>Medium</td>\n",
       "    </tr>\n",
       "    <tr>\n",
       "      <th>...</th>\n",
       "      <td>...</td>\n",
       "      <td>...</td>\n",
       "    </tr>\n",
       "    <tr>\n",
       "      <th>18974</th>\n",
       "      <td>Medium</td>\n",
       "      <td>Medium</td>\n",
       "    </tr>\n",
       "    <tr>\n",
       "      <th>18975</th>\n",
       "      <td>Medium</td>\n",
       "      <td>Medium</td>\n",
       "    </tr>\n",
       "    <tr>\n",
       "      <th>18976</th>\n",
       "      <td>Medium</td>\n",
       "      <td>Medium</td>\n",
       "    </tr>\n",
       "    <tr>\n",
       "      <th>18977</th>\n",
       "      <td>Medium</td>\n",
       "      <td>Medium</td>\n",
       "    </tr>\n",
       "    <tr>\n",
       "      <th>18978</th>\n",
       "      <td>Medium</td>\n",
       "      <td>Medium</td>\n",
       "    </tr>\n",
       "  </tbody>\n",
       "</table>\n",
       "<p>18979 rows × 2 columns</p>\n",
       "</div>"
      ],
      "text/plain": [
       "          A/W     D/W\n",
       "0      Medium     Low\n",
       "1        High     Low\n",
       "2      Medium  Medium\n",
       "3        High    High\n",
       "4        High  Medium\n",
       "...       ...     ...\n",
       "18974  Medium  Medium\n",
       "18975  Medium  Medium\n",
       "18976  Medium  Medium\n",
       "18977  Medium  Medium\n",
       "18978  Medium  Medium\n",
       "\n",
       "[18979 rows x 2 columns]"
      ]
     },
     "execution_count": 36,
     "metadata": {},
     "output_type": "execute_result"
    }
   ],
   "source": [
    "df[['A/W','D/W']]"
   ]
  },
  {
   "cell_type": "code",
   "execution_count": 37,
   "id": "e6518eb5-05d1-40cb-b3d7-3d3bb6a5026b",
   "metadata": {},
   "outputs": [
    {
     "name": "stdout",
     "output_type": "stream",
     "text": [
      "['Medium' 'High' 'Low']\n",
      "['Low' 'Medium' 'High']\n"
     ]
    }
   ],
   "source": [
    "print(df['A/W'].unique())\n",
    "print(df['D/W'].unique())"
   ]
  },
  {
   "cell_type": "code",
   "execution_count": 38,
   "id": "07702b20-4589-4f2e-b2b4-4c1e2a237230",
   "metadata": {},
   "outputs": [
    {
     "data": {
      "text/plain": [
       "0         RW\n",
       "1         ST\n",
       "2         GK\n",
       "3        CAM\n",
       "4         LW\n",
       "        ... \n",
       "18974     CB\n",
       "18975    CAM\n",
       "18976    CAM\n",
       "18977     ST\n",
       "18978     LB\n",
       "Name: Best Position, Length: 18979, dtype: object"
      ]
     },
     "execution_count": 38,
     "metadata": {},
     "output_type": "execute_result"
    }
   ],
   "source": [
    "df['Best Position']"
   ]
  },
  {
   "cell_type": "code",
   "execution_count": 39,
   "id": "a78212a2-244d-479f-bcc8-cda3b534ffc4",
   "metadata": {},
   "outputs": [],
   "source": [
    "from sklearn.preprocessing import LabelEncoder\n",
    "label_encoders = {\n",
    "    'nationality': LabelEncoder(),\n",
    "    'preferred_foot': LabelEncoder(),\n",
    "    'best_position': LabelEncoder(),\n",
    "    'aw': LabelEncoder(),\n",
    "    'dw': LabelEncoder(),\n",
    "    'club': LabelEncoder()\n",
    "}\n",
    "\n",
    "\n",
    "df['Nationality'] = label_encoders['nationality'].fit_transform(df['Nationality'])\n",
    "df['Preferred Foot'] = label_encoders['preferred_foot'].fit_transform(df['Preferred Foot'])\n",
    "df['Best Position'] = label_encoders['best_position'].fit_transform(df['Best Position'])\n",
    "df['A/W'] = label_encoders['aw'].fit_transform(df['A/W'])\n",
    "df['D/W'] = label_encoders['dw'].fit_transform(df['D/W'])\n",
    "df['Club'] = label_encoders['club'].fit_transform(df['Club'])"
   ]
  },
  {
   "cell_type": "code",
   "execution_count": 40,
   "id": "85654ad5-bc3a-4917-81ca-86d1065c07f6",
   "metadata": {},
   "outputs": [],
   "source": [
    "from sklearn.model_selection import train_test_split\n",
    "x = df.drop(['Name', 'Joined', 'Hits', 'Release Clause', 'Contract','Positions'], axis=1)\n",
    "y = df['Release Clause']\n",
    "x=x.values.astype('float64')\n",
    "y=y.values.astype('float64')\n",
    "\n",
    "x_train,x_test,y_train,y_test = train_test_split(x,y,train_size = 0.70,random_state = 42)"
   ]
  },
  {
   "cell_type": "code",
   "execution_count": 41,
   "id": "f9e259d2-71ee-4a87-94cf-c3100d849e5f",
   "metadata": {},
   "outputs": [
    {
     "name": "stdout",
     "output_type": "stream",
     "text": [
      "(13285, 67)\n",
      "(13285,)\n"
     ]
    }
   ],
   "source": [
    "print(x_train.shape)\n",
    "print(y_train.shape)"
   ]
  },
  {
   "cell_type": "code",
   "execution_count": 42,
   "id": "0d61f2e0-5559-4681-9d88-98a647c7362e",
   "metadata": {},
   "outputs": [
    {
     "name": "stdout",
     "output_type": "stream",
     "text": [
      "X float64\n",
      "Y float64\n"
     ]
    }
   ],
   "source": [
    "print(\"X\",x_train.dtype)\n",
    "print(\"Y\",y_train.dtype)"
   ]
  },
  {
   "cell_type": "code",
   "execution_count": 43,
   "id": "fca647fd-9dbc-4120-92e9-3877e52a5bdc",
   "metadata": {},
   "outputs": [
    {
     "data": {
      "text/plain": [
       "array([[2.11575e+05, 1.24000e+02, 2.60000e+01, ..., 7.70000e+01,\n",
       "        7.00000e+01, 7.60000e+01],\n",
       "       [2.13543e+05, 4.20000e+01, 2.70000e+01, ..., 5.10000e+01,\n",
       "        6.50000e+01, 7.20000e+01],\n",
       "       [2.40021e+05, 1.42000e+02, 2.10000e+01, ..., 4.50000e+01,\n",
       "        6.30000e+01, 7.00000e+01],\n",
       "       ...,\n",
       "       [2.44428e+05, 1.55000e+02, 2.30000e+01, ..., 6.40000e+01,\n",
       "        6.60000e+01, 7.20000e+01],\n",
       "       [1.98031e+05, 1.24000e+02, 2.80000e+01, ..., 7.50000e+01,\n",
       "        6.60000e+01, 6.80000e+01],\n",
       "       [2.09254e+05, 4.70000e+01, 3.00000e+01, ..., 6.30000e+01,\n",
       "        5.50000e+01, 6.40000e+01]])"
      ]
     },
     "execution_count": 43,
     "metadata": {},
     "output_type": "execute_result"
    }
   ],
   "source": [
    "x_train"
   ]
  },
  {
   "cell_type": "code",
   "execution_count": 44,
   "id": "59dc4b62-b90d-4713-ba2d-e31a6b474bb9",
   "metadata": {},
   "outputs": [
    {
     "data": {
      "text/plain": [
       "array([28600000.,   762000.,  1000000., ...,  3300000., 21000000.,\n",
       "         245000.])"
      ]
     },
     "execution_count": 44,
     "metadata": {},
     "output_type": "execute_result"
    }
   ],
   "source": [
    "y_train"
   ]
  },
  {
   "cell_type": "code",
   "execution_count": 45,
   "id": "5b2f7a25-0e73-477b-ba32-5b756d68eec8",
   "metadata": {},
   "outputs": [],
   "source": [
    "from keras.models import Sequential\n",
    "from keras.layers import Dense\n",
    "from sklearn.preprocessing import StandardScaler\n",
    "\n",
    "x_scaler = StandardScaler()\n",
    "x_train_scaled = x_scaler.fit_transform(x_train)\n",
    "y_scaler = StandardScaler()\n",
    "y_train_scaled = y_scaler.fit_transform(y_train.reshape(-1, 1))\n",
    "\n",
    "# Model\n",
    "model = Sequential()\n",
    "model.add(Dense(128, activation='relu', input_dim=x_train.shape[1]))\n",
    "model.add(Dense(128,activation='relu'))\n",
    "model.add(Dense(64,activation='relu'))\n",
    "model.add(Dense(64,activation='relu'))\n",
    "model.add(Dense(32,activation='relu'))\n",
    "model.add(Dense(32,activation='relu'))\n",
    "model.add(Dense(32,activation='relu'))\n",
    "model.add(Dense(32,activation='relu'))\n",
    "model.add(Dense(32,activation='relu'))\n",
    "model.add(Dense(1,activation='linear'))\n",
    "\n",
    "model.compile(optimizer=\"adam\",loss='mse',metrics=[\"mae\"])"
   ]
  },
  {
   "cell_type": "code",
   "execution_count": 46,
   "id": "f6dce072-72f3-447a-8cab-4fea22185055",
   "metadata": {},
   "outputs": [
    {
     "name": "stdout",
     "output_type": "stream",
     "text": [
      "Epoch 1/128\n",
      "208/208 [==============================] - 1s 3ms/step - loss: 0.1557 - mae: 0.1887\n",
      "Epoch 2/128\n",
      "208/208 [==============================] - 1s 4ms/step - loss: 0.0793 - mae: 0.1229\n",
      "Epoch 3/128\n",
      "208/208 [==============================] - 1s 4ms/step - loss: 0.0747 - mae: 0.1210\n",
      "Epoch 4/128\n",
      "208/208 [==============================] - 1s 3ms/step - loss: 0.0725 - mae: 0.1142\n",
      "Epoch 5/128\n",
      "208/208 [==============================] - 1s 3ms/step - loss: 0.0670 - mae: 0.1087\n",
      "Epoch 6/128\n",
      "208/208 [==============================] - 1s 3ms/step - loss: 0.0617 - mae: 0.1022\n",
      "Epoch 7/128\n",
      "208/208 [==============================] - 1s 3ms/step - loss: 0.0699 - mae: 0.1101\n",
      "Epoch 8/128\n",
      "208/208 [==============================] - 1s 3ms/step - loss: 0.0521 - mae: 0.0951\n",
      "Epoch 9/128\n",
      "208/208 [==============================] - 1s 3ms/step - loss: 0.0509 - mae: 0.0941\n",
      "Epoch 10/128\n",
      "208/208 [==============================] - 1s 3ms/step - loss: 0.0466 - mae: 0.0912\n",
      "Epoch 11/128\n",
      "208/208 [==============================] - 1s 3ms/step - loss: 0.0578 - mae: 0.1007\n",
      "Epoch 12/128\n",
      "208/208 [==============================] - 1s 3ms/step - loss: 0.0539 - mae: 0.1001\n",
      "Epoch 13/128\n",
      "208/208 [==============================] - 1s 3ms/step - loss: 0.0531 - mae: 0.0985\n",
      "Epoch 14/128\n",
      "208/208 [==============================] - 1s 3ms/step - loss: 0.0500 - mae: 0.0950\n",
      "Epoch 15/128\n",
      "208/208 [==============================] - 1s 3ms/step - loss: 0.0419 - mae: 0.0879\n",
      "Epoch 16/128\n",
      "208/208 [==============================] - 1s 3ms/step - loss: 0.0418 - mae: 0.0874\n",
      "Epoch 17/128\n",
      "208/208 [==============================] - 1s 3ms/step - loss: 0.0379 - mae: 0.0848\n",
      "Epoch 18/128\n",
      "208/208 [==============================] - 1s 3ms/step - loss: 0.0383 - mae: 0.0847\n",
      "Epoch 19/128\n",
      "208/208 [==============================] - 1s 3ms/step - loss: 0.0374 - mae: 0.0847\n",
      "Epoch 20/128\n",
      "208/208 [==============================] - 1s 4ms/step - loss: 0.0628 - mae: 0.1034\n",
      "Epoch 21/128\n",
      "208/208 [==============================] - 1s 3ms/step - loss: 0.0488 - mae: 0.0982\n",
      "Epoch 22/128\n",
      "208/208 [==============================] - 1s 3ms/step - loss: 0.0373 - mae: 0.0844\n",
      "Epoch 23/128\n",
      "208/208 [==============================] - 1s 3ms/step - loss: 0.0304 - mae: 0.0764\n",
      "Epoch 24/128\n",
      "208/208 [==============================] - 1s 3ms/step - loss: 0.0264 - mae: 0.0726\n",
      "Epoch 25/128\n",
      "208/208 [==============================] - 1s 3ms/step - loss: 0.0274 - mae: 0.0749\n",
      "Epoch 26/128\n",
      "208/208 [==============================] - 1s 3ms/step - loss: 0.0316 - mae: 0.0781\n",
      "Epoch 27/128\n",
      "208/208 [==============================] - 1s 3ms/step - loss: 0.0321 - mae: 0.0782\n",
      "Epoch 28/128\n",
      "208/208 [==============================] - 1s 3ms/step - loss: 0.0269 - mae: 0.0754\n",
      "Epoch 29/128\n",
      "208/208 [==============================] - 1s 3ms/step - loss: 0.0223 - mae: 0.0674\n",
      "Epoch 30/128\n",
      "208/208 [==============================] - 1s 3ms/step - loss: 0.0250 - mae: 0.0737\n",
      "Epoch 31/128\n",
      "208/208 [==============================] - 1s 3ms/step - loss: 0.0172 - mae: 0.0626\n",
      "Epoch 32/128\n",
      "208/208 [==============================] - 1s 3ms/step - loss: 0.0223 - mae: 0.0683\n",
      "Epoch 33/128\n",
      "208/208 [==============================] - 1s 3ms/step - loss: 0.0204 - mae: 0.0659\n",
      "Epoch 34/128\n",
      "208/208 [==============================] - 1s 3ms/step - loss: 0.0201 - mae: 0.0673\n",
      "Epoch 35/128\n",
      "208/208 [==============================] - 1s 3ms/step - loss: 0.0404 - mae: 0.0819\n",
      "Epoch 36/128\n",
      "208/208 [==============================] - 1s 3ms/step - loss: 0.0248 - mae: 0.0718\n",
      "Epoch 37/128\n",
      "208/208 [==============================] - 1s 3ms/step - loss: 0.0247 - mae: 0.0714\n",
      "Epoch 38/128\n",
      "208/208 [==============================] - 1s 3ms/step - loss: 0.0187 - mae: 0.0647\n",
      "Epoch 39/128\n",
      "208/208 [==============================] - 1s 3ms/step - loss: 0.0110 - mae: 0.0544\n",
      "Epoch 40/128\n",
      "208/208 [==============================] - 1s 3ms/step - loss: 0.0177 - mae: 0.0628\n",
      "Epoch 41/128\n",
      "208/208 [==============================] - 1s 3ms/step - loss: 0.0119 - mae: 0.0562\n",
      "Epoch 42/128\n",
      "208/208 [==============================] - 1s 3ms/step - loss: 0.0169 - mae: 0.0603\n",
      "Epoch 43/128\n",
      "208/208 [==============================] - 1s 3ms/step - loss: 0.0159 - mae: 0.0609\n",
      "Epoch 44/128\n",
      "208/208 [==============================] - 1s 3ms/step - loss: 0.0271 - mae: 0.0732\n",
      "Epoch 45/128\n",
      "208/208 [==============================] - 1s 3ms/step - loss: 0.0149 - mae: 0.0593\n",
      "Epoch 46/128\n",
      "208/208 [==============================] - 1s 3ms/step - loss: 0.0142 - mae: 0.0571\n",
      "Epoch 47/128\n",
      "208/208 [==============================] - 1s 3ms/step - loss: 0.0143 - mae: 0.0603\n",
      "Epoch 48/128\n",
      "208/208 [==============================] - 1s 3ms/step - loss: 0.0174 - mae: 0.0622\n",
      "Epoch 49/128\n",
      "208/208 [==============================] - 1s 3ms/step - loss: 0.0326 - mae: 0.0785\n",
      "Epoch 50/128\n",
      "208/208 [==============================] - 1s 3ms/step - loss: 0.0176 - mae: 0.0644\n",
      "Epoch 51/128\n",
      "208/208 [==============================] - 1s 3ms/step - loss: 0.0516 - mae: 0.0924\n",
      "Epoch 52/128\n",
      "208/208 [==============================] - 1s 3ms/step - loss: 0.0193 - mae: 0.0626\n",
      "Epoch 53/128\n",
      "208/208 [==============================] - 1s 3ms/step - loss: 0.0115 - mae: 0.0555\n",
      "Epoch 54/128\n",
      "208/208 [==============================] - 1s 3ms/step - loss: 0.0079 - mae: 0.0489\n",
      "Epoch 55/128\n",
      "208/208 [==============================] - 1s 3ms/step - loss: 0.0086 - mae: 0.0490\n",
      "Epoch 56/128\n",
      "208/208 [==============================] - 1s 3ms/step - loss: 0.0076 - mae: 0.0477\n",
      "Epoch 57/128\n",
      "208/208 [==============================] - 1s 3ms/step - loss: 0.0083 - mae: 0.0475\n",
      "Epoch 58/128\n",
      "208/208 [==============================] - 1s 3ms/step - loss: 0.0089 - mae: 0.0459\n",
      "Epoch 59/128\n",
      "208/208 [==============================] - 1s 3ms/step - loss: 0.0078 - mae: 0.0450\n",
      "Epoch 60/128\n",
      "208/208 [==============================] - 1s 3ms/step - loss: 0.0074 - mae: 0.0451\n",
      "Epoch 61/128\n",
      "208/208 [==============================] - 1s 3ms/step - loss: 0.0071 - mae: 0.0450\n",
      "Epoch 62/128\n",
      "208/208 [==============================] - 1s 3ms/step - loss: 0.0256 - mae: 0.0727\n",
      "Epoch 63/128\n",
      "208/208 [==============================] - 1s 4ms/step - loss: 0.0352 - mae: 0.0801\n",
      "Epoch 64/128\n",
      "208/208 [==============================] - 1s 3ms/step - loss: 0.0160 - mae: 0.0591\n",
      "Epoch 65/128\n",
      "208/208 [==============================] - 1s 3ms/step - loss: 0.0162 - mae: 0.0564\n",
      "Epoch 66/128\n",
      "208/208 [==============================] - 1s 3ms/step - loss: 0.0103 - mae: 0.0506\n",
      "Epoch 67/128\n",
      "208/208 [==============================] - 1s 3ms/step - loss: 0.0053 - mae: 0.0411\n",
      "Epoch 68/128\n",
      "208/208 [==============================] - 1s 3ms/step - loss: 0.0045 - mae: 0.0387\n",
      "Epoch 69/128\n",
      "208/208 [==============================] - 1s 3ms/step - loss: 0.0044 - mae: 0.0379\n",
      "Epoch 70/128\n",
      "208/208 [==============================] - 1s 3ms/step - loss: 0.0110 - mae: 0.0436\n",
      "Epoch 71/128\n",
      "208/208 [==============================] - 1s 3ms/step - loss: 0.0182 - mae: 0.0604\n",
      "Epoch 72/128\n",
      "208/208 [==============================] - 1s 3ms/step - loss: 0.0219 - mae: 0.0685\n",
      "Epoch 73/128\n",
      "208/208 [==============================] - 1s 3ms/step - loss: 0.0226 - mae: 0.0654\n",
      "Epoch 74/128\n",
      "208/208 [==============================] - 1s 3ms/step - loss: 0.0099 - mae: 0.0503\n",
      "Epoch 75/128\n",
      "208/208 [==============================] - 1s 3ms/step - loss: 0.0068 - mae: 0.0433\n",
      "Epoch 76/128\n",
      "208/208 [==============================] - 1s 3ms/step - loss: 0.0085 - mae: 0.0456\n",
      "Epoch 77/128\n",
      "208/208 [==============================] - 1s 3ms/step - loss: 0.0074 - mae: 0.0433\n",
      "Epoch 78/128\n",
      "208/208 [==============================] - 1s 3ms/step - loss: 0.0061 - mae: 0.0406\n",
      "Epoch 79/128\n",
      "208/208 [==============================] - 1s 3ms/step - loss: 0.0062 - mae: 0.0417\n",
      "Epoch 80/128\n",
      "208/208 [==============================] - 1s 3ms/step - loss: 0.0054 - mae: 0.0397\n",
      "Epoch 81/128\n",
      "208/208 [==============================] - 1s 3ms/step - loss: 0.0053 - mae: 0.0388\n",
      "Epoch 82/128\n",
      "208/208 [==============================] - 1s 3ms/step - loss: 0.0053 - mae: 0.0394\n",
      "Epoch 83/128\n",
      "208/208 [==============================] - 1s 3ms/step - loss: 0.0046 - mae: 0.0380\n",
      "Epoch 84/128\n",
      "208/208 [==============================] - 1s 3ms/step - loss: 0.0236 - mae: 0.0591\n",
      "Epoch 85/128\n",
      "208/208 [==============================] - 1s 3ms/step - loss: 0.0418 - mae: 0.0857\n",
      "Epoch 86/128\n",
      "208/208 [==============================] - 1s 4ms/step - loss: 0.0172 - mae: 0.0635\n",
      "Epoch 87/128\n",
      "208/208 [==============================] - 1s 3ms/step - loss: 0.0098 - mae: 0.0503\n",
      "Epoch 88/128\n",
      "208/208 [==============================] - 1s 3ms/step - loss: 0.0062 - mae: 0.0428\n",
      "Epoch 89/128\n",
      "208/208 [==============================] - 1s 3ms/step - loss: 0.0052 - mae: 0.0398\n",
      "Epoch 90/128\n",
      "208/208 [==============================] - 1s 3ms/step - loss: 0.0052 - mae: 0.0394\n",
      "Epoch 91/128\n",
      "208/208 [==============================] - 1s 3ms/step - loss: 0.0045 - mae: 0.0373\n",
      "Epoch 92/128\n",
      "208/208 [==============================] - 1s 4ms/step - loss: 0.0067 - mae: 0.0412\n",
      "Epoch 93/128\n",
      "208/208 [==============================] - 1s 3ms/step - loss: 0.0057 - mae: 0.0381\n",
      "Epoch 94/128\n",
      "208/208 [==============================] - 1s 3ms/step - loss: 0.0076 - mae: 0.0420\n",
      "Epoch 95/128\n",
      "208/208 [==============================] - 1s 3ms/step - loss: 0.0043 - mae: 0.0361\n",
      "Epoch 96/128\n",
      "208/208 [==============================] - 1s 3ms/step - loss: 0.0044 - mae: 0.0362\n",
      "Epoch 97/128\n",
      "208/208 [==============================] - 1s 3ms/step - loss: 0.0040 - mae: 0.0346\n",
      "Epoch 98/128\n",
      "208/208 [==============================] - 1s 3ms/step - loss: 0.0058 - mae: 0.0383\n",
      "Epoch 99/128\n",
      "208/208 [==============================] - 1s 3ms/step - loss: 0.0051 - mae: 0.0374\n",
      "Epoch 100/128\n",
      "208/208 [==============================] - 1s 3ms/step - loss: 0.0045 - mae: 0.0353\n",
      "Epoch 101/128\n",
      "208/208 [==============================] - 1s 3ms/step - loss: 0.0227 - mae: 0.0622\n",
      "Epoch 102/128\n",
      "208/208 [==============================] - 1s 3ms/step - loss: 0.0232 - mae: 0.0671\n",
      "Epoch 103/128\n",
      "208/208 [==============================] - 1s 3ms/step - loss: 0.0202 - mae: 0.0632\n",
      "Epoch 104/128\n",
      "208/208 [==============================] - 1s 3ms/step - loss: 0.0097 - mae: 0.0484\n",
      "Epoch 105/128\n",
      "208/208 [==============================] - 1s 3ms/step - loss: 0.0040 - mae: 0.0364\n",
      "Epoch 106/128\n",
      "208/208 [==============================] - 1s 3ms/step - loss: 0.0058 - mae: 0.0378\n",
      "Epoch 107/128\n",
      "208/208 [==============================] - 1s 3ms/step - loss: 0.0039 - mae: 0.0347\n",
      "Epoch 108/128\n",
      "208/208 [==============================] - 1s 3ms/step - loss: 0.0036 - mae: 0.0328\n",
      "Epoch 109/128\n",
      "208/208 [==============================] - 1s 3ms/step - loss: 0.0034 - mae: 0.0322\n",
      "Epoch 110/128\n",
      "208/208 [==============================] - 1s 3ms/step - loss: 0.0053 - mae: 0.0375\n",
      "Epoch 111/128\n",
      "208/208 [==============================] - 1s 3ms/step - loss: 0.0047 - mae: 0.0354\n",
      "Epoch 112/128\n",
      "208/208 [==============================] - 1s 3ms/step - loss: 0.0073 - mae: 0.0427\n",
      "Epoch 113/128\n",
      "208/208 [==============================] - 1s 3ms/step - loss: 0.0049 - mae: 0.0382\n",
      "Epoch 114/128\n",
      "208/208 [==============================] - 1s 3ms/step - loss: 0.0048 - mae: 0.0375\n",
      "Epoch 115/128\n",
      "208/208 [==============================] - 1s 3ms/step - loss: 0.0068 - mae: 0.0418\n",
      "Epoch 116/128\n",
      "208/208 [==============================] - 1s 3ms/step - loss: 0.0227 - mae: 0.0610\n",
      "Epoch 117/128\n",
      "208/208 [==============================] - 1s 3ms/step - loss: 0.0134 - mae: 0.0537\n",
      "Epoch 118/128\n",
      "208/208 [==============================] - 1s 3ms/step - loss: 0.0083 - mae: 0.0449\n",
      "Epoch 119/128\n",
      "208/208 [==============================] - 1s 3ms/step - loss: 0.0065 - mae: 0.0398\n",
      "Epoch 120/128\n",
      "208/208 [==============================] - 1s 3ms/step - loss: 0.0065 - mae: 0.0392\n",
      "Epoch 121/128\n",
      "208/208 [==============================] - 1s 3ms/step - loss: 0.0035 - mae: 0.0335\n",
      "Epoch 122/128\n",
      "208/208 [==============================] - 1s 4ms/step - loss: 0.0145 - mae: 0.0504\n",
      "Epoch 123/128\n",
      "208/208 [==============================] - 1s 4ms/step - loss: 0.0136 - mae: 0.0527\n",
      "Epoch 124/128\n",
      "208/208 [==============================] - 1s 4ms/step - loss: 0.0107 - mae: 0.0477\n",
      "Epoch 125/128\n",
      "208/208 [==============================] - 1s 3ms/step - loss: 0.0054 - mae: 0.0370\n",
      "Epoch 126/128\n",
      "208/208 [==============================] - 1s 3ms/step - loss: 0.0085 - mae: 0.0421\n",
      "Epoch 127/128\n",
      "208/208 [==============================] - 1s 3ms/step - loss: 0.0062 - mae: 0.0403\n",
      "Epoch 128/128\n",
      "208/208 [==============================] - 1s 3ms/step - loss: 0.0058 - mae: 0.0387\n"
     ]
    },
    {
     "data": {
      "text/plain": [
       "<keras.callbacks.History at 0x14438171240>"
      ]
     },
     "execution_count": 46,
     "metadata": {},
     "output_type": "execute_result"
    }
   ],
   "source": [
    "model.fit(x_train_scaled,y_train_scaled,epochs=128,batch_size=64)"
   ]
  },
  {
   "cell_type": "code",
   "execution_count": 48,
   "id": "ef5251f8-8b79-4c37-a77b-9b9977ccd937",
   "metadata": {},
   "outputs": [
    {
     "name": "stdout",
     "output_type": "stream",
     "text": [
      "178/178 [==============================] - 1s 3ms/step - loss: 0.0667 - mae: 0.0929\n",
      "Test Loss: 0.0667, Test MAE: 0.0929\n"
     ]
    }
   ],
   "source": [
    "x_test_scaled = x_scaler.transform(x_test)\n",
    "y_test_scaled = y_scaler.transform(y_test.reshape(-1, 1))\n",
    "test_loss, test_mae = model.evaluate(x_test_scaled, y_test_scaled)\n",
    "print(f\"Test Loss: {test_loss:.4f}, Test MAE: {test_mae:.4f}\")"
   ]
  },
  {
   "cell_type": "code",
   "execution_count": 49,
   "id": "64ce8f37-8fb3-4c45-bc03-89388e4cf717",
   "metadata": {},
   "outputs": [
    {
     "name": "stdout",
     "output_type": "stream",
     "text": [
      "178/178 [==============================] - 0s 2ms/step\n"
     ]
    }
   ],
   "source": [
    "predictions = model.predict(x_test_scaled)\n",
    "original_predictions = y_scaler.inverse_transform(predictions)"
   ]
  },
  {
   "cell_type": "code",
   "execution_count": 50,
   "id": "92353484-62d4-4804-8a66-4f0d3d278690",
   "metadata": {},
   "outputs": [
    {
     "data": {
      "image/png": "[encoded data removed]",
      "text/plain": [
       "<Figure size 1000x600 with 1 Axes>"
      ]
     },
     "metadata": {},
     "output_type": "display_data"
    }
   ],
   "source": [
    "import matplotlib.pyplot as plt\n",
    "\n",
    "plt.figure(figsize=(10,6))\n",
    "plt.plot(y_scaler.inverse_transform(y_test_scaled.reshape(-1,1)), label='Gerçek Değerler')\n",
    "plt.plot(original_predictions, label='Tahminler')\n",
    "plt.legend()\n",
    "plt.title(\"Gerçek vs Tahmin Edilen Değerler\")\n",
    "plt.show()"
   ]
  },
  {
   "cell_type": "code",
   "execution_count": 65,
   "id": "a474388b-b83a-479e-9db4-1edf24f374e2",
   "metadata": {},
   "outputs": [
    {
     "name": "stdout",
     "output_type": "stream",
     "text": [
      "1/1 [==============================] - 0s 31ms/step\n",
      "Tahmin: [[540780.4]]\n",
      "Gerçek Değer: [[778000.]]\n",
      "---------\n",
      "1/1 [==============================] - 0s 27ms/step\n",
      "Tahmin: [[1655600.9]]\n",
      "Gerçek Değer: [[2300000.]]\n",
      "---------\n",
      "1/1 [==============================] - 0s 16ms/step\n",
      "Tahmin: [[1261353.4]]\n",
      "Gerçek Değer: [[2200000.]]\n",
      "---------\n",
      "1/1 [==============================] - 0s 21ms/step\n",
      "Tahmin: [[235740.61]]\n",
      "Gerçek Değer: [[0.]]\n",
      "---------\n",
      "1/1 [==============================] - 0s 23ms/step\n",
      "Tahmin: [[109280.35]]\n",
      "Gerçek Değer: [[193000.]]\n",
      "---------\n",
      "1/1 [==============================] - 0s 15ms/step\n",
      "Tahmin: [[6975480.5]]\n",
      "Gerçek Değer: [[6100000.]]\n",
      "---------\n",
      "1/1 [==============================] - 0s 15ms/step\n",
      "Tahmin: [[185218.36]]\n",
      "Gerçek Değer: [[186000.]]\n",
      "---------\n",
      "1/1 [==============================] - 0s 16ms/step\n",
      "Tahmin: [[129814.85]]\n",
      "Gerçek Değer: [[258000.]]\n",
      "---------\n",
      "1/1 [==============================] - 0s 16ms/step\n",
      "Tahmin: [[10626353.]]\n",
      "Gerçek Değer: [[11400000.]]\n",
      "---------\n",
      "1/1 [==============================] - 0s 16ms/step\n",
      "Tahmin: [[575793.1]]\n",
      "Gerçek Değer: [[639000.]]\n",
      "---------\n"
     ]
    }
   ],
   "source": [
    "for i in range(0,10):\n",
    "    \n",
    "    tahmin = model.predict(np.expand_dims(x_test_scaled[i], axis=0))\n",
    "    original_tahmin = y_scaler.inverse_transform(tahmin)\n",
    "    original_y_test = y_scaler.inverse_transform(y_test_scaled[i].reshape(1, -1))\n",
    "\n",
    "    print(\"Tahmin:\", original_tahmin)\n",
    "    print(\"Gerçek Değer:\", original_y_test)\n",
    "    print('---------')\n"
   ]
  }
 ],
 "metadata": {
  "kernelspec": {
   "display_name": "Python 3 (ipykernel)",
   "language": "python",
   "name": "python3"
  },
  "language_info": {
   "codemirror_mode": {
    "name": "ipython",
    "version": 3
   },
   "file_extension": ".py",
   "mimetype": "text/x-python",
   "name": "python",
   "nbconvert_exporter": "python",
   "pygments_lexer": "ipython3",
   "version": "3.10.16"
  }
 },
 "nbformat": 4,
 "nbformat_minor": 5
}
