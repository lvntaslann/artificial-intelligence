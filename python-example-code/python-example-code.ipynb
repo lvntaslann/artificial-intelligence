{
 "cells": [
  {
   "cell_type": "code",
   "execution_count": 1,
   "id": "bcce334c-422e-4487-944a-16f844856e26",
   "metadata": {},
   "outputs": [
    {
     "name": "stdout",
     "output_type": "stream",
     "text": [
      "\n",
      "1\n",
      "22\n",
      "333\n",
      "4444\n",
      "55555\n"
     ]
    }
   ],
   "source": [
    "rows = 6\n",
    "\n",
    "for i in range(rows):\n",
    "    for j in range(i):\n",
    "        print(i,end='')\n",
    "    print('')"
   ]
  },
  {
   "cell_type": "code",
   "execution_count": 21,
   "id": "511124dc-2978-40e0-877b-09818322ecb2",
   "metadata": {},
   "outputs": [
    {
     "name": "stdout",
     "output_type": "stream",
     "text": [
      "11111\n",
      "2222\n",
      "333\n",
      "44\n",
      "5\n",
      "5\n",
      "44\n",
      "333\n",
      "2222\n",
      "11111\n"
     ]
    }
   ],
   "source": [
    "rows = 5\n",
    "b = 0\n",
    "c = rows  # c'yi 5'ten başlatıyoruz\n",
    "\n",
    "for i in range(rows, 0, -1):\n",
    "    b += 1\n",
    "    for j in range(1, i + 1):\n",
    "        print(b, end='')\n",
    "    print('')\n",
    "\n",
    "for i in range(1,rows + 1):\n",
    "    for j in range(i):\n",
    "        print(c, end='')\n",
    "    c = c - 1\n",
    "    print('')"
   ]
  },
  {
   "cell_type": "code",
   "execution_count": 25,
   "id": "c3a3a60c-9dc8-4e5c-b583-f076b13b6b78",
   "metadata": {},
   "outputs": [
    {
     "name": "stdout",
     "output_type": "stream",
     "text": [
      "        * * * * * * \n",
      "         * * * * * \n",
      "          * * * * \n",
      "           * * * \n",
      "            * * \n",
      "             * \n"
     ]
    }
   ],
   "source": [
    "rows = 5\n",
    "k = 2*rows-2\n",
    "for i in range(rows,-1,-1):\n",
    "    for j in range(k,0,-1):\n",
    "        print(end = \" \")\n",
    "    k = k+1\n",
    "    for j in range(0,i+1):\n",
    "        print(\"*\",end=\" \")\n",
    "    print(\"\")"
   ]
  },
  {
   "cell_type": "code",
   "execution_count": 28,
   "id": "7b3e6f34-cfaf-41cc-bce1-ea021c103aa7",
   "metadata": {},
   "outputs": [
    {
     "name": "stdout",
     "output_type": "stream",
     "text": [
      "1\n",
      "5\n",
      "10\n",
      "hello\n",
      "4\n",
      "10\n"
     ]
    }
   ],
   "source": [
    "arr = [1,2,3,4,5]\n",
    "print(arr[0])\n",
    "\n",
    "arr[0] =10\n",
    "print(len(arr))\n",
    "print(arr[0])\n",
    "\n",
    "my_list = [1,'hello',3.14,True]\n",
    "print(my_list[1])\n",
    "\n",
    "my_list[0] = 10\n",
    "\n",
    "print(len(my_list))\n",
    "print(my_list[0])"
   ]
  },
  {
   "cell_type": "code",
   "execution_count": 34,
   "id": "4c105708-731d-4775-9c74-17c367dd4f99",
   "metadata": {},
   "outputs": [
    {
     "name": "stdout",
     "output_type": "stream",
     "text": [
      "30\n"
     ]
    }
   ],
   "source": [
    "class Node:\n",
    "    def __init__(self,data):\n",
    "        self.data = data\n",
    "        self.next = None\n",
    "\n",
    "node1 = Node(1)\n",
    "node2 = Node(2)\n",
    "node3 = Node(3)\n",
    "\n",
    "\n",
    "node1.data = 10\n",
    "node2.data = 20\n",
    "node3.data = 30\n",
    "\n",
    "node1.next = node2\n",
    "node2.next = node3\n",
    "\n",
    "print(node1.next.next.data)"
   ]
  },
  {
   "cell_type": "code",
   "execution_count": 35,
   "id": "2b06d27e-62d3-4b68-b7d9-3d0683bd7b45",
   "metadata": {},
   "outputs": [
    {
     "name": "stdout",
     "output_type": "stream",
     "text": [
      "[1, 2, 3, 4, 5]\n",
      "3\n",
      "[1, 2, 3, 4, 5, 1, 2]\n"
     ]
    }
   ],
   "source": [
    "stack = [1,2,3,4,5]\n",
    "print(stack)\n",
    "stack.append(1)\n",
    "stack.append(2)\n",
    "stack.append(3)\n",
    "\n",
    "print(stack.pop())\n",
    "print(stack)"
   ]
  },
  {
   "cell_type": "code",
   "execution_count": 36,
   "id": "3a19ff92-7862-4685-a10a-ea63debb7283",
   "metadata": {},
   "outputs": [
    {
     "name": "stdout",
     "output_type": "stream",
     "text": [
      "deque([1, 2, 3])\n",
      "1\n",
      "deque([2, 3])\n"
     ]
    }
   ],
   "source": [
    "from collections import deque\n",
    "\n",
    "queue = deque()\n",
    "queue.append(1)\n",
    "queue.append(2)\n",
    "queue.append(3)\n",
    "\n",
    "print(queue)\n",
    "print(queue.popleft())\n",
    "print(queue)"
   ]
  },
  {
   "cell_type": "code",
   "execution_count": 45,
   "id": "c25ebfe8-73ad-4e4e-82d2-6536e1c4c8f4",
   "metadata": {},
   "outputs": [
    {
     "name": "stdout",
     "output_type": "stream",
     "text": [
      "{'apple': 10, 'banana': 20}\n",
      "2\n",
      "Key: apple, Value: 10\n",
      "Key: banana, Value: 20\n"
     ]
    }
   ],
   "source": [
    "hash_table = {}\n",
    "\n",
    "hash_table['apple'] = 10\n",
    "hash_table['banana'] = 20\n",
    "\n",
    "print(hash_table)\n",
    "print(len(hash_table))\n",
    "\n",
    "for key, value in hash_table.items():\n",
    "    print(f\"Key: {key}, Value: {value}\")"
   ]
  },
  {
   "cell_type": "code",
   "execution_count": 48,
   "id": "640dc680-9241-4d87-b1ff-f58ba37e92b0",
   "metadata": {},
   "outputs": [
    {
     "name": "stdout",
     "output_type": "stream",
     "text": [
      "10\n",
      "20\n",
      "4\n",
      "5\n",
      "3\n",
      "6\n",
      "a: 30\n"
     ]
    }
   ],
   "source": [
    "class TreeNode:\n",
    "    def __init__(self, data):\n",
    "        self.data = data\n",
    "        self.left = None\n",
    "        self.right = None\n",
    "\n",
    "# Ağaç yapısını oluşturma\n",
    "root = TreeNode(1)\n",
    "root.left = TreeNode(2)\n",
    "root.right = TreeNode(3)\n",
    "root.left.left = TreeNode(4)\n",
    "root.left.right = TreeNode(5)\n",
    "root.right.left = TreeNode(6)\n",
    "\n",
    "root.data = 10\n",
    "\n",
    "a = 20\n",
    "\n",
    "if root.left is not None:\n",
    "    root.left.data = 20\n",
    "    a += 10\n",
    "\n",
    "def print_tree(node):\n",
    "    if node is not None:\n",
    "        print(node.data)\n",
    "        print_tree(node.left)\n",
    "        print_tree(node.right)\n",
    "\n",
    "print_tree(root)\n",
    "print(\"a:\", a)"
   ]
  },
  {
   "cell_type": "code",
   "execution_count": 50,
   "id": "6bb66afc-6483-4067-825f-d2f2e9e14ea2",
   "metadata": {},
   "outputs": [
    {
     "name": "stdout",
     "output_type": "stream",
     "text": [
      "4\n"
     ]
    }
   ],
   "source": [
    "def binary_search(arr,target):\n",
    "    low,high = 0, len(arr)-1\n",
    "    while low<high:\n",
    "        mid = (low+high)//2\n",
    "        if arr[mid]==target:\n",
    "            return mid\n",
    "        elif arr[mid]<target:\n",
    "            low = mid+1\n",
    "        else:\n",
    "            high = mid-1\n",
    "\n",
    "arr = [1,2,3,4,5,6,7,8,9]\n",
    "target = 5\n",
    "print(binary_search(arr,target))"
   ]
  },
  {
   "cell_type": "code",
   "execution_count": 56,
   "id": "890502e2-7a94-40ff-b6ab-810385c797be",
   "metadata": {},
   "outputs": [
    {
     "name": "stdout",
     "output_type": "stream",
     "text": [
      "10\n",
      "<class 'decimal.Decimal'>\n"
     ]
    }
   ],
   "source": [
    "import decimal\n",
    "integer = 10\n",
    "decimal = decimal.Decimal(integer)\n",
    "print(decimal)\n",
    "print(type(decimal))"
   ]
  },
  {
   "cell_type": "code",
   "execution_count": 57,
   "id": "0ec8c8a7-3441-4785-95b0-a042983402de",
   "metadata": {},
   "outputs": [
    {
     "ename": "AttributeError",
     "evalue": "'decimal.Decimal' object has no attribute 'Decimal'",
     "output_type": "error",
     "traceback": [
      "\u001b[1;31m---------------------------------------------------------------------------\u001b[0m",
      "\u001b[1;31mAttributeError\u001b[0m                            Traceback (most recent call last)",
      "Cell \u001b[1;32mIn[57], line 2\u001b[0m\n\u001b[0;32m      1\u001b[0m string \u001b[38;5;241m=\u001b[39m \u001b[38;5;124m'\u001b[39m\u001b[38;5;124m12345\u001b[39m\u001b[38;5;124m'\u001b[39m\n\u001b[1;32m----> 2\u001b[0m \u001b[38;5;28mprint\u001b[39m(\u001b[43mdecimal\u001b[49m\u001b[38;5;241;43m.\u001b[39;49m\u001b[43mDecimal\u001b[49m(string))\n",
      "\u001b[1;31mAttributeError\u001b[0m: 'decimal.Decimal' object has no attribute 'Decimal'"
     ]
    }
   ],
   "source": [
    "string = '12345'\n",
    "print(decimal.Decimal(string))"
   ]
  },
  {
   "cell_type": "code",
   "execution_count": 58,
   "id": "45c50f57-5dec-4b7e-82f7-546b59703006",
   "metadata": {},
   "outputs": [
    {
     "name": "stdout",
     "output_type": "stream",
     "text": [
      "nalsA tneveL\n"
     ]
    }
   ],
   "source": [
    "string = \"Levent Aslan\"\n",
    "print(string[::-1])"
   ]
  },
  {
   "cell_type": "code",
   "execution_count": 60,
   "id": "3301f1c6-1380-4f40-997d-33463b2c70e6",
   "metadata": {},
   "outputs": [
    {
     "name": "stdout",
     "output_type": "stream",
     "text": [
      "2\n"
     ]
    }
   ],
   "source": [
    "vowel = ['a','e','i','o','u']\n",
    "word = 'Levent'\n",
    "count = 0\n",
    "for character in word:\n",
    "    if character in vowel:\n",
    "        count+=1\n",
    "print(count)"
   ]
  },
  {
   "cell_type": "code",
   "execution_count": 63,
   "id": "e7f257ec-26d5-4441-996a-40b6a7fd1749",
   "metadata": {},
   "outputs": [
    {
     "name": "stdout",
     "output_type": "stream",
     "text": [
      "0, 1, 1, 2, 3, 5, 8\n"
     ]
    }
   ],
   "source": [
    "fib = [0,1]\n",
    "n = 5\n",
    "\n",
    "for i in range(n):\n",
    "    fib.append(fib[-1]+fib[-2])\n",
    "\n",
    "print(', '.join(str(e) for e in fib))"
   ]
  },
  {
   "cell_type": "code",
   "execution_count": 65,
   "id": "012eb225-b72d-42b8-a420-da83dec332b4",
   "metadata": {},
   "outputs": [
    {
     "name": "stdout",
     "output_type": "stream",
     "text": [
      "31\n"
     ]
    }
   ],
   "source": [
    "numberList = [10,20,30,5,2,31]\n",
    "maxNum = numberList[0]\n",
    "for num in numberList:\n",
    "    if maxNum<num:\n",
    "        maxNum = num\n",
    "print(maxNum)"
   ]
  },
  {
   "cell_type": "code",
   "execution_count": 66,
   "id": "cc1e1629-c8d2-4b67-ba5b-637a19af7447",
   "metadata": {},
   "outputs": [
    {
     "name": "stdout",
     "output_type": "stream",
     "text": [
      "3\n"
     ]
    }
   ],
   "source": [
    "mylist = [1,2,3,4,5,6]\n",
    "middle = int(len(mylist)/2)\n",
    "print(middle)"
   ]
  },
  {
   "cell_type": "code",
   "execution_count": 67,
   "id": "3350d76b-079c-4cec-a9ba-f8782872be31",
   "metadata": {},
   "outputs": [
    {
     "name": "stdout",
     "output_type": "stream",
     "text": [
      "levent\n"
     ]
    }
   ],
   "source": [
    "mylist2 = [\"l\",'e','v','e','n','t']\n",
    "string = \"\".join(mylist2)\n",
    "print(string)"
   ]
  },
  {
   "cell_type": "code",
   "execution_count": 68,
   "id": "72616f2a-5435-4ec5-93a8-3696a58f3bfb",
   "metadata": {},
   "outputs": [
    {
     "name": "stdout",
     "output_type": "stream",
     "text": [
      "[31, 31, 31]\n"
     ]
    }
   ],
   "source": [
    "lst1 = [21,21,21]\n",
    "lst2 = [10,10,10]\n",
    "res_list = []\n",
    "for i in range(len(lst1)):\n",
    "    res_list.append(lst1[i]+lst2[i])\n",
    "print(res_list)"
   ]
  },
  {
   "cell_type": "code",
   "execution_count": 69,
   "id": "8c80c190-2c7b-4d53-9d4b-b4b29622d2e8",
   "metadata": {},
   "outputs": [
    {
     "name": "stdout",
     "output_type": "stream",
     "text": [
      "True\n"
     ]
    }
   ],
   "source": [
    "str1 = \"Listen\"\n",
    "str2 = \"Silent\"\n",
    "str1 = str1.replace(\" \",\"\").upper()\n",
    "str2 = str2.replace(\" \",\"\").upper()\n",
    "if sorted(str1) == sorted(str2):\n",
    "    print(\"True\")\n",
    "else:\n",
    "    print(false)"
   ]
  },
  {
   "cell_type": "code",
   "execution_count": 73,
   "id": "353a64ac-ca1a-4410-9238-6bd40c3c28eb",
   "metadata": {},
   "outputs": [
    {
     "name": "stdout",
     "output_type": "stream",
     "text": [
      "True\n"
     ]
    }
   ],
   "source": [
    "str3 = \"Kayak\".lower()\n",
    "if str3 == str3[::-1]:\n",
    "    print(\"True\")\n",
    "else:\n",
    "    print(\"False\")"
   ]
  },
  {
   "cell_type": "code",
   "execution_count": 80,
   "id": "bc0f4930-1edc-4690-9405-d40a579b9622",
   "metadata": {},
   "outputs": [
    {
     "name": "stdout",
     "output_type": "stream",
     "text": [
      "4\n",
      "Programing\n"
     ]
    }
   ],
   "source": [
    "string = \"P r ogram in g\"\n",
    "print(string.count(\" \"))\n",
    "new_string = \"\"\n",
    "#string = string.replace(\" \",\"\")\n",
    "for char in string:\n",
    "    if  char!= \" \":\n",
    "        new_string +=char\n",
    "\n",
    "print(new_string)"
   ]
  },
  {
   "cell_type": "code",
   "execution_count": 81,
   "id": "eb37db19-d567-4170-8558-73e008b86d9e",
   "metadata": {},
   "outputs": [
    {
     "name": "stdout",
     "output_type": "stream",
     "text": [
      "2\n",
      "15\n",
      "2\n"
     ]
    }
   ],
   "source": [
    "import re\n",
    "\n",
    "name = 'Levent Aslan 31'\n",
    "\n",
    "digitCount = re.sub(\"[^0-9]\",\"\",name)\n",
    "letterCount = re.sub(\"^a-zA-z\",\"\",name)\n",
    "spaceCount = re.findall(\"[\\s]\",name)\n",
    "\n",
    "print(len(digitCount))\n",
    "print(len(letterCount))\n",
    "print(len(spaceCount))"
   ]
  },
  {
   "cell_type": "code",
   "execution_count": 82,
   "id": "eb396d9b-23c2-4f6b-8f30-3e0241ff57bd",
   "metadata": {},
   "outputs": [
    {
     "name": "stdout",
     "output_type": "stream",
     "text": [
      "4\n"
     ]
    }
   ],
   "source": [
    "def count_sp_char(string):\n",
    "    sp_char = \"!@#%^&*()<>?/\\[]{};:~'\"\n",
    "    count = 0\n",
    "    for i in string:\n",
    "        if i in sp_char:\n",
    "            count+=1\n",
    "    return count\n",
    "\n",
    "text = 'Hello! how are you? #specialschars! 123'\n",
    "result = count_sp_char(text)\n",
    "print(result)"
   ]
  },
  {
   "cell_type": "code",
   "execution_count": 87,
   "id": "5ef38201-8685-4754-8021-ffdb4aef531d",
   "metadata": {},
   "outputs": [
    {
     "name": "stdout",
     "output_type": "stream",
     "text": [
      "    *\n",
      "   ***\n",
      "  *****\n",
      " *******\n",
      "*********\n",
      " *******\n",
      "  *****\n",
      "   ***\n",
      "    *\n",
      "     \n",
      "      \n",
      "       \n",
      "        \n",
      "         \n"
     ]
    }
   ],
   "source": [
    "num = 9\n",
    "cnt = num//2\n",
    "scnt = 1\n",
    "\n",
    "for i in range(cnt+1):\n",
    "    print(cnt*\" \"+\"*\"*scnt)\n",
    "    cnt = cnt-1\n",
    "    scnt = scnt+2\n",
    "scnt = num-2\n",
    "cnt=1\n",
    "for i in range(int(num)):\n",
    "    print(cnt*\" \"+\"*\"*scnt)\n",
    "    scnt = scnt-2\n",
    "    cnt = cnt+1"
   ]
  },
  {
   "cell_type": "code",
   "execution_count": 88,
   "id": "0255b69e-563f-4c57-9875-9ba2955d541a",
   "metadata": {},
   "outputs": [
    {
     "name": "stdout",
     "output_type": "stream",
     "text": [
      "[3, 2, 1, 4, 5]\n"
     ]
    }
   ],
   "source": [
    "from random import shuffle\n",
    "lst = [1,2,3,4,5]\n",
    "shuffle(lst)\n",
    "print(lst)"
   ]
  },
  {
   "cell_type": "code",
   "execution_count": null,
   "id": "2402b1a6-492f-4b2d-b656-e5e3614b8638",
   "metadata": {},
   "outputs": [],
   "source": []
  }
 ],
 "metadata": {
  "kernelspec": {
   "display_name": "Python 3 (ipykernel)",
   "language": "python",
   "name": "python3"
  },
  "language_info": {
   "codemirror_mode": {
    "name": "ipython",
    "version": 3
   },
   "file_extension": ".py",
   "mimetype": "text/x-python",
   "name": "python",
   "nbconvert_exporter": "python",
   "pygments_lexer": "ipython3",
   "version": "3.10.16"
  }
 },
 "nbformat": 4,
 "nbformat_minor": 5
}
