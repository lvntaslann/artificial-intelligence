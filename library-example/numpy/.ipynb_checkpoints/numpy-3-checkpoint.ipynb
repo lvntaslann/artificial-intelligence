{
 "cells": [
  {
   "cell_type": "code",
   "execution_count": 1,
   "id": "01e9d0ee-2f51-4606-b8ee-2cac6348d2fc",
   "metadata": {},
   "outputs": [],
   "source": [
    "import numpy as np"
   ]
  },
  {
   "cell_type": "code",
   "execution_count": 2,
   "id": "a9a3bd1d-205a-4922-b4a7-4b4b463dcc29",
   "metadata": {},
   "outputs": [
    {
     "name": "stdout",
     "output_type": "stream",
     "text": [
      "[5.7 2.6 3.5 1. ]\n"
     ]
    }
   ],
   "source": [
    "iris = np.array([5.7,2.6,3.5,1.0])\n",
    "print(iris)"
   ]
  },
  {
   "cell_type": "code",
   "execution_count": 3,
   "id": "900110e5-5418-4b21-950a-7254467a0fae",
   "metadata": {},
   "outputs": [
    {
     "name": "stdout",
     "output_type": "stream",
     "text": [
      "[[2 5 7]]\n"
     ]
    }
   ],
   "source": [
    "iris2 = np.array([[2,5,7]])\n",
    "print(iris2)"
   ]
  },
  {
   "cell_type": "code",
   "execution_count": 4,
   "id": "567b53c9-327c-4af0-ac9d-e6d6fa075a5e",
   "metadata": {},
   "outputs": [
    {
     "name": "stdout",
     "output_type": "stream",
     "text": [
      "[[2 5 7]\n",
      " [3 6 8]]\n"
     ]
    }
   ],
   "source": [
    "iris3 = np.array([[2,5,7],[3,6,8]])\n",
    "print(iris3)"
   ]
  },
  {
   "cell_type": "code",
   "execution_count": 5,
   "id": "cfd04acb-1e09-4c1c-9c6b-edb1f9eb83ee",
   "metadata": {},
   "outputs": [
    {
     "name": "stdout",
     "output_type": "stream",
     "text": [
      "[0. 0. 0.]\n"
     ]
    }
   ],
   "source": [
    "print(np.zeros(3))"
   ]
  },
  {
   "cell_type": "code",
   "execution_count": 6,
   "id": "0a412eba-4e60-453c-87e8-3ae2bb7f2e00",
   "metadata": {},
   "outputs": [
    {
     "name": "stdout",
     "output_type": "stream",
     "text": [
      "[[0. 0. 0.]\n",
      " [0. 0. 0.]\n",
      " [0. 0. 0.]\n",
      " [0. 0. 0.]]\n"
     ]
    }
   ],
   "source": [
    "print(np.zeros((4,3)))"
   ]
  },
  {
   "cell_type": "code",
   "execution_count": 7,
   "id": "44e9747e-7718-4641-9f05-bc41a3d2c7b5",
   "metadata": {},
   "outputs": [
    {
     "name": "stdout",
     "output_type": "stream",
     "text": [
      "[[[0. 0. 0.]\n",
      "  [0. 0. 0.]\n",
      "  [0. 0. 0.]\n",
      "  [0. 0. 0.]]\n",
      "\n",
      " [[0. 0. 0.]\n",
      "  [0. 0. 0.]\n",
      "  [0. 0. 0.]\n",
      "  [0. 0. 0.]]]\n"
     ]
    }
   ],
   "source": [
    "print(np.zeros((2,4,3)))"
   ]
  },
  {
   "cell_type": "code",
   "execution_count": 8,
   "id": "34b355cc-8ef5-4bf1-bd54-3731a5d23f0e",
   "metadata": {},
   "outputs": [
    {
     "name": "stdout",
     "output_type": "stream",
     "text": [
      "[1. 1. 1.]\n",
      "-------\n",
      "[[1. 1. 1.]\n",
      " [1. 1. 1.]\n",
      " [1. 1. 1.]]\n"
     ]
    }
   ],
   "source": [
    "print(np.ones(3))\n",
    "print(\"-------\")\n",
    "print(np.ones((3,3)))"
   ]
  },
  {
   "cell_type": "code",
   "execution_count": 9,
   "id": "e314c378-4ab7-41bc-a4f9-fffe4e9c23b7",
   "metadata": {},
   "outputs": [
    {
     "name": "stdout",
     "output_type": "stream",
     "text": [
      "[['Levent' 'Levent']\n",
      " ['Levent' 'Levent']]\n"
     ]
    }
   ],
   "source": [
    "print(np.full((2,2),\"Levent\"))"
   ]
  },
  {
   "cell_type": "code",
   "execution_count": 10,
   "id": "2aee7e2c-e898-459b-95f7-bbba36a10f6b",
   "metadata": {},
   "outputs": [
    {
     "name": "stdout",
     "output_type": "stream",
     "text": [
      "[0.  0.2 0.4 0.6 0.8 1.  1.2 1.4 1.6 1.8]\n"
     ]
    }
   ],
   "source": [
    "print(np.arange(0,2,0.2))"
   ]
  },
  {
   "cell_type": "code",
   "execution_count": 11,
   "id": "de54c7b5-4f50-4fe8-bef8-a55f469063c2",
   "metadata": {},
   "outputs": [
    {
     "name": "stdout",
     "output_type": "stream",
     "text": [
      "[0.   0.25 0.5  0.75 1.  ]\n",
      "[0.  0.2 0.4 0.6 0.8]\n"
     ]
    }
   ],
   "source": [
    "print(np.linspace(0.0,1.0,num=5))\n",
    "print(np.linspace(0.0,1.0,num=5,endpoint=False))"
   ]
  },
  {
   "cell_type": "code",
   "execution_count": 12,
   "id": "54bb61e3-52e4-4616-a2bd-909fc457c830",
   "metadata": {},
   "outputs": [
    {
     "name": "stdout",
     "output_type": "stream",
     "text": [
      "[[0.87979378 0.21869224]\n",
      " [0.49110184 0.36610213]]\n",
      "--------------\n",
      "[[3 6 4 5]\n",
      " [4 6 3 3]]\n"
     ]
    }
   ],
   "source": [
    "print(np.random.rand(2,2))\n",
    "print(\"--------------\")\n",
    "print(np.random.randint(3,7,size=(2,4)))"
   ]
  },
  {
   "cell_type": "code",
   "execution_count": 13,
   "id": "10c3bc00-921a-443a-8a59-fe459cbe4438",
   "metadata": {},
   "outputs": [
    {
     "name": "stdout",
     "output_type": "stream",
     "text": [
      "float64 [2. 3. 4. 5. 6. 7. 8.]\n"
     ]
    }
   ],
   "source": [
    "dizi = np.arange(2.0,9.0)\n",
    "print(dizi.dtype,dizi)"
   ]
  },
  {
   "cell_type": "code",
   "execution_count": 14,
   "id": "dc254105-8bff-4fc0-8bcc-33b559c57708",
   "metadata": {},
   "outputs": [
    {
     "name": "stdout",
     "output_type": "stream",
     "text": [
      "8\n",
      "4\n",
      "8\n"
     ]
    }
   ],
   "source": [
    "dizi = np.arange(2.0,9.0,dtype=\"float64\")\n",
    "print(dizi.itemsize)\n",
    "dizi2 = np.arange(2.0,9.0,dtype=\"float32\")\n",
    "print(dizi2.itemsize)\n",
    "dizi3 = np.arange(2.0,9.0,dtype=\"int64\")\n",
    "print(dizi3.itemsize)"
   ]
  },
  {
   "cell_type": "code",
   "execution_count": 15,
   "id": "d4e1e0dd-8e91-4d98-8ff9-409083622c84",
   "metadata": {},
   "outputs": [
    {
     "name": "stdout",
     "output_type": "stream",
     "text": [
      "(16,)\n",
      "[[ 0  1  2  3]\n",
      " [ 4  5  6  7]\n",
      " [ 8  9 10 11]\n",
      " [12 13 14 15]]\n",
      "Boyut 2\n"
     ]
    }
   ],
   "source": [
    "dizi = np.arange(16)\n",
    "print(dizi.shape)\n",
    "dizi.shape = (4,4)\n",
    "print(dizi)\n",
    "print('Boyut',dizi.ndim)"
   ]
  },
  {
   "cell_type": "code",
   "execution_count": 16,
   "id": "387f2592-9073-4969-b376-345399cf17ca",
   "metadata": {},
   "outputs": [
    {
     "name": "stdout",
     "output_type": "stream",
     "text": [
      "[[2 5 7]\n",
      " [3 6 8]]\n"
     ]
    },
    {
     "data": {
      "text/plain": [
       "array([2, 5, 7, 3, 6, 8])"
      ]
     },
     "execution_count": 16,
     "metadata": {},
     "output_type": "execute_result"
    }
   ],
   "source": [
    "dizi = np.array([[2,5,7],[3,6,8]])\n",
    "print(dizi)\n",
    "dizi.ravel()"
   ]
  },
  {
   "cell_type": "code",
   "execution_count": 17,
   "id": "a91478e5-c4c2-4787-8003-2296781d3710",
   "metadata": {},
   "outputs": [
    {
     "name": "stdout",
     "output_type": "stream",
     "text": [
      "Toplam: [ 6 10 11 14]\n",
      "Fark: [2 2 5 4]\n",
      "Carpma: [ 8 24 24 45]\n",
      "Bolum: [2.         1.5        2.66666667 1.8       ]\n",
      "Bolum(tam): [2 1 2 1]\n",
      "kalan: [0 2 2 4]\n",
      "Ust: [   16  1296   512 59049]\n"
     ]
    }
   ],
   "source": [
    "dizi1 = np.array([4,6,8,9])\n",
    "dizi2 = np.array([2,4,3,5])\n",
    "print(\"Toplam:\",dizi1+dizi2)\n",
    "print(\"Fark:\",dizi1-dizi2)\n",
    "print(\"Carpma:\",dizi1*dizi2)\n",
    "print(\"Bolum:\",dizi1/dizi2)\n",
    "print(\"Bolum(tam):\",dizi1//dizi2)\n",
    "print(\"kalan:\",dizi1%dizi2)\n",
    "print(\"Ust:\",dizi1**dizi2)"
   ]
  },
  {
   "cell_type": "code",
   "execution_count": 18,
   "id": "e29496f0-e18f-4025-9eb6-f9141c83234c",
   "metadata": {},
   "outputs": [
    {
     "name": "stdout",
     "output_type": "stream",
     "text": [
      "Ust 2147483648\n"
     ]
    }
   ],
   "source": [
    "print(\"Ust\",2**31)"
   ]
  },
  {
   "cell_type": "code",
   "execution_count": 27,
   "id": "62798369-4fc7-4c19-8575-cacddc5f51ce",
   "metadata": {},
   "outputs": [
    {
     "name": "stdout",
     "output_type": "stream",
     "text": [
      "min = 1.0\n",
      "max = 20.0\n",
      "sum = 48.5\n",
      "prod = 26400.0\n",
      "std = 6.274396828027022\n",
      "var = 39.36805555555556\n"
     ]
    }
   ],
   "source": [
    "dizi = np.array([[1,2.5,6],[8,20,11]])\n",
    "for i in (dizi.min,dizi.max,dizi.sum,dizi.prod,dizi.std,dizi.var):\n",
    "    print(i.__name__,\"=\",i())"
   ]
  },
  {
   "cell_type": "code",
   "execution_count": 31,
   "id": "049857d4-c757-4346-8cfa-671b235c4350",
   "metadata": {},
   "outputs": [
    {
     "data": {
      "text/html": [
       "<div>\n",
       "<style scoped>\n",
       "    .dataframe tbody tr th:only-of-type {\n",
       "        vertical-align: middle;\n",
       "    }\n",
       "\n",
       "    .dataframe tbody tr th {\n",
       "        vertical-align: top;\n",
       "    }\n",
       "\n",
       "    .dataframe thead th {\n",
       "        text-align: right;\n",
       "    }\n",
       "</style>\n",
       "<table border=\"1\" class=\"dataframe\">\n",
       "  <thead>\n",
       "    <tr style=\"text-align: right;\">\n",
       "      <th></th>\n",
       "      <th>count</th>\n",
       "      <th>mean</th>\n",
       "      <th>std</th>\n",
       "      <th>min</th>\n",
       "      <th>25%</th>\n",
       "      <th>50%</th>\n",
       "      <th>75%</th>\n",
       "      <th>max</th>\n",
       "    </tr>\n",
       "  </thead>\n",
       "  <tbody>\n",
       "    <tr>\n",
       "      <th>0</th>\n",
       "      <td>2.0</td>\n",
       "      <td>4.50</td>\n",
       "      <td>4.949747</td>\n",
       "      <td>1.0</td>\n",
       "      <td>2.750</td>\n",
       "      <td>4.50</td>\n",
       "      <td>6.250</td>\n",
       "      <td>8.0</td>\n",
       "    </tr>\n",
       "    <tr>\n",
       "      <th>1</th>\n",
       "      <td>2.0</td>\n",
       "      <td>11.25</td>\n",
       "      <td>12.374369</td>\n",
       "      <td>2.5</td>\n",
       "      <td>6.875</td>\n",
       "      <td>11.25</td>\n",
       "      <td>15.625</td>\n",
       "      <td>20.0</td>\n",
       "    </tr>\n",
       "    <tr>\n",
       "      <th>2</th>\n",
       "      <td>2.0</td>\n",
       "      <td>8.50</td>\n",
       "      <td>3.535534</td>\n",
       "      <td>6.0</td>\n",
       "      <td>7.250</td>\n",
       "      <td>8.50</td>\n",
       "      <td>9.750</td>\n",
       "      <td>11.0</td>\n",
       "    </tr>\n",
       "  </tbody>\n",
       "</table>\n",
       "</div>"
      ],
      "text/plain": [
       "   count   mean        std  min    25%    50%     75%   max\n",
       "0    2.0   4.50   4.949747  1.0  2.750   4.50   6.250   8.0\n",
       "1    2.0  11.25  12.374369  2.5  6.875  11.25  15.625  20.0\n",
       "2    2.0   8.50   3.535534  6.0  7.250   8.50   9.750  11.0"
      ]
     },
     "execution_count": 31,
     "metadata": {},
     "output_type": "execute_result"
    }
   ],
   "source": [
    "import pandas as pd\n",
    "dizi = pd.DataFrame(dizi)\n",
    "dizi.describe().T"
   ]
  },
  {
   "cell_type": "code",
   "execution_count": 43,
   "id": "508d7837-5409-4b08-90cc-b4f50bab1c6b",
   "metadata": {},
   "outputs": [
    {
     "name": "stdout",
     "output_type": "stream",
     "text": [
      "\n",
      " absolute\n",
      "[[ 1.   2.5  6. ]\n",
      " [ 8.  20.  11. ]]\n",
      "\n",
      " sqrt\n",
      "[[1.         1.58113883 2.44948974]\n",
      " [2.82842712 4.47213595 3.31662479]]\n",
      "\n",
      " ceil\n",
      "[[ 1.  3.  6.]\n",
      " [ 8. 20. 11.]]\n",
      "\n",
      " isnan\n",
      "[[False False False]\n",
      " [False False False]]\n"
     ]
    }
   ],
   "source": [
    "dizi = np.array([[1,2.5,6],[8,20,11]])\n",
    "for i in (np.abs,np.sqrt,np.ceil,np.isnan):\n",
    "    print(\"\\n\",i.__name__)\n",
    "    print(i(dizi))\n",
    "# Abs:absolute ifadesi kullanılabilir\n",
    "# Fabs:abs den farkı mutlak değeri hesaplarken değer integer tipinde olsa da sonucu float döndürür\n",
    "# Square: kare alma\n",
    "# exp: dizinin üstel değerini hesaplar\n",
    "# sign: dizi içindeki elemanların işaretini verir (+:1,-:0)"
   ]
  },
  {
   "cell_type": "code",
   "execution_count": 45,
   "id": "7a842423-dcd0-4ac3-9adc-3559c48f0891",
   "metadata": {},
   "outputs": [
    {
     "name": "stdout",
     "output_type": "stream",
     "text": [
      "15\n",
      "8\n",
      "[12  4 -2 15]\n",
      "[-2 15  6  8]\n",
      "[ 5 12  4 -2]\n",
      "[12 -2  6  0]\n",
      "[ 5 12 11 11 15  6  8  0]\n"
     ]
    }
   ],
   "source": [
    "dizi = np.array([5,12,4,-2,15,6,8,0])\n",
    "print(dizi[4])\n",
    "print(len(dizi))\n",
    "print(dizi[1:5])\n",
    "print(dizi[3:-1])\n",
    "print(dizi[:4])\n",
    "print(dizi[1::2])#ikişer atlayarak\n",
    "dizi[2:4] = 11 #4 dahil\n",
    "print(dizi)"
   ]
  },
  {
   "cell_type": "code",
   "execution_count": 46,
   "id": "f55ab2d1-195a-4d25-8638-e5b93de04d2c",
   "metadata": {},
   "outputs": [
    {
     "name": "stdout",
     "output_type": "stream",
     "text": [
      "[11 11]\n"
     ]
    }
   ],
   "source": [
    "yeniDizi = dizi[2:4]\n",
    "print(yeniDizi)"
   ]
  },
  {
   "cell_type": "code",
   "execution_count": 62,
   "id": "15aa44cc-ff39-4905-acd6-76485f0d8f98",
   "metadata": {},
   "outputs": [
    {
     "name": "stdout",
     "output_type": "stream",
     "text": [
      "[[ 0  1  2  3]\n",
      " [ 4  5  6  7]\n",
      " [ 8  9 10 11]]\n",
      "11\n",
      "[0 1 2 3]\n",
      "[ 2  6 10]\n",
      "------------\n",
      "[[0 1 2]\n",
      " [4 5 6]]\n",
      "[[[ 0  1]\n",
      "  [ 2  3]]\n",
      "\n",
      " [[ 4  5]\n",
      "  [ 6  7]]\n",
      "\n",
      " [[ 8  9]\n",
      "  [10 11]]]\n",
      "6\n",
      "[4 6]\n"
     ]
    }
   ],
   "source": [
    "dizi = np.arange(12)\n",
    "dizi.shape = (3,4)\n",
    "print(dizi)\n",
    "print(dizi[2,3])\n",
    "print(dizi[0,:])\n",
    "print(dizi[:,2])\n",
    "print(\"------------\")\n",
    "print(dizi[0:2,0:3])\n",
    "dizi.shape=(3,2,2)\n",
    "print(dizi)\n",
    "print(dizi[1,1,0])\n",
    "print(dizi[1,:,0])"
   ]
  },
  {
   "cell_type": "code",
   "execution_count": 68,
   "id": "d95cb8cb-28d3-4350-be8f-d4e9cde431e4",
   "metadata": {},
   "outputs": [
    {
     "name": "stdout",
     "output_type": "stream",
     "text": [
      "[[0. 0. 0. 0.]\n",
      " [0. 0. 0. 0.]]\n",
      "[[1. 1. 1. 1.]\n",
      " [1. 1. 1. 1.]]\n",
      "[[2. 2. 2. 2.]\n",
      " [2. 2. 2. 2.]]\n",
      "[[0. 0. 0. 0.]\n",
      " [0. 0. 0. 0.]\n",
      " [1. 1. 1. 1.]\n",
      " [1. 1. 1. 1.]\n",
      " [2. 2. 2. 2.]\n",
      " [2. 2. 2. 2.]]\n",
      "[[0. 0. 0. 0. 1. 1. 1. 1. 2. 2. 2. 2.]\n",
      " [0. 0. 0. 0. 1. 1. 1. 1. 2. 2. 2. 2.]]\n"
     ]
    }
   ],
   "source": [
    "dizi1 = np.full((2,4),0.0)\n",
    "dizi2 = np.full((2,4),1.0)\n",
    "dizi3 = np.full((2,4),2.0)\n",
    "print(dizi1)\n",
    "print(dizi2)\n",
    "print(dizi3)\n",
    "dizi4 = np.concatenate((dizi1,dizi2,dizi3),axis=0)\n",
    "print(dizi4)\n",
    "dizi5 = np.concatenate((dizi1,dizi2,dizi3),axis=1)\n",
    "print(dizi5)"
   ]
  },
  {
   "cell_type": "code",
   "execution_count": null,
   "id": "408ba5b1-3708-4670-99cd-0eef08378210",
   "metadata": {},
   "outputs": [],
   "source": []
  }
 ],
 "metadata": {
  "kernelspec": {
   "display_name": "Python 3 (ipykernel)",
   "language": "python",
   "name": "python3"
  },
  "language_info": {
   "codemirror_mode": {
    "name": "ipython",
    "version": 3
   },
   "file_extension": ".py",
   "mimetype": "text/x-python",
   "name": "python",
   "nbconvert_exporter": "python",
   "pygments_lexer": "ipython3",
   "version": "3.10.16"
  }
 },
 "nbformat": 4,
 "nbformat_minor": 5
}
