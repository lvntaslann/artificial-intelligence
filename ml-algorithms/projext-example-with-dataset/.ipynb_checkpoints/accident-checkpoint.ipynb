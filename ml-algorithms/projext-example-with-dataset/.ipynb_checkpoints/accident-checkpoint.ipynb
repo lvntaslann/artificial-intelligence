{
 "cells": [
  {
   "cell_type": "code",
   "execution_count": 1,
   "id": "b25f00b8-56d2-4a41-8d52-7a9c6a89c442",
   "metadata": {},
   "outputs": [],
   "source": [
    "import pandas as pd"
   ]
  },
  {
   "cell_type": "code",
   "execution_count": 2,
   "id": "c56bfaaf-c32c-4514-8eb8-aa09c1fc7642",
   "metadata": {},
   "outputs": [
    {
     "data": {
      "text/html": [
       "<div>\n",
       "<style scoped>\n",
       "    .dataframe tbody tr th:only-of-type {\n",
       "        vertical-align: middle;\n",
       "    }\n",
       "\n",
       "    .dataframe tbody tr th {\n",
       "        vertical-align: top;\n",
       "    }\n",
       "\n",
       "    .dataframe thead th {\n",
       "        text-align: right;\n",
       "    }\n",
       "</style>\n",
       "<table border=\"1\" class=\"dataframe\">\n",
       "  <thead>\n",
       "    <tr style=\"text-align: right;\">\n",
       "      <th></th>\n",
       "      <th>Age</th>\n",
       "      <th>Gender</th>\n",
       "      <th>Speed_of_Impact</th>\n",
       "      <th>Helmet_Used</th>\n",
       "      <th>Seatbelt_Used</th>\n",
       "      <th>Survived</th>\n",
       "    </tr>\n",
       "  </thead>\n",
       "  <tbody>\n",
       "    <tr>\n",
       "      <th>0</th>\n",
       "      <td>56</td>\n",
       "      <td>Female</td>\n",
       "      <td>27.0</td>\n",
       "      <td>No</td>\n",
       "      <td>No</td>\n",
       "      <td>1</td>\n",
       "    </tr>\n",
       "    <tr>\n",
       "      <th>1</th>\n",
       "      <td>69</td>\n",
       "      <td>Female</td>\n",
       "      <td>46.0</td>\n",
       "      <td>No</td>\n",
       "      <td>Yes</td>\n",
       "      <td>1</td>\n",
       "    </tr>\n",
       "    <tr>\n",
       "      <th>2</th>\n",
       "      <td>46</td>\n",
       "      <td>Male</td>\n",
       "      <td>46.0</td>\n",
       "      <td>Yes</td>\n",
       "      <td>Yes</td>\n",
       "      <td>0</td>\n",
       "    </tr>\n",
       "    <tr>\n",
       "      <th>3</th>\n",
       "      <td>32</td>\n",
       "      <td>Male</td>\n",
       "      <td>117.0</td>\n",
       "      <td>No</td>\n",
       "      <td>Yes</td>\n",
       "      <td>0</td>\n",
       "    </tr>\n",
       "    <tr>\n",
       "      <th>4</th>\n",
       "      <td>60</td>\n",
       "      <td>Female</td>\n",
       "      <td>40.0</td>\n",
       "      <td>Yes</td>\n",
       "      <td>Yes</td>\n",
       "      <td>0</td>\n",
       "    </tr>\n",
       "  </tbody>\n",
       "</table>\n",
       "</div>"
      ],
      "text/plain": [
       "   Age  Gender  Speed_of_Impact Helmet_Used Seatbelt_Used  Survived\n",
       "0   56  Female             27.0          No            No         1\n",
       "1   69  Female             46.0          No           Yes         1\n",
       "2   46    Male             46.0         Yes           Yes         0\n",
       "3   32    Male            117.0          No           Yes         0\n",
       "4   60  Female             40.0         Yes           Yes         0"
      ]
     },
     "execution_count": 2,
     "metadata": {},
     "output_type": "execute_result"
    }
   ],
   "source": [
    "df = pd.read_csv('accident.csv')\n",
    "df.head()"
   ]
  },
  {
   "cell_type": "code",
   "execution_count": 3,
   "id": "8ec06f3e-9e29-4f79-b141-e2ba55eba431",
   "metadata": {},
   "outputs": [
    {
     "name": "stdout",
     "output_type": "stream",
     "text": [
      "<class 'pandas.core.frame.DataFrame'>\n",
      "RangeIndex: 200 entries, 0 to 199\n",
      "Data columns (total 6 columns):\n",
      " #   Column           Non-Null Count  Dtype  \n",
      "---  ------           --------------  -----  \n",
      " 0   Age              200 non-null    int64  \n",
      " 1   Gender           199 non-null    object \n",
      " 2   Speed_of_Impact  197 non-null    float64\n",
      " 3   Helmet_Used      200 non-null    object \n",
      " 4   Seatbelt_Used    200 non-null    object \n",
      " 5   Survived         200 non-null    int64  \n",
      "dtypes: float64(1), int64(2), object(3)\n",
      "memory usage: 9.5+ KB\n"
     ]
    }
   ],
   "source": [
    "df.info()"
   ]
  },
  {
   "cell_type": "code",
   "execution_count": 4,
   "id": "666c1674-1aae-401b-8f3a-72af63018364",
   "metadata": {},
   "outputs": [
    {
     "data": {
      "text/plain": [
       "'Female'"
      ]
     },
     "execution_count": 4,
     "metadata": {},
     "output_type": "execute_result"
    }
   ],
   "source": [
    "df['Gender'][1]"
   ]
  },
  {
   "cell_type": "code",
   "execution_count": 5,
   "id": "6c04c6cb-ec4f-4876-82fc-2a71f048e13d",
   "metadata": {},
   "outputs": [
    {
     "data": {
      "text/plain": [
       "Age                0\n",
       "Gender             1\n",
       "Speed_of_Impact    3\n",
       "Helmet_Used        0\n",
       "Seatbelt_Used      0\n",
       "Survived           0\n",
       "dtype: int64"
      ]
     },
     "execution_count": 5,
     "metadata": {},
     "output_type": "execute_result"
    }
   ],
   "source": [
    "df.isnull().sum()"
   ]
  },
  {
   "cell_type": "code",
   "execution_count": 6,
   "id": "d4ff8557-6079-4fa7-a4ec-29d7adb4ae5c",
   "metadata": {},
   "outputs": [
    {
     "name": "stdout",
     "output_type": "stream",
     "text": [
      "['Female', 'Female', 'Male', 'Male', 'Female', 'Male', 'Male', 'Male', 'Female', 'Female', 'Female', 'Male', 'Male', 'Female', 'Female', 'Female', 'Female', 'Male', 'Female', 'Male', 'Female', 'Male', 'Female', 'Female', 'Female', 'Female', 'Male', 'Female', 'Male', 'Male', 'Male', 'Male', 'Female', 'Male', 'Male', 'Male', 'Female', 'Female', 'Female', 'Female', 'Male', 'Male', 'Female', 'Male', 'Male', 'Male', 'Female', 'Female', 'Male', 'Female', 'Female', 'Female', 'Female', 'Female', 'Male', 'Female', 'Male', 'Male', 'Female', 'Male', 'Male', 'Male', 'Female', 'Female', 'Male', 'Female', 'Female', 'Female', 'Female', 'Male', 'Male', 'Female', 'Female', 'Male', 'Male', 'Female', 'Male', 'Female', 'Female', 'Male', 'Male', 'Female', 'Female', 'Male', 'Female', 'Male', 'Female', 'Male', 'Male', 'Male', 'Female', 'Female', 'Male', 'Female', 'Male', 'Male', 'Female', 'Female', 'Male', 'Female', 'Female', 'Male', 'Male', 'Female', 'Male', 'Male', 'Female', 'Male', 'Male', 'Female', 'Female', 'Male', 'Male', 'Female', 'Female', 'Female', 'Female', 'Male', 'Female', 'Female', 'Male', 'Female', 'Male', 'Female', 'Female', 'Female', 'Male', 'Male', 'Female', 'Male', 'Male', 'Male', 'Male', 'Male', 'Male', 'Female', 'Female', 'Male', 'Female', 'Female', 'Female', 'Female', 'Male', 'Female', 'Female', 'Male', 'Male', 'Female', 'Female', 'Female', 'Female', 'Female', 'Female', 'Male', 'Female', 'Female', 'Male', 'Male', 'Male', 'Male', 'Female', 'Female', 'Female', 'Female', 'Female', 'Female', 'Male', 'Female', 'Male', 'Male', 'Female', 'Male', 'Female', 'Male', 'Female', 'Male', 'Female', 'Female', 'Female', 'Female', 'Female', 'Male', 'Male', 'Male', 'Female', 'Male', 'Female', 'Female', 'Male', 'Male', 'Female', 'Male', 'Female', 'Female', 'Female', 'Female', 'Female', 'Male', 'Male', 'Female']\n"
     ]
    }
   ],
   "source": [
    "import numpy as np\n",
    "genderList = []\n",
    "for i in range(len(df['Gender'])):\n",
    "    if pd.isna(df['Gender'][i]):\n",
    "        df.at[i, 'Gender'] = np.random.choice(['Female', 'Male'])\n",
    "    genderList.append(df['Gender'][i])\n",
    "\n",
    "print(genderList)"
   ]
  },
  {
   "cell_type": "code",
   "execution_count": 7,
   "id": "731c05b0-36c4-4437-abe8-0a8663595ce0",
   "metadata": {},
   "outputs": [
    {
     "data": {
      "text/plain": [
       "70.44162436548223"
      ]
     },
     "execution_count": 7,
     "metadata": {},
     "output_type": "execute_result"
    }
   ],
   "source": [
    "df['Speed_of_Impact'].mean()"
   ]
  },
  {
   "cell_type": "code",
   "execution_count": 8,
   "id": "9bfe5a0e-6467-4e7c-aaa4-cdcf6d7cbea9",
   "metadata": {},
   "outputs": [
    {
     "name": "stdout",
     "output_type": "stream",
     "text": [
      "[27.0, 46.0, 46.0, 117.0, 40.0, 49.0, 116.0, 47.0, 83.0, 116.0, 88.0, 80.0, 67.0, 38.0, 23.0, 70.44162436548223, 83.0, 68.0, 36.0, 70.44162436548223, 111.0, 49.0, 112.0, 65.0, 25.0, 118.0, 56.0, 43.0, 112.0, 70.44162436548223, 72.0, 114.0, 118.0, 79.0, 116.0, 82.0, 104.0, 51.0, 106.0, 52.0, 86.0, 37.0, 44.0, 114.0, 73.0, 77.0, 86.0, 65.0, 43.0, 51.0, 66.0, 105.0, 42.0, 85.0, 46.0, 21.0, 109.0, 36.0, 52.0, 28.0, 62.0, 67.0, 58.0, 112.0, 61.0, 45.0, 118.0, 69.0, 44.0, 43.0, 32.0, 79.0, 26.0, 76.0, 55.0, 64.0, 39.0, 84.0, 27.0, 35.0, 33.0, 95.0, 106.0, 34.0, 111.0, 117.0, 85.0, 51.0, 106.0, 82.0, 105.0, 70.0, 44.0, 77.0, 82.0, 81.0, 41.0, 77.0, 77.0, 105.0, 68.0, 71.0, 61.0, 89.0, 34.0, 73.0, 79.0, 116.0, 27.0, 72.0, 79.0, 24.0, 87.0, 25.0, 115.0, 113.0, 66.0, 118.0, 74.0, 59.0, 71.0, 35.0, 32.0, 49.0, 38.0, 36.0, 82.0, 38.0, 111.0, 77.0, 74.0, 109.0, 109.0, 81.0, 42.0, 28.0, 31.0, 20.0, 77.0, 20.0, 53.0, 115.0, 67.0, 108.0, 20.0, 35.0, 80.0, 83.0, 82.0, 88.0, 41.0, 112.0, 86.0, 95.0, 45.0, 35.0, 70.0, 105.0, 76.0, 48.0, 97.0, 111.0, 88.0, 66.0, 113.0, 81.0, 88.0, 95.0, 35.0, 109.0, 109.0, 67.0, 104.0, 58.0, 119.0, 52.0, 113.0, 42.0, 29.0, 88.0, 119.0, 53.0, 71.0, 114.0, 29.0, 38.0, 77.0, 115.0, 20.0, 88.0, 23.0, 35.0, 43.0, 99.0, 21.0, 111.0, 51.0, 110.0, 103.0, 43.0]\n"
     ]
    }
   ],
   "source": [
    "mean_speed = df['Speed_of_Impact'].mean()\n",
    "speedList = []\n",
    "for i in range(len(df['Speed_of_Impact'])):\n",
    "    if pd.isna(df['Speed_of_Impact'][i]):\n",
    "        df.at[i, 'Speed_of_Impact'] = mean_speed\n",
    "    speedList.append(df['Speed_of_Impact'][i])\n",
    "\n",
    "print(speedList)"
   ]
  },
  {
   "cell_type": "code",
   "execution_count": 9,
   "id": "0799d786-906b-49cd-93bb-5070280bfbc4",
   "metadata": {},
   "outputs": [
    {
     "name": "stdout",
     "output_type": "stream",
     "text": [
      "<class 'pandas.core.frame.DataFrame'>\n",
      "RangeIndex: 200 entries, 0 to 199\n",
      "Data columns (total 6 columns):\n",
      " #   Column           Non-Null Count  Dtype  \n",
      "---  ------           --------------  -----  \n",
      " 0   Age              200 non-null    int64  \n",
      " 1   Gender           200 non-null    object \n",
      " 2   Speed_of_Impact  200 non-null    float64\n",
      " 3   Helmet_Used      200 non-null    object \n",
      " 4   Seatbelt_Used    200 non-null    object \n",
      " 5   Survived         200 non-null    int64  \n",
      "dtypes: float64(1), int64(2), object(3)\n",
      "memory usage: 9.5+ KB\n"
     ]
    }
   ],
   "source": [
    "df.info()"
   ]
  },
  {
   "cell_type": "code",
   "execution_count": 10,
   "id": "5acd2b15-302a-49c4-9abf-981a51108036",
   "metadata": {},
   "outputs": [
    {
     "data": {
      "text/plain": [
       "Age                0\n",
       "Gender             0\n",
       "Speed_of_Impact    0\n",
       "Helmet_Used        0\n",
       "Seatbelt_Used      0\n",
       "Survived           0\n",
       "dtype: int64"
      ]
     },
     "execution_count": 10,
     "metadata": {},
     "output_type": "execute_result"
    }
   ],
   "source": [
    "df.isnull().sum()"
   ]
  },
  {
   "cell_type": "code",
   "execution_count": 11,
   "id": "efa17c56-6ef7-49ad-974d-f1f384fe5b16",
   "metadata": {},
   "outputs": [
    {
     "data": {
      "text/html": [
       "<div>\n",
       "<style scoped>\n",
       "    .dataframe tbody tr th:only-of-type {\n",
       "        vertical-align: middle;\n",
       "    }\n",
       "\n",
       "    .dataframe tbody tr th {\n",
       "        vertical-align: top;\n",
       "    }\n",
       "\n",
       "    .dataframe thead th {\n",
       "        text-align: right;\n",
       "    }\n",
       "</style>\n",
       "<table border=\"1\" class=\"dataframe\">\n",
       "  <thead>\n",
       "    <tr style=\"text-align: right;\">\n",
       "      <th></th>\n",
       "      <th>Age</th>\n",
       "      <th>Speed_of_Impact</th>\n",
       "      <th>Survived</th>\n",
       "    </tr>\n",
       "  </thead>\n",
       "  <tbody>\n",
       "    <tr>\n",
       "      <th>count</th>\n",
       "      <td>200.00000</td>\n",
       "      <td>200.000000</td>\n",
       "      <td>200.00000</td>\n",
       "    </tr>\n",
       "    <tr>\n",
       "      <th>mean</th>\n",
       "      <td>43.42500</td>\n",
       "      <td>70.441624</td>\n",
       "      <td>0.50500</td>\n",
       "    </tr>\n",
       "    <tr>\n",
       "      <th>std</th>\n",
       "      <td>14.94191</td>\n",
       "      <td>29.897360</td>\n",
       "      <td>0.50123</td>\n",
       "    </tr>\n",
       "    <tr>\n",
       "      <th>min</th>\n",
       "      <td>18.00000</td>\n",
       "      <td>20.000000</td>\n",
       "      <td>0.00000</td>\n",
       "    </tr>\n",
       "    <tr>\n",
       "      <th>25%</th>\n",
       "      <td>31.00000</td>\n",
       "      <td>43.000000</td>\n",
       "      <td>0.00000</td>\n",
       "    </tr>\n",
       "    <tr>\n",
       "      <th>50%</th>\n",
       "      <td>43.50000</td>\n",
       "      <td>71.000000</td>\n",
       "      <td>1.00000</td>\n",
       "    </tr>\n",
       "    <tr>\n",
       "      <th>75%</th>\n",
       "      <td>56.00000</td>\n",
       "      <td>95.000000</td>\n",
       "      <td>1.00000</td>\n",
       "    </tr>\n",
       "    <tr>\n",
       "      <th>max</th>\n",
       "      <td>69.00000</td>\n",
       "      <td>119.000000</td>\n",
       "      <td>1.00000</td>\n",
       "    </tr>\n",
       "  </tbody>\n",
       "</table>\n",
       "</div>"
      ],
      "text/plain": [
       "             Age  Speed_of_Impact   Survived\n",
       "count  200.00000       200.000000  200.00000\n",
       "mean    43.42500        70.441624    0.50500\n",
       "std     14.94191        29.897360    0.50123\n",
       "min     18.00000        20.000000    0.00000\n",
       "25%     31.00000        43.000000    0.00000\n",
       "50%     43.50000        71.000000    1.00000\n",
       "75%     56.00000        95.000000    1.00000\n",
       "max     69.00000       119.000000    1.00000"
      ]
     },
     "execution_count": 11,
     "metadata": {},
     "output_type": "execute_result"
    }
   ],
   "source": [
    "df.describe()"
   ]
  },
  {
   "cell_type": "code",
   "execution_count": 12,
   "id": "1c3c094f-f27d-4a62-8e32-5a6904b6a142",
   "metadata": {},
   "outputs": [
    {
     "data": {
      "image/png": "[encoded data removed]",
      "text/plain": [
       "<Figure size 640x480 with 1 Axes>"
      ]
     },
     "metadata": {},
     "output_type": "display_data"
    }
   ],
   "source": [
    "import matplotlib.pyplot as plt\n",
    "gender_counts = df['Gender'].value_counts()\n",
    "plt.pie(gender_counts, labels=gender_counts.index, autopct='%1.1f%%', startangle=90)\n",
    "plt.show()"
   ]
  },
  {
   "cell_type": "code",
   "execution_count": 13,
   "id": "b41647dd-3b57-4a40-83da-e6fe17369a9c",
   "metadata": {},
   "outputs": [
    {
     "data": {
      "image/png": "[encoded data removed]",
      "text/plain": [
       "<Figure size 640x480 with 1 Axes>"
      ]
     },
     "metadata": {},
     "output_type": "display_data"
    }
   ],
   "source": [
    "import matplotlib.pyplot as plt\n",
    "\n",
    "age_counts = df['Age'].value_counts().sort_index()\n",
    "plt.bar(age_counts.index, age_counts.values, color=\"orange\")\n",
    "plt.title(\"Yaşa Göre Dağılım\")\n",
    "plt.xlabel(\"Yaş\")\n",
    "plt.ylabel(\"Kişi Sayısı\")\n",
    "plt.show()"
   ]
  },
  {
   "cell_type": "code",
   "execution_count": 14,
   "id": "f20e4e00-d6ad-4ba0-850d-1a53e735f9aa",
   "metadata": {},
   "outputs": [
    {
     "name": "stdout",
     "output_type": "stream",
     "text": [
      "['No' 'Yes']\n",
      "['No' 'Yes']\n"
     ]
    }
   ],
   "source": [
    "print(df['Seatbelt_Used'].unique())\n",
    "print(df['Helmet_Used'].unique())"
   ]
  },
  {
   "cell_type": "code",
   "execution_count": 15,
   "id": "2e344108-71aa-4892-a947-68c48bf56f77",
   "metadata": {},
   "outputs": [
    {
     "data": {
      "image/png": "[encoded data removed]",
      "text/plain": [
       "<Figure size 640x480 with 1 Axes>"
      ]
     },
     "metadata": {},
     "output_type": "display_data"
    }
   ],
   "source": [
    "Seatbelt_Used_counts = df['Seatbelt_Used'].value_counts()\n",
    "plt.pie(Seatbelt_Used_counts, labels=Seatbelt_Used_counts.index, autopct='%1.1f%%', startangle=90)\n",
    "plt.show()"
   ]
  },
  {
   "cell_type": "code",
   "execution_count": 16,
   "id": "663f2d78-137b-4fa0-9ff4-de48c66998ae",
   "metadata": {},
   "outputs": [
    {
     "data": {
      "image/png": "[encoded data removed]",
      "text/plain": [
       "<Figure size 640x480 with 1 Axes>"
      ]
     },
     "metadata": {},
     "output_type": "display_data"
    }
   ],
   "source": [
    "Helmet_Used_counts = df['Helmet_Used'].value_counts()\n",
    "plt.pie(Helmet_Used_counts, labels=Helmet_Used_counts.index, autopct='%1.1f%%', startangle=90)\n",
    "plt.show()"
   ]
  },
  {
   "cell_type": "code",
   "execution_count": 17,
   "id": "fcdae029-d9dc-4d64-ba9f-76e461e97fce",
   "metadata": {},
   "outputs": [],
   "source": [
    "from sklearn.preprocessing import LabelEncoder\n",
    "data_list = ['Gender','Seatbelt_Used','Helmet_Used']\n",
    "le = LabelEncoder()\n",
    "encoders = {}\n",
    "for index in data_list:\n",
    "    le = LabelEncoder()\n",
    "    df[index] = le.fit_transform(df[index])\n",
    "    encoders[index] = le    "
   ]
  },
  {
   "cell_type": "code",
   "execution_count": 18,
   "id": "61d4a617-4885-4fd6-bcb8-a9fbb44ba509",
   "metadata": {},
   "outputs": [
    {
     "name": "stdout",
     "output_type": "stream",
     "text": [
      "<class 'pandas.core.frame.DataFrame'>\n",
      "RangeIndex: 200 entries, 0 to 199\n",
      "Data columns (total 6 columns):\n",
      " #   Column           Non-Null Count  Dtype  \n",
      "---  ------           --------------  -----  \n",
      " 0   Age              200 non-null    int64  \n",
      " 1   Gender           200 non-null    int32  \n",
      " 2   Speed_of_Impact  200 non-null    float64\n",
      " 3   Helmet_Used      200 non-null    int32  \n",
      " 4   Seatbelt_Used    200 non-null    int32  \n",
      " 5   Survived         200 non-null    int64  \n",
      "dtypes: float64(1), int32(3), int64(2)\n",
      "memory usage: 7.2 KB\n"
     ]
    }
   ],
   "source": [
    "df.info()"
   ]
  },
  {
   "cell_type": "code",
   "execution_count": 19,
   "id": "cc8d8cfe-dfa4-4be0-b248-fbfdeca4de28",
   "metadata": {},
   "outputs": [
    {
     "data": {
      "text/html": [
       "<div>\n",
       "<style scoped>\n",
       "    .dataframe tbody tr th:only-of-type {\n",
       "        vertical-align: middle;\n",
       "    }\n",
       "\n",
       "    .dataframe tbody tr th {\n",
       "        vertical-align: top;\n",
       "    }\n",
       "\n",
       "    .dataframe thead th {\n",
       "        text-align: right;\n",
       "    }\n",
       "</style>\n",
       "<table border=\"1\" class=\"dataframe\">\n",
       "  <thead>\n",
       "    <tr style=\"text-align: right;\">\n",
       "      <th></th>\n",
       "      <th>Age</th>\n",
       "      <th>Gender</th>\n",
       "      <th>Speed_of_Impact</th>\n",
       "      <th>Helmet_Used</th>\n",
       "      <th>Seatbelt_Used</th>\n",
       "      <th>Survived</th>\n",
       "    </tr>\n",
       "  </thead>\n",
       "  <tbody>\n",
       "    <tr>\n",
       "      <th>0</th>\n",
       "      <td>56</td>\n",
       "      <td>0</td>\n",
       "      <td>27.0</td>\n",
       "      <td>0</td>\n",
       "      <td>0</td>\n",
       "      <td>1</td>\n",
       "    </tr>\n",
       "    <tr>\n",
       "      <th>1</th>\n",
       "      <td>69</td>\n",
       "      <td>0</td>\n",
       "      <td>46.0</td>\n",
       "      <td>0</td>\n",
       "      <td>1</td>\n",
       "      <td>1</td>\n",
       "    </tr>\n",
       "    <tr>\n",
       "      <th>2</th>\n",
       "      <td>46</td>\n",
       "      <td>1</td>\n",
       "      <td>46.0</td>\n",
       "      <td>1</td>\n",
       "      <td>1</td>\n",
       "      <td>0</td>\n",
       "    </tr>\n",
       "    <tr>\n",
       "      <th>3</th>\n",
       "      <td>32</td>\n",
       "      <td>1</td>\n",
       "      <td>117.0</td>\n",
       "      <td>0</td>\n",
       "      <td>1</td>\n",
       "      <td>0</td>\n",
       "    </tr>\n",
       "    <tr>\n",
       "      <th>4</th>\n",
       "      <td>60</td>\n",
       "      <td>0</td>\n",
       "      <td>40.0</td>\n",
       "      <td>1</td>\n",
       "      <td>1</td>\n",
       "      <td>0</td>\n",
       "    </tr>\n",
       "  </tbody>\n",
       "</table>\n",
       "</div>"
      ],
      "text/plain": [
       "   Age  Gender  Speed_of_Impact  Helmet_Used  Seatbelt_Used  Survived\n",
       "0   56       0             27.0            0              0         1\n",
       "1   69       0             46.0            0              1         1\n",
       "2   46       1             46.0            1              1         0\n",
       "3   32       1            117.0            0              1         0\n",
       "4   60       0             40.0            1              1         0"
      ]
     },
     "execution_count": 19,
     "metadata": {},
     "output_type": "execute_result"
    }
   ],
   "source": [
    "df.head()"
   ]
  },
  {
   "cell_type": "code",
   "execution_count": 20,
   "id": "f0ef976a-b73a-4f30-92c0-a727d684614d",
   "metadata": {},
   "outputs": [
    {
     "name": "stdout",
     "output_type": "stream",
     "text": [
      "          Age  Gender  Speed_of_Impact  Helmet_Used  Seatbelt_Used\n",
      "0    0.745098     0.0         0.070707          0.0            0.0\n",
      "1    1.000000     0.0         0.262626          0.0            1.0\n",
      "2    0.549020     1.0         0.262626          1.0            1.0\n",
      "3    0.274510     1.0         0.979798          0.0            1.0\n",
      "4    0.823529     0.0         0.202020          1.0            1.0\n",
      "..        ...     ...              ...          ...            ...\n",
      "195  1.000000     0.0         0.919192          0.0            1.0\n",
      "196  0.235294     0.0         0.313131          0.0            1.0\n",
      "197  0.784314     1.0         0.909091          0.0            1.0\n",
      "198  0.039216     1.0         0.838384          0.0            1.0\n",
      "199  0.745098     0.0         0.232323          0.0            1.0\n",
      "\n",
      "[200 rows x 5 columns]\n",
      "(160, 5)\n",
      "(40, 5)\n",
      "(160,)\n",
      "(40,)\n"
     ]
    }
   ],
   "source": [
    "from sklearn.preprocessing import MinMaxScaler\n",
    "from sklearn.model_selection import train_test_split\n",
    "minMax = MinMaxScaler()\n",
    "x = df.drop(['Survived'],axis=1)\n",
    "y = df['Survived']\n",
    "\n",
    "x_minmax = minMax.fit_transform(x)\n",
    "dataframe_x = pd.DataFrame(x_minmax, columns=x.columns)\n",
    "print(dataframe_x)\n",
    "x_train,x_test,y_train,y_test = train_test_split(x_minmax,y,train_size=0.80,random_state=22)\n",
    "print(x_train.shape)\n",
    "print(x_test.shape)\n",
    "print(y_train.shape)\n",
    "print(y_test.shape)"
   ]
  },
  {
   "cell_type": "code",
   "execution_count": 21,
   "id": "f2eb7e21-3305-4391-a48f-dc3f2c5bb4f7",
   "metadata": {},
   "outputs": [
    {
     "data": {
      "text/plain": [
       "array([0, 1], dtype=int64)"
      ]
     },
     "execution_count": 21,
     "metadata": {},
     "output_type": "execute_result"
    }
   ],
   "source": [
    "y_test.unique()"
   ]
  },
  {
   "cell_type": "code",
   "execution_count": 30,
   "id": "b3f2a484-d904-482c-abd3-083fb43d3d29",
   "metadata": {},
   "outputs": [
    {
     "data": {
      "text/plain": [
       "array([[0.        , 0.        , 0.        , 0.        , 1.        ],\n",
       "       [0.60784314, 1.        , 0.85858586, 0.        , 0.        ],\n",
       "       [0.80392157, 0.        , 0.98989899, 1.        , 0.        ],\n",
       "       [0.54901961, 1.        , 0.57575758, 1.        , 1.        ],\n",
       "       [0.56862745, 0.        , 0.46464646, 1.        , 1.        ],\n",
       "       [0.17647059, 0.        , 0.07070707, 1.        , 0.        ],\n",
       "       [0.33333333, 0.        , 0.50505051, 1.        , 1.        ],\n",
       "       [0.54901961, 0.        , 0.8989899 , 1.        , 0.        ],\n",
       "       [0.1372549 , 0.        , 0.18181818, 1.        , 1.        ],\n",
       "       [0.49019608, 0.        , 0.44444444, 1.        , 0.        ],\n",
       "       [0.52941176, 1.        , 0.68686869, 1.        , 0.        ],\n",
       "       [0.41176471, 0.        , 0.93939394, 0.        , 0.        ],\n",
       "       [0.15686275, 1.        , 0.14141414, 1.        , 0.        ],\n",
       "       [0.84313725, 0.        , 0.91919192, 0.        , 0.        ],\n",
       "       [0.76470588, 1.        , 0.31313131, 0.        , 0.        ],\n",
       "       [0.74509804, 0.        , 0.66666667, 1.        , 1.        ],\n",
       "       [0.92156863, 0.        , 0.91919192, 0.        , 1.        ],\n",
       "       [0.90196078, 0.        , 0.84848485, 0.        , 1.        ],\n",
       "       [0.41176471, 0.        , 0.08080808, 1.        , 1.        ],\n",
       "       [0.45098039, 1.        , 0.47474747, 1.        , 0.        ],\n",
       "       [0.50980392, 0.        , 0.01010101, 0.        , 1.        ],\n",
       "       [0.90196078, 1.        , 0.24242424, 1.        , 1.        ],\n",
       "       [0.25490196, 1.        , 0.47474747, 1.        , 1.        ],\n",
       "       [1.        , 0.        , 0.77777778, 1.        , 1.        ],\n",
       "       [0.25490196, 0.        , 0.46464646, 1.        , 1.        ],\n",
       "       [0.74509804, 0.        , 0.23232323, 0.        , 1.        ],\n",
       "       [0.54901961, 1.        , 0.56565657, 1.        , 0.        ],\n",
       "       [0.74509804, 1.        , 0.68686869, 1.        , 1.        ],\n",
       "       [0.70588235, 1.        , 0.17171717, 0.        , 1.        ],\n",
       "       [0.94117647, 1.        , 0.52525253, 0.        , 1.        ],\n",
       "       [0.60784314, 0.        , 0.91919192, 1.        , 1.        ],\n",
       "       [0.2745098 , 1.        , 0.97979798, 0.        , 1.        ],\n",
       "       [0.96078431, 0.        , 0.98989899, 1.        , 0.        ],\n",
       "       [0.8627451 , 0.        , 1.        , 1.        , 1.        ],\n",
       "       [0.74509804, 1.        , 0.15151515, 1.        , 1.        ],\n",
       "       [0.68627451, 0.        , 0.18181818, 1.        , 1.        ],\n",
       "       [0.2745098 , 0.        , 0.85858586, 0.        , 0.        ],\n",
       "       [0.49019608, 1.        , 0.75757576, 0.        , 0.        ],\n",
       "       [0.39215686, 1.        , 0.96969697, 1.        , 1.        ],\n",
       "       [0.74509804, 1.        , 0.56565657, 0.        , 1.        ]])"
      ]
     },
     "execution_count": 30,
     "metadata": {},
     "output_type": "execute_result"
    }
   ],
   "source": [
    "x_test"
   ]
  },
  {
   "cell_type": "code",
   "execution_count": 22,
   "id": "8c7d13cb-4288-462c-8bf9-f3673864b47a",
   "metadata": {},
   "outputs": [],
   "source": [
    "from sklearn.ensemble import RandomForestClassifier\n",
    "from sklearn.linear_model import LogisticRegression\n",
    "from xgboost import XGBClassifier\n",
    "from sklearn.metrics import accuracy_score,confusion_matrix,classification_report"
   ]
  },
  {
   "cell_type": "code",
   "execution_count": 23,
   "id": "c56cd93b-2c37-4b96-935b-a710e59da4e7",
   "metadata": {},
   "outputs": [
    {
     "name": "stdout",
     "output_type": "stream",
     "text": [
      "Accuracy: 0.625\n",
      "Confusion Matrix:\n",
      " [[15  9]\n",
      " [ 6 10]]\n",
      "Classification Report:\n",
      "               precision    recall  f1-score   support\n",
      "\n",
      "           0       0.71      0.62      0.67        24\n",
      "           1       0.53      0.62      0.57        16\n",
      "\n",
      "    accuracy                           0.62        40\n",
      "   macro avg       0.62      0.62      0.62        40\n",
      "weighted avg       0.64      0.62      0.63        40\n",
      "\n"
     ]
    }
   ],
   "source": [
    "model_rf = RandomForestClassifier()\n",
    "model_rf.fit(x_train,y_train)\n",
    "y_pred = model_rf.predict(x_test)\n",
    "print(\"Accuracy:\", accuracy_score(y_test, y_pred))\n",
    "print(\"Confusion Matrix:\\n\", confusion_matrix(y_test, y_pred,labels=[0,1]))\n",
    "print(\"Classification Report:\\n\", classification_report(y_test, y_pred))"
   ]
  },
  {
   "cell_type": "code",
   "execution_count": 24,
   "id": "5872de8a-1520-4ba5-aaa1-929b3c7752ee",
   "metadata": {},
   "outputs": [
    {
     "name": "stdout",
     "output_type": "stream",
     "text": [
      "Accuracy: 0.5\n",
      "Confusion Matrix:\n",
      " [[11 13]\n",
      " [ 7  9]]\n",
      "Classification Report:\n",
      "               precision    recall  f1-score   support\n",
      "\n",
      "           0       0.61      0.46      0.52        24\n",
      "           1       0.41      0.56      0.47        16\n",
      "\n",
      "    accuracy                           0.50        40\n",
      "   macro avg       0.51      0.51      0.50        40\n",
      "weighted avg       0.53      0.50      0.50        40\n",
      "\n"
     ]
    }
   ],
   "source": [
    "model_lr = LogisticRegression()\n",
    "model_lr.fit(x_train,y_train)\n",
    "y_pred = model_lr.predict(x_test)\n",
    "print(\"Accuracy:\", accuracy_score(y_test, y_pred))\n",
    "print(\"Confusion Matrix:\\n\", confusion_matrix(y_test, y_pred,labels=[0,1]))\n",
    "print(\"Classification Report:\\n\", classification_report(y_test, y_pred))"
   ]
  },
  {
   "cell_type": "code",
   "execution_count": 25,
   "id": "964bc2fa-8a6d-4c6d-a413-7cf8c95ba0ff",
   "metadata": {},
   "outputs": [
    {
     "name": "stdout",
     "output_type": "stream",
     "text": [
      "Accuracy: 0.65\n",
      "Confusion Matrix:\n",
      " [[15  9]\n",
      " [ 5 11]]\n",
      "Classification Report:\n",
      "               precision    recall  f1-score   support\n",
      "\n",
      "           0       0.75      0.62      0.68        24\n",
      "           1       0.55      0.69      0.61        16\n",
      "\n",
      "    accuracy                           0.65        40\n",
      "   macro avg       0.65      0.66      0.65        40\n",
      "weighted avg       0.67      0.65      0.65        40\n",
      "\n"
     ]
    }
   ],
   "source": [
    "model_xgb = XGBClassifier()\n",
    "model_xgb.fit(x_train,y_train)\n",
    "y_pred = model_xgb.predict(x_test)\n",
    "print(\"Accuracy:\", accuracy_score(y_test, y_pred))\n",
    "print(\"Confusion Matrix:\\n\", confusion_matrix(y_test, y_pred,labels=[0,1]))\n",
    "print(\"Classification Report:\\n\", classification_report(y_test, y_pred))"
   ]
  },
  {
   "cell_type": "code",
   "execution_count": 31,
   "id": "5d5b9e20-5dad-480e-a07b-cd656902ca48",
   "metadata": {},
   "outputs": [
    {
     "name": "stdout",
     "output_type": "stream",
     "text": [
      "Tahmin: 1\n"
     ]
    },
    {
     "name": "stderr",
     "output_type": "stream",
     "text": [
      "C:\\Users\\kurt_\\anaconda3\\envs\\tensorflow-gpu\\lib\\site-packages\\sklearn\\utils\\validation.py:2739: UserWarning: X does not have valid feature names, but MinMaxScaler was fitted with feature names\n",
      "  warnings.warn(\n"
     ]
    }
   ],
   "source": [
    "sample_input = [[30, 55.2, 1, 1, 0]]\n",
    "sample_input_scaled = minMax.transform(sample_input)\n",
    "prediction = model_rf.predict(sample_input_scaled)\n",
    "print(\"Tahmin:\", prediction[0])"
   ]
  },
  {
   "cell_type": "code",
   "execution_count": null,
   "id": "e7b131b5-d6d5-4263-88f5-7fa0cb0272ae",
   "metadata": {},
   "outputs": [],
   "source": []
  }
 ],
 "metadata": {
  "kernelspec": {
   "display_name": "Python 3 (ipykernel)",
   "language": "python",
   "name": "python3"
  },
  "language_info": {
   "codemirror_mode": {
    "name": "ipython",
    "version": 3
   },
   "file_extension": ".py",
   "mimetype": "text/x-python",
   "name": "python",
   "nbconvert_exporter": "python",
   "pygments_lexer": "ipython3",
   "version": "3.10.16"
  }
 },
 "nbformat": 4,
 "nbformat_minor": 5
}
