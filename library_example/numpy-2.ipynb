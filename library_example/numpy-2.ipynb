{
 "cells": [
  {
   "cell_type": "code",
   "execution_count": 1,
   "id": "1dd5b2ec-1b12-4385-a666-17e1473b52fd",
   "metadata": {},
   "outputs": [],
   "source": [
    "import numpy as np"
   ]
  },
  {
   "cell_type": "code",
   "execution_count": 2,
   "id": "7eda6c94-a51c-490e-b844-c42396e11e6d",
   "metadata": {},
   "outputs": [
    {
     "data": {
      "text/plain": [
       "array([1, 2, 3, 4, 5, 6])"
      ]
     },
     "execution_count": 2,
     "metadata": {},
     "output_type": "execute_result"
    }
   ],
   "source": [
    "np.array([1,2,3,4,5,6])"
   ]
  },
  {
   "cell_type": "code",
   "execution_count": 6,
   "id": "14720c0b-ffb1-41ff-973e-55b3d7380404",
   "metadata": {},
   "outputs": [
    {
     "data": {
      "text/plain": [
       "array(90)"
      ]
     },
     "execution_count": 6,
     "metadata": {},
     "output_type": "execute_result"
    }
   ],
   "source": [
    "# skaler\n",
    "skaler = np.array(90)\n",
    "skaler"
   ]
  },
  {
   "cell_type": "code",
   "execution_count": 7,
   "id": "4e121fdb-2f94-4590-a5a2-707b534ef9d6",
   "metadata": {},
   "outputs": [
    {
     "data": {
      "text/plain": [
       "array([1, 2, 3, 4, 5, 6])"
      ]
     },
     "execution_count": 7,
     "metadata": {},
     "output_type": "execute_result"
    }
   ],
   "source": [
    "# 1 boyut\n",
    "vektor = np.array([1,2,3,4,5,6])\n",
    "vektor"
   ]
  },
  {
   "cell_type": "code",
   "execution_count": 8,
   "id": "ed6b51d2-e12d-47ef-8d6b-8f69eaace504",
   "metadata": {},
   "outputs": [
    {
     "data": {
      "text/plain": [
       "array([[1, 2, 3],\n",
       "       [4, 5, 6],\n",
       "       [7, 8, 9]])"
      ]
     },
     "execution_count": 8,
     "metadata": {},
     "output_type": "execute_result"
    }
   ],
   "source": [
    "# 2 boyut\n",
    "matris = np.array([[1,2,3],[4,5,6],[7,8,9]])\n",
    "matris"
   ]
  },
  {
   "cell_type": "code",
   "execution_count": 9,
   "id": "fff69624-76dd-4737-8b75-53d886a10a26",
   "metadata": {},
   "outputs": [
    {
     "name": "stdout",
     "output_type": "stream",
     "text": [
      "[[[1 2 3]\n",
      "  [4 5 6]]\n",
      "\n",
      " [[1 2 3]\n",
      "  [4 5 6]]\n",
      "\n",
      " [[1 2 3]\n",
      "  [4 5 6]]]\n"
     ]
    }
   ],
   "source": [
    "# 3 boyut\n",
    "tensor=np.array([[[1,2,3],[4,5,6]],[[1,2,3],[4,5,6]],[[1,2,3],[4,5,6]]])\n",
    "print(tensor)"
   ]
  },
  {
   "cell_type": "markdown",
   "id": "d727b894-3ff1-45ca-a407-5f5ca56e0e41",
   "metadata": {},
   "source": [
    "## Neden Numpy?"
   ]
  },
  {
   "cell_type": "code",
   "execution_count": 10,
   "id": "f1404aad-c2c4-427d-b1d3-baf94f47a259",
   "metadata": {},
   "outputs": [],
   "source": [
    "import time"
   ]
  },
  {
   "cell_type": "code",
   "execution_count": 12,
   "id": "6ed91733-79f2-47f5-8815-ea288d8c8df5",
   "metadata": {},
   "outputs": [
    {
     "name": "stdout",
     "output_type": "stream",
     "text": [
      "0.36996936798095703\n"
     ]
    }
   ],
   "source": [
    "z1 = time.time()\n",
    "\n",
    "liste = []\n",
    "for i in range(1000000):\n",
    "    sayi = i**10\n",
    "    liste.append(sayi)\n",
    "\n",
    "z2 = time.time()\n",
    "print(z2-z1)"
   ]
  },
  {
   "cell_type": "code",
   "execution_count": 13,
   "id": "a6bda97b-d13d-4037-ba0b-624d52de1179",
   "metadata": {},
   "outputs": [
    {
     "name": "stdout",
     "output_type": "stream",
     "text": [
      "0.0054569244384765625\n"
     ]
    }
   ],
   "source": [
    "z3 = time.time()\n",
    "\n",
    "liste2 = np.arange(1000000)**100\n",
    " \n",
    "z4 = time.time()\n",
    "print(z4-z3)"
   ]
  },
  {
   "cell_type": "markdown",
   "id": "d3356559-8b7a-4d64-bf5b-f9be8477139b",
   "metadata": {},
   "source": [
    "## index ve slice"
   ]
  },
  {
   "cell_type": "code",
   "execution_count": 14,
   "id": "08cf0973-d39c-4ef4-983b-8d33160ce479",
   "metadata": {},
   "outputs": [],
   "source": [
    "vektor = np.array([0,2,4,5,6,7,8,15])"
   ]
  },
  {
   "cell_type": "code",
   "execution_count": 15,
   "id": "0ce41487-ed28-400b-91d3-20bc902fe4d0",
   "metadata": {},
   "outputs": [
    {
     "data": {
      "text/plain": [
       "5"
      ]
     },
     "execution_count": 15,
     "metadata": {},
     "output_type": "execute_result"
    }
   ],
   "source": [
    "vektor[3]"
   ]
  },
  {
   "cell_type": "code",
   "execution_count": 16,
   "id": "5540fd51-c7f3-4991-8443-2f50d45b6030",
   "metadata": {},
   "outputs": [
    {
     "data": {
      "text/plain": [
       "array([2, 4])"
      ]
     },
     "execution_count": 16,
     "metadata": {},
     "output_type": "execute_result"
    }
   ],
   "source": [
    "vektor[1:3]"
   ]
  },
  {
   "cell_type": "code",
   "execution_count": 17,
   "id": "8628d8c9-50e2-4e8d-814f-8038f9ebc423",
   "metadata": {},
   "outputs": [
    {
     "data": {
      "text/plain": [
       "array([0, 2, 4, 5])"
      ]
     },
     "execution_count": 17,
     "metadata": {},
     "output_type": "execute_result"
    }
   ],
   "source": [
    "vektor[:4]"
   ]
  },
  {
   "cell_type": "code",
   "execution_count": 18,
   "id": "277f7508-c342-47cc-ad92-fad753b77b1b",
   "metadata": {},
   "outputs": [
    {
     "data": {
      "text/plain": [
       "array([0, 2, 4, 5, 6, 7, 8])"
      ]
     },
     "execution_count": 18,
     "metadata": {},
     "output_type": "execute_result"
    }
   ],
   "source": [
    "vektor[:-1]"
   ]
  },
  {
   "cell_type": "code",
   "execution_count": 21,
   "id": "880736f3-e7c5-4a25-afdd-38708ec17a81",
   "metadata": {},
   "outputs": [
    {
     "data": {
      "text/plain": [
       "array([4, 6])"
      ]
     },
     "execution_count": 21,
     "metadata": {},
     "output_type": "execute_result"
    }
   ],
   "source": [
    "# 2 den başla 6 ya kadar(dahil değil) 2 adımda bir sayıyı al\n",
    "vektor[2:6:2]"
   ]
  },
  {
   "cell_type": "code",
   "execution_count": 22,
   "id": "6004e5e3-b81b-4ea7-924b-b626377d86dd",
   "metadata": {},
   "outputs": [
    {
     "data": {
      "text/plain": [
       "array([2])"
      ]
     },
     "execution_count": 22,
     "metadata": {},
     "output_type": "execute_result"
    }
   ],
   "source": [
    "vektor[1:5:4]"
   ]
  },
  {
   "cell_type": "markdown",
   "id": "b1c02092-c0af-49cb-820a-f0dd8b3911ca",
   "metadata": {},
   "source": [
    "## Size,shape,dtype,ndim"
   ]
  },
  {
   "cell_type": "code",
   "execution_count": 25,
   "id": "a8e2745e-9ea6-4fac-b65f-d4a23ef8e800",
   "metadata": {},
   "outputs": [],
   "source": [
    "vektor = np.array([1,2,3,4,5,6])\n",
    "matris = np.array([[1,2,3],[4,5,6],[7,8,9]])"
   ]
  },
  {
   "cell_type": "code",
   "execution_count": 26,
   "id": "133c631a-c364-44f7-a8e1-4bda9d735da9",
   "metadata": {},
   "outputs": [
    {
     "name": "stdout",
     "output_type": "stream",
     "text": [
      "[1 2 3 4 5 6]\n"
     ]
    }
   ],
   "source": [
    "print(vektor)"
   ]
  },
  {
   "cell_type": "code",
   "execution_count": 27,
   "id": "22550daf-e681-48e6-983d-dba74c53820f",
   "metadata": {},
   "outputs": [
    {
     "name": "stdout",
     "output_type": "stream",
     "text": [
      "[[1 2 3]\n",
      " [4 5 6]\n",
      " [7 8 9]]\n"
     ]
    }
   ],
   "source": [
    "print(matris)"
   ]
  },
  {
   "cell_type": "code",
   "execution_count": 28,
   "id": "e70fbd84-02a4-4a3d-8ef8-0eb8bbbf6ff9",
   "metadata": {},
   "outputs": [
    {
     "data": {
      "text/plain": [
       "dtype('int32')"
      ]
     },
     "execution_count": 28,
     "metadata": {},
     "output_type": "execute_result"
    }
   ],
   "source": [
    "vektor.dtype"
   ]
  },
  {
   "cell_type": "code",
   "execution_count": 29,
   "id": "01cbdf1c-9646-4e74-b399-211ee9f95f18",
   "metadata": {},
   "outputs": [
    {
     "data": {
      "text/plain": [
       "(6,)"
      ]
     },
     "execution_count": 29,
     "metadata": {},
     "output_type": "execute_result"
    }
   ],
   "source": [
    "vektor.shape"
   ]
  },
  {
   "cell_type": "code",
   "execution_count": 30,
   "id": "9762c05d-fa4b-4efc-847e-a45b6c3d8201",
   "metadata": {},
   "outputs": [
    {
     "data": {
      "text/plain": [
       "dtype('int32')"
      ]
     },
     "execution_count": 30,
     "metadata": {},
     "output_type": "execute_result"
    }
   ],
   "source": [
    "matris.dtype"
   ]
  },
  {
   "cell_type": "code",
   "execution_count": 31,
   "id": "f2cfa28b-4ce8-4fdf-8856-f711fbe8e3ff",
   "metadata": {},
   "outputs": [
    {
     "data": {
      "text/plain": [
       "(3, 3)"
      ]
     },
     "execution_count": 31,
     "metadata": {},
     "output_type": "execute_result"
    }
   ],
   "source": [
    "matris.shape"
   ]
  },
  {
   "cell_type": "code",
   "execution_count": 32,
   "id": "d83e0dec-60e7-4cd6-948f-a4be8a4acf39",
   "metadata": {},
   "outputs": [
    {
     "name": "stdout",
     "output_type": "stream",
     "text": [
      "6\n",
      "9\n"
     ]
    }
   ],
   "source": [
    "print(vektor.size)\n",
    "print(matris.size)"
   ]
  },
  {
   "cell_type": "code",
   "execution_count": 33,
   "id": "c7f80629-9902-480d-9bea-88c80629f841",
   "metadata": {},
   "outputs": [
    {
     "name": "stdout",
     "output_type": "stream",
     "text": [
      "1\n",
      "2\n"
     ]
    }
   ],
   "source": [
    "print(vektor.ndim)\n",
    "print(matris.ndim)"
   ]
  },
  {
   "cell_type": "code",
   "execution_count": 34,
   "id": "64b703a8-68c2-4dee-a294-8dbe3b52baf9",
   "metadata": {},
   "outputs": [
    {
     "name": "stdout",
     "output_type": "stream",
     "text": [
      "<class 'numpy.ndarray'>\n",
      "<class 'numpy.ndarray'>\n"
     ]
    }
   ],
   "source": [
    "print(type(vektor))\n",
    "print(type(matris))"
   ]
  },
  {
   "cell_type": "markdown",
   "id": "170ae889-fbb4-45ac-89c4-36d29654e7e9",
   "metadata": {},
   "source": [
    "## veri tipi değiştirme"
   ]
  },
  {
   "cell_type": "code",
   "execution_count": 35,
   "id": "5f4ee9aa-16cb-4a1e-9a94-e28884a7f5fe",
   "metadata": {},
   "outputs": [
    {
     "data": {
      "text/plain": [
       "dtype('int32')"
      ]
     },
     "execution_count": 35,
     "metadata": {},
     "output_type": "execute_result"
    }
   ],
   "source": [
    "sayilar = np.array([1,2,3,4,5,6])\n",
    "sayilar.dtype"
   ]
  },
  {
   "cell_type": "code",
   "execution_count": 36,
   "id": "9ec64deb-438b-4f2a-bbc9-d01ad03c686c",
   "metadata": {},
   "outputs": [
    {
     "data": {
      "text/plain": [
       "dtype('float64')"
      ]
     },
     "execution_count": 36,
     "metadata": {},
     "output_type": "execute_result"
    }
   ],
   "source": [
    "sayilar = np.array([1,2,3.0,4,5,6])\n",
    "sayilar.dtype"
   ]
  },
  {
   "cell_type": "code",
   "execution_count": 37,
   "id": "76f4c09d-3902-46a4-9e56-bf41e6d261cc",
   "metadata": {},
   "outputs": [
    {
     "data": {
      "text/plain": [
       "dtype('int8')"
      ]
     },
     "execution_count": 37,
     "metadata": {},
     "output_type": "execute_result"
    }
   ],
   "source": [
    "sayilar = sayilar.astype('int8')\n",
    "sayilar.dtype"
   ]
  },
  {
   "cell_type": "code",
   "execution_count": 39,
   "id": "ff2e0984-bce2-4810-9ced-a6eec01a5b08",
   "metadata": {},
   "outputs": [
    {
     "data": {
      "text/plain": [
       "array([2., 3., 4., 5., 6., 7., 8.], dtype=float32)"
      ]
     },
     "execution_count": 39,
     "metadata": {},
     "output_type": "execute_result"
    }
   ],
   "source": [
    "sayilar = np.array([2,3,4,5,6,7,8],dtype = \"float32\")\n",
    "sayilar"
   ]
  },
  {
   "cell_type": "code",
   "execution_count": 40,
   "id": "47264746-41d9-4c70-98f6-723d515a91cf",
   "metadata": {},
   "outputs": [
    {
     "data": {
      "text/plain": [
       "dtype('<U10')"
      ]
     },
     "execution_count": 40,
     "metadata": {},
     "output_type": "execute_result"
    }
   ],
   "source": [
    "tarih = np.array([\"2023-01-01\"])\n",
    "tarih.dtype"
   ]
  },
  {
   "cell_type": "code",
   "execution_count": 41,
   "id": "440cc366-79fa-4066-bf50-89406c2137a3",
   "metadata": {},
   "outputs": [
    {
     "data": {
      "text/plain": [
       "dtype('<M8[ns]')"
      ]
     },
     "execution_count": 41,
     "metadata": {},
     "output_type": "execute_result"
    }
   ],
   "source": [
    "tarih = tarih.astype(\"datetime64[ns]\")\n",
    "tarih.dtype"
   ]
  },
  {
   "cell_type": "markdown",
   "id": "7a1a7460-5637-475c-a8d6-264d3fc81422",
   "metadata": {},
   "source": [
    "## matrislerde slice"
   ]
  },
  {
   "cell_type": "code",
   "execution_count": 44,
   "id": "e0af00de-66a3-47aa-9e09-5ca2f5d98f3c",
   "metadata": {},
   "outputs": [
    {
     "data": {
      "text/plain": [
       "array([[ 1,  2,  3,  4],\n",
       "       [ 5,  6,  7,  8],\n",
       "       [ 9, 10, 11, 12],\n",
       "       [13, 14, 15, 16]])"
      ]
     },
     "execution_count": 44,
     "metadata": {},
     "output_type": "execute_result"
    }
   ],
   "source": [
    "matris=np.array([[1,2,3,4],[5,6,7,8],[9,10,11,12],[13,14,15,16]])\n",
    "matris"
   ]
  },
  {
   "cell_type": "code",
   "execution_count": 45,
   "id": "c36b80df-66d9-4a6d-90ad-b09bc84e8f75",
   "metadata": {},
   "outputs": [
    {
     "data": {
      "text/plain": [
       "array([1, 2, 3, 4])"
      ]
     },
     "execution_count": 45,
     "metadata": {},
     "output_type": "execute_result"
    }
   ],
   "source": [
    "matris[0]"
   ]
  },
  {
   "cell_type": "code",
   "execution_count": 46,
   "id": "de1565cc-bdee-41a5-96e2-8bd22753dce3",
   "metadata": {},
   "outputs": [
    {
     "data": {
      "text/plain": [
       "array([[ 5,  6,  7,  8],\n",
       "       [ 9, 10, 11, 12]])"
      ]
     },
     "execution_count": 46,
     "metadata": {},
     "output_type": "execute_result"
    }
   ],
   "source": [
    "matris[1:3]"
   ]
  },
  {
   "cell_type": "code",
   "execution_count": 47,
   "id": "a9764c3e-7a55-444b-bec1-7a0de9890692",
   "metadata": {},
   "outputs": [
    {
     "data": {
      "text/plain": [
       "array([[ 1],\n",
       "       [ 5],\n",
       "       [ 9],\n",
       "       [13]])"
      ]
     },
     "execution_count": 47,
     "metadata": {},
     "output_type": "execute_result"
    }
   ],
   "source": [
    "matris[0:4,0:1]"
   ]
  },
  {
   "cell_type": "code",
   "execution_count": 49,
   "id": "9c7e9d2c-c144-44ff-a1df-7f49eb8631d1",
   "metadata": {},
   "outputs": [
    {
     "data": {
      "text/plain": [
       "array([[ 2,  3],\n",
       "       [ 6,  7],\n",
       "       [10, 11],\n",
       "       [14, 15]])"
      ]
     },
     "execution_count": 49,
     "metadata": {},
     "output_type": "execute_result"
    }
   ],
   "source": [
    "matris[0:4,1:3]"
   ]
  },
  {
   "cell_type": "markdown",
   "id": "63633a90-6009-4451-90e7-c4a9c343b9d2",
   "metadata": {},
   "source": [
    "## random matris"
   ]
  },
  {
   "cell_type": "code",
   "execution_count": 50,
   "id": "903fac3f-e6e0-410f-ace6-2994c0eb8eb6",
   "metadata": {},
   "outputs": [
    {
     "data": {
      "text/plain": [
       "array([[2, 0, 3, 4],\n",
       "       [4, 1, 2, 4],\n",
       "       [2, 4, 3, 3],\n",
       "       [2, 1, 3, 1]])"
      ]
     },
     "execution_count": 50,
     "metadata": {},
     "output_type": "execute_result"
    }
   ],
   "source": [
    "np.random.randint(0,5,(4,4))"
   ]
  },
  {
   "cell_type": "code",
   "execution_count": 51,
   "id": "dcde8436-1769-411b-a2ac-deea7b7976ba",
   "metadata": {},
   "outputs": [
    {
     "data": {
      "text/plain": [
       "array([[0.5, 0.1, 0.6, 0.9],\n",
       "       [0.9, 0.6, 0.9, 0.1],\n",
       "       [0.7, 0.2, 0.3, 0.4],\n",
       "       [0.7, 0.2, 0.8, 0.6]])"
      ]
     },
     "execution_count": 51,
     "metadata": {},
     "output_type": "execute_result"
    }
   ],
   "source": [
    "np.random.randint(0,10,(4,4))/10"
   ]
  },
  {
   "cell_type": "code",
   "execution_count": 52,
   "id": "7fa426d3-b448-4692-9a80-eefa84ad06c2",
   "metadata": {},
   "outputs": [
    {
     "data": {
      "text/plain": [
       "range(0, 1000000)"
      ]
     },
     "execution_count": 52,
     "metadata": {},
     "output_type": "execute_result"
    }
   ],
   "source": [
    "liste = [1,2,3,4,5,6]\n",
    "range(1000000)"
   ]
  },
  {
   "cell_type": "code",
   "execution_count": 53,
   "id": "c6198014-9631-4280-988a-79ccdf617639",
   "metadata": {},
   "outputs": [
    {
     "data": {
      "text/plain": [
       "array([     0,      1,      2, ..., 999997, 999998, 999999])"
      ]
     },
     "execution_count": 53,
     "metadata": {},
     "output_type": "execute_result"
    }
   ],
   "source": [
    "milyon = np.arange(1000000)\n",
    "milyon"
   ]
  },
  {
   "cell_type": "code",
   "execution_count": 54,
   "id": "345eed9b-ce32-436c-abe1-0881434d0f8c",
   "metadata": {},
   "outputs": [
    {
     "data": {
      "text/plain": [
       "array([0, 1, 2, 3, 4, 5, 6, 7, 8, 9])"
      ]
     },
     "execution_count": 54,
     "metadata": {},
     "output_type": "execute_result"
    }
   ],
   "source": [
    "np.arange(10)"
   ]
  },
  {
   "cell_type": "code",
   "execution_count": 55,
   "id": "fb44c5eb-666f-4875-9525-2f4aef343953",
   "metadata": {},
   "outputs": [
    {
     "data": {
      "text/plain": [
       "array([5, 6, 7, 8, 9])"
      ]
     },
     "execution_count": 55,
     "metadata": {},
     "output_type": "execute_result"
    }
   ],
   "source": [
    "np.arange(5,10)"
   ]
  },
  {
   "cell_type": "code",
   "execution_count": 56,
   "id": "ac036fd5-3736-4c5a-b661-937c56faf221",
   "metadata": {},
   "outputs": [
    {
     "data": {
      "text/plain": [
       "array([ 1,  4,  7, 10, 13, 16, 19])"
      ]
     },
     "execution_count": 56,
     "metadata": {},
     "output_type": "execute_result"
    }
   ],
   "source": [
    "np.arange(1,20,3)"
   ]
  },
  {
   "cell_type": "code",
   "execution_count": 63,
   "id": "ab5ce59a-05eb-48d8-adf5-341aeccdb0ef",
   "metadata": {},
   "outputs": [
    {
     "name": "stdout",
     "output_type": "stream",
     "text": [
      "[ 5.   8.5 12.  15.5 19.  22.5 26.  29.5]\n",
      "3.5\n"
     ]
    }
   ],
   "source": [
    "liste = np.arange(5,31,3.5)\n",
    "print(liste)\n",
    "print(liste[1]-liste[0])"
   ]
  },
  {
   "cell_type": "code",
   "execution_count": 64,
   "id": "3ebb2721-bb72-42f3-810c-87f1003b7ea1",
   "metadata": {},
   "outputs": [
    {
     "data": {
      "text/plain": [
       "array([ 5.        ,  6.42857143,  7.85714286,  9.28571429, 10.71428571,\n",
       "       12.14285714, 13.57142857, 15.        , 16.42857143, 17.85714286,\n",
       "       19.28571429, 20.71428571, 22.14285714, 23.57142857, 25.        ])"
      ]
     },
     "execution_count": 64,
     "metadata": {},
     "output_type": "execute_result"
    }
   ],
   "source": [
    "bol = np.linspace(5,25,15)\n",
    "bol"
   ]
  },
  {
   "cell_type": "code",
   "execution_count": 65,
   "id": "8913285c-90bf-44f5-a2e5-ee1a66d2df43",
   "metadata": {},
   "outputs": [
    {
     "data": {
      "text/plain": [
       "1.4285714285714288"
      ]
     },
     "execution_count": 65,
     "metadata": {},
     "output_type": "execute_result"
    }
   ],
   "source": [
    "bol[6]-bol[5]"
   ]
  },
  {
   "cell_type": "code",
   "execution_count": null,
   "id": "cab2d589-614e-46d8-b6ec-bdfa4568ece3",
   "metadata": {},
   "outputs": [],
   "source": []
  }
 ],
 "metadata": {
  "kernelspec": {
   "display_name": "Python 3 (ipykernel)",
   "language": "python",
   "name": "python3"
  },
  "language_info": {
   "codemirror_mode": {
    "name": "ipython",
    "version": 3
   },
   "file_extension": ".py",
   "mimetype": "text/x-python",
   "name": "python",
   "nbconvert_exporter": "python",
   "pygments_lexer": "ipython3",
   "version": "3.10.16"
  }
 },
 "nbformat": 4,
 "nbformat_minor": 5
}
